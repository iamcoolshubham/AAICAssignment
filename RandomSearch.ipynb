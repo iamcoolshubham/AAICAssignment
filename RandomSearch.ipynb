{
 "cells": [
  {
   "cell_type": "code",
   "execution_count": 1,
   "metadata": {},
   "outputs": [],
   "source": [
    "from sklearn.datasets import make_classification\n",
    "from sklearn.model_selection import train_test_split\n",
    "from sklearn.preprocessing import StandardScaler\n",
    "import numpy\n",
    "from tqdm import tqdm\n",
    "import numpy as np\n",
    "from sklearn.metrics.pairwise import euclidean_distances\n",
    "x,y = make_classification(n_samples=10000, n_features=2, n_informative=2, n_redundant= 0, n_clusters_per_class=1, random_state=60)\n",
    "X_train, X_test, Y_train, Y_test = train_test_split(x,y,stratify=y,random_state=42)"
   ]
  },
  {
   "cell_type": "code",
   "execution_count": 2,
   "metadata": {},
   "outputs": [],
   "source": [
    "import pandas as pd\n",
    "import matplotlib.pyplot as plt"
   ]
  },
  {
   "cell_type": "code",
   "execution_count": 3,
   "metadata": {},
   "outputs": [],
   "source": [
    "df_train=pd.DataFrame(X_train,columns=[\"feature1\",\"feature2\"])\n",
    "df_test=pd.DataFrame(X_test,columns=[\"feature1\",\"feature2\"])\n",
    "df_train['output']=Y_train\n",
    "df_test['output']=Y_test"
   ]
  },
  {
   "cell_type": "code",
   "execution_count": 4,
   "metadata": {},
   "outputs": [
    {
     "data": {
      "text/html": [
       "<div>\n",
       "<style scoped>\n",
       "    .dataframe tbody tr th:only-of-type {\n",
       "        vertical-align: middle;\n",
       "    }\n",
       "\n",
       "    .dataframe tbody tr th {\n",
       "        vertical-align: top;\n",
       "    }\n",
       "\n",
       "    .dataframe thead th {\n",
       "        text-align: right;\n",
       "    }\n",
       "</style>\n",
       "<table border=\"1\" class=\"dataframe\">\n",
       "  <thead>\n",
       "    <tr style=\"text-align: right;\">\n",
       "      <th></th>\n",
       "      <th>feature1</th>\n",
       "      <th>feature2</th>\n",
       "      <th>output</th>\n",
       "    </tr>\n",
       "  </thead>\n",
       "  <tbody>\n",
       "    <tr>\n",
       "      <th>0</th>\n",
       "      <td>0.452671</td>\n",
       "      <td>-1.423813</td>\n",
       "      <td>0</td>\n",
       "    </tr>\n",
       "    <tr>\n",
       "      <th>1</th>\n",
       "      <td>0.616964</td>\n",
       "      <td>-0.004190</td>\n",
       "      <td>0</td>\n",
       "    </tr>\n",
       "    <tr>\n",
       "      <th>2</th>\n",
       "      <td>-1.807080</td>\n",
       "      <td>-1.344996</td>\n",
       "      <td>1</td>\n",
       "    </tr>\n",
       "    <tr>\n",
       "      <th>3</th>\n",
       "      <td>-0.325957</td>\n",
       "      <td>-0.394067</td>\n",
       "      <td>1</td>\n",
       "    </tr>\n",
       "    <tr>\n",
       "      <th>4</th>\n",
       "      <td>-0.400938</td>\n",
       "      <td>-0.414505</td>\n",
       "      <td>1</td>\n",
       "    </tr>\n",
       "  </tbody>\n",
       "</table>\n",
       "</div>"
      ],
      "text/plain": [
       "   feature1  feature2  output\n",
       "0  0.452671 -1.423813       0\n",
       "1  0.616964 -0.004190       0\n",
       "2 -1.807080 -1.344996       1\n",
       "3 -0.325957 -0.394067       1\n",
       "4 -0.400938 -0.414505       1"
      ]
     },
     "execution_count": 4,
     "metadata": {},
     "output_type": "execute_result"
    }
   ],
   "source": [
    "df_train.head()"
   ]
  },
  {
   "cell_type": "code",
   "execution_count": 5,
   "metadata": {},
   "outputs": [
    {
     "data": {
      "text/html": [
       "<div>\n",
       "<style scoped>\n",
       "    .dataframe tbody tr th:only-of-type {\n",
       "        vertical-align: middle;\n",
       "    }\n",
       "\n",
       "    .dataframe tbody tr th {\n",
       "        vertical-align: top;\n",
       "    }\n",
       "\n",
       "    .dataframe thead th {\n",
       "        text-align: right;\n",
       "    }\n",
       "</style>\n",
       "<table border=\"1\" class=\"dataframe\">\n",
       "  <thead>\n",
       "    <tr style=\"text-align: right;\">\n",
       "      <th></th>\n",
       "      <th>feature1</th>\n",
       "      <th>feature2</th>\n",
       "      <th>output</th>\n",
       "    </tr>\n",
       "  </thead>\n",
       "  <tbody>\n",
       "    <tr>\n",
       "      <th>0</th>\n",
       "      <td>1.561438</td>\n",
       "      <td>-0.186301</td>\n",
       "      <td>0</td>\n",
       "    </tr>\n",
       "    <tr>\n",
       "      <th>1</th>\n",
       "      <td>-0.197549</td>\n",
       "      <td>-0.297955</td>\n",
       "      <td>1</td>\n",
       "    </tr>\n",
       "    <tr>\n",
       "      <th>2</th>\n",
       "      <td>0.863781</td>\n",
       "      <td>-2.178567</td>\n",
       "      <td>0</td>\n",
       "    </tr>\n",
       "    <tr>\n",
       "      <th>3</th>\n",
       "      <td>-0.683693</td>\n",
       "      <td>-0.475869</td>\n",
       "      <td>1</td>\n",
       "    </tr>\n",
       "    <tr>\n",
       "      <th>4</th>\n",
       "      <td>-2.156478</td>\n",
       "      <td>-1.561213</td>\n",
       "      <td>1</td>\n",
       "    </tr>\n",
       "  </tbody>\n",
       "</table>\n",
       "</div>"
      ],
      "text/plain": [
       "   feature1  feature2  output\n",
       "0  1.561438 -0.186301       0\n",
       "1 -0.197549 -0.297955       1\n",
       "2  0.863781 -2.178567       0\n",
       "3 -0.683693 -0.475869       1\n",
       "4 -2.156478 -1.561213       1"
      ]
     },
     "execution_count": 5,
     "metadata": {},
     "output_type": "execute_result"
    }
   ],
   "source": [
    "df_test.head()"
   ]
  },
  {
   "cell_type": "code",
   "execution_count": 6,
   "metadata": {},
   "outputs": [],
   "source": [
    "from sklearn.metrics import accuracy_score"
   ]
  },
  {
   "cell_type": "code",
   "execution_count": 7,
   "metadata": {},
   "outputs": [],
   "source": [
    "from sklearn.neighbors import KNeighborsClassifier\n",
    "neigh=KNeighborsClassifier()"
   ]
  },
  {
   "cell_type": "code",
   "execution_count": 53,
   "metadata": {},
   "outputs": [],
   "source": [
    "\n",
    "import random\n",
    "def RandomSearchCV(fold):\n",
    "    param=set()\n",
    "    n=int(len(X_train)/fold)\n",
    "    count=0\n",
    "    while(count!=15):\n",
    "        x=int(random.uniform(0,50))\n",
    "        param.add(x)  \n",
    "        count=len(list(param))\n",
    "        param=set(param)\n",
    "        \n",
    "      \n",
    "    param=sorted(list(param))\n",
    "    train_score=list()\n",
    "    test_score=list()\n",
    "    \n",
    "    \n",
    "    for i in param:\n",
    "        train_fold=[]\n",
    "        test_fold=[]\n",
    "        \n",
    "        for j in range(fold):\n",
    "            x=int(random.uniform(1,35))\n",
    "            indices=[l for l in range(len(X_train))]\n",
    "            test_indices=[l for l in range(j*n,j*n+n)]\n",
    "            train_indices=list(set(indices)-set(test_indices))\n",
    "            x_train=X_train[train_indices]\n",
    "            x_test=X_train[test_indices]\n",
    "            y_train=Y_train[train_indices]\n",
    "            y_test=Y_train[test_indices]\n",
    "            neigh.n_neighbors=i\n",
    "            neigh.fit(x_train,y_train)\n",
    "            y_predict=neigh.predict(x_test)\n",
    "            test_fold.append(accuracy_score(y_test,y_predict))\n",
    "            y_predict=neigh.predict(x_train)\n",
    "            train_fold.append(accuracy_score(y_train,y_predict))\n",
    "        avg=np.mean(test_fold)\n",
    "        test_score.append(avg)\n",
    "        avg=np.mean(train_fold)\n",
    "        train_score.append(avg)\n",
    "    #print(train_score)\n",
    "    #print(test_score)\n",
    "    return param,train_score,test_score\n",
    "    \n",
    "            \n",
    "        "
   ]
  },
  {
   "cell_type": "code",
   "execution_count": 54,
   "metadata": {},
   "outputs": [],
   "source": [
    "import warnings\n",
    "warnings.filterwarnings(\"ignore\")\n",
    "fold=3\n",
    "param,train_score,test_score=RandomSearchCV(fold)"
   ]
  },
  {
   "cell_type": "code",
   "execution_count": 55,
   "metadata": {},
   "outputs": [
    {
     "name": "stdout",
     "output_type": "stream",
     "text": [
      "[0.9624666666666667, 0.9611333333333333, 0.9596666666666667, 0.9592, 0.9589333333333334, 0.9575999999999999, 0.9574666666666666, 0.9579333333333334, 0.9576666666666666, 0.9578666666666665, 0.9582666666666667, 0.9584, 0.9578000000000001, 0.9579999999999999, 0.9581333333333334]\n"
     ]
    }
   ],
   "source": [
    "print(train_score)"
   ]
  },
  {
   "cell_type": "code",
   "execution_count": 56,
   "metadata": {},
   "outputs": [
    {
     "name": "stdout",
     "output_type": "stream",
     "text": [
      "[0.9505333333333335, 0.9510666666666667, 0.9540000000000001, 0.9544, 0.9540000000000001, 0.9546666666666667, 0.9553333333333334, 0.9561333333333333, 0.9553333333333334, 0.9558666666666666, 0.9558666666666666, 0.9562666666666667, 0.9565333333333333, 0.9565333333333333, 0.9558666666666666]\n"
     ]
    }
   ],
   "source": [
    "print(test_score)"
   ]
  },
  {
   "cell_type": "code",
   "execution_count": 57,
   "metadata": {},
   "outputs": [
    {
     "data": {
      "text/plain": [
       "<matplotlib.legend.Legend at 0x15e4c02d2e8>"
      ]
     },
     "execution_count": 57,
     "metadata": {},
     "output_type": "execute_result"
    },
    {
     "data": {
      "image/png": "[encoded data removed]",
      "text/plain": [
       "<Figure size 432x288 with 1 Axes>"
      ]
     },
     "metadata": {},
     "output_type": "display_data"
    }
   ],
   "source": [
    "plt.plot(param,train_score, label='train cruve')\n",
    "plt.plot(param,test_score, label='test cruve')\n",
    "plt.title('Hyper-parameter VS accuracy plot')\n",
    "plt.legend()"
   ]
  },
  {
   "cell_type": "code",
   "execution_count": 58,
   "metadata": {},
   "outputs": [],
   "source": [
    "index=test_score.index(max(test_score))"
   ]
  },
  {
   "cell_type": "code",
   "execution_count": 59,
   "metadata": {},
   "outputs": [
    {
     "name": "stdout",
     "output_type": "stream",
     "text": [
      "12\n"
     ]
    }
   ],
   "source": [
    "best_k=param[index]\n",
    "print(index)"
   ]
  },
  {
   "cell_type": "code",
   "execution_count": 60,
   "metadata": {},
   "outputs": [
    {
     "name": "stdout",
     "output_type": "stream",
     "text": [
      "45\n"
     ]
    }
   ],
   "source": [
    "print(best_k)"
   ]
  },
  {
   "cell_type": "code",
   "execution_count": 61,
   "metadata": {},
   "outputs": [
    {
     "name": "stdout",
     "output_type": "stream",
     "text": [
      "[4, 6, 11, 13, 15, 18, 31, 34, 35, 38, 41, 44, 45, 48, 49]\n"
     ]
    }
   ],
   "source": [
    "print(param)"
   ]
  },
  {
   "cell_type": "code",
   "execution_count": 62,
   "metadata": {},
   "outputs": [],
   "source": [
    "# understanding this code line by line is not that importent \n",
    "def plot_decision_boundary(X1, X2, y, clf):\n",
    "        # Create color maps\n",
    "    cmap_light = ListedColormap(['#FFAAAA', '#AAFFAA', '#AAAAFF'])\n",
    "    cmap_bold = ListedColormap(['#FF0000', '#00FF00', '#0000FF'])\n",
    "\n",
    "    x_min, x_max = X1.min() - 1, X1.max() + 1\n",
    "    y_min, y_max = X2.min() - 1, X2.max() + 1\n",
    "    \n",
    "    xx, yy = np.meshgrid(np.arange(x_min, x_max, 0.02), np.arange(y_min, y_max, 0.02))\n",
    "    Z = clf.predict(np.c_[xx.ravel(), yy.ravel()])\n",
    "    Z = Z.reshape(xx.shape)\n",
    "\n",
    "    plt.figure()\n",
    "    plt.pcolormesh(xx, yy, Z, cmap=cmap_light)\n",
    "    # Plot also the training points\n",
    "    plt.scatter(X1, X2, c=y, cmap=cmap_bold)\n",
    "    \n",
    "    plt.xlim(xx.min(), xx.max())\n",
    "    plt.ylim(yy.min(), yy.max())\n",
    "    plt.title(\"2-Class classification (k = %i)\" % (clf.n_neighbors))\n",
    "    plt.show()"
   ]
  },
  {
   "cell_type": "code",
   "execution_count": 64,
   "metadata": {},
   "outputs": [
    {
     "data": {
      "image/png": "[encoded data removed]",
      "text/plain": [
       "<Figure size 432x288 with 1 Axes>"
      ]
     },
     "metadata": {},
     "output_type": "display_data"
    }
   ],
   "source": [
    "from matplotlib.colors import ListedColormap\n",
    "neigh = KNeighborsClassifier(n_neighbors = best_k)\n",
    "neigh.fit(X_train, Y_train)\n",
    "plot_decision_boundary(X_train[:, 0], X_train[:, 1], Y_train, neigh)"
   ]
  },
  {
   "cell_type": "code",
   "execution_count": null,
   "metadata": {},
   "outputs": [],
   "source": []
  }
 ],
 "metadata": {
  "kernelspec": {
   "display_name": "Python 3",
   "language": "python",
   "name": "python3"
  },
  "language_info": {
   "codemirror_mode": {
    "name": "ipython",
    "version": 3
   },
   "file_extension": ".py",
   "mimetype": "text/x-python",
   "name": "python",
   "nbconvert_exporter": "python",
   "pygments_lexer": "ipython3",
   "version": "3.6.5"
  }
 },
 "nbformat": 4,
 "nbformat_minor": 2
}
