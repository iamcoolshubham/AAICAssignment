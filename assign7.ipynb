{
 "cells": [
  {
   "cell_type": "markdown",
   "metadata": {},
   "source": [
    "# Question 1"
   ]
  },
  {
   "cell_type": "code",
   "execution_count": 2,
   "metadata": {},
   "outputs": [],
   "source": [
    "import pandas as pd"
   ]
  },
  {
   "cell_type": "code",
   "execution_count": 3,
   "metadata": {},
   "outputs": [],
   "source": [
    "import numpy as np"
   ]
  },
  {
   "cell_type": "code",
   "execution_count": 4,
   "metadata": {},
   "outputs": [],
   "source": [
    "df=pd.read_csv(\"5_a.csv\")"
   ]
  },
  {
   "cell_type": "code",
   "execution_count": 5,
   "metadata": {},
   "outputs": [
    {
     "data": {
      "text/html": [
       "<div>\n",
       "<style scoped>\n",
       "    .dataframe tbody tr th:only-of-type {\n",
       "        vertical-align: middle;\n",
       "    }\n",
       "\n",
       "    .dataframe tbody tr th {\n",
       "        vertical-align: top;\n",
       "    }\n",
       "\n",
       "    .dataframe thead th {\n",
       "        text-align: right;\n",
       "    }\n",
       "</style>\n",
       "<table border=\"1\" class=\"dataframe\">\n",
       "  <thead>\n",
       "    <tr style=\"text-align: right;\">\n",
       "      <th></th>\n",
       "      <th>y</th>\n",
       "      <th>proba</th>\n",
       "    </tr>\n",
       "  </thead>\n",
       "  <tbody>\n",
       "    <tr>\n",
       "      <th>0</th>\n",
       "      <td>1.0</td>\n",
       "      <td>0.637387</td>\n",
       "    </tr>\n",
       "    <tr>\n",
       "      <th>1</th>\n",
       "      <td>1.0</td>\n",
       "      <td>0.635165</td>\n",
       "    </tr>\n",
       "    <tr>\n",
       "      <th>2</th>\n",
       "      <td>1.0</td>\n",
       "      <td>0.766586</td>\n",
       "    </tr>\n",
       "    <tr>\n",
       "      <th>3</th>\n",
       "      <td>1.0</td>\n",
       "      <td>0.724564</td>\n",
       "    </tr>\n",
       "    <tr>\n",
       "      <th>4</th>\n",
       "      <td>1.0</td>\n",
       "      <td>0.889199</td>\n",
       "    </tr>\n",
       "  </tbody>\n",
       "</table>\n",
       "</div>"
      ],
      "text/plain": [
       "     y     proba\n",
       "0  1.0  0.637387\n",
       "1  1.0  0.635165\n",
       "2  1.0  0.766586\n",
       "3  1.0  0.724564\n",
       "4  1.0  0.889199"
      ]
     },
     "execution_count": 5,
     "metadata": {},
     "output_type": "execute_result"
    }
   ],
   "source": [
    "df.head()"
   ]
  },
  {
   "cell_type": "code",
   "execution_count": 6,
   "metadata": {},
   "outputs": [
    {
     "data": {
      "text/plain": [
       "y        10000\n",
       "proba    10000\n",
       "dtype: int64"
      ]
     },
     "execution_count": 6,
     "metadata": {},
     "output_type": "execute_result"
    }
   ],
   "source": [
    "df[df.y==1.0].count()"
   ]
  },
  {
   "cell_type": "code",
   "execution_count": 7,
   "metadata": {},
   "outputs": [
    {
     "data": {
      "text/plain": [
       "y        10100\n",
       "proba    10100\n",
       "dtype: int64"
      ]
     },
     "execution_count": 7,
     "metadata": {},
     "output_type": "execute_result"
    }
   ],
   "source": [
    "df[df.proba>0.5].count()"
   ]
  },
  {
   "cell_type": "code",
   "execution_count": 8,
   "metadata": {},
   "outputs": [],
   "source": [
    "label=list(df.y)"
   ]
  },
  {
   "cell_type": "code",
   "execution_count": 9,
   "metadata": {},
   "outputs": [],
   "source": [
    "predicted_label=list(df.proba)"
   ]
  },
  {
   "cell_type": "code",
   "execution_count": 10,
   "metadata": {},
   "outputs": [],
   "source": [
    "for i in range(len(predicted_label)):\n",
    "    if predicted_label[i]<0.5:\n",
    "        predicted_label[i]=0;\n",
    "    else:\n",
    "        predicted_label[i]=1"
   ]
  },
  {
   "cell_type": "code",
   "execution_count": 11,
   "metadata": {},
   "outputs": [],
   "source": [
    "true_positive,true_negative,false_positive,false_negative=0,0,0,0"
   ]
  },
  {
   "cell_type": "code",
   "execution_count": 12,
   "metadata": {},
   "outputs": [],
   "source": [
    "for i in range(len(label)):\n",
    "    if(label[i]==0 and predicted_label[i]==0):\n",
    "        true_negative+=1\n",
    "    elif(label[i]==0 and predicted_label[i]==1):\n",
    "        false_positive+=1\n",
    "    elif(label[i]==1 and predicted_label[i]==0):\n",
    "        false_negative+=1\n",
    "    else:\n",
    "        true_positive+=1"
   ]
  },
  {
   "cell_type": "code",
   "execution_count": 13,
   "metadata": {},
   "outputs": [
    {
     "name": "stdout",
     "output_type": "stream",
     "text": [
      "True Positive: 10000\n",
      "True Negative: 0\n",
      "False Positive: 100\n",
      "False Negative: 0\n"
     ]
    }
   ],
   "source": [
    "print(\"True Positive: \"+str(true_positive))\n",
    "print(\"True Negative: \"+str(true_negative))\n",
    "print(\"False Positive: \"+str(false_positive))\n",
    "print(\"False Negative: \"+str(false_negative))"
   ]
  },
  {
   "cell_type": "code",
   "execution_count": 14,
   "metadata": {},
   "outputs": [],
   "source": [
    "precision=true_positive/(true_positive+false_positive)\n",
    "recall=true_positive/(true_positive+false_negative)"
   ]
  },
  {
   "cell_type": "code",
   "execution_count": 15,
   "metadata": {},
   "outputs": [
    {
     "name": "stdout",
     "output_type": "stream",
     "text": [
      "Precision: 0.9900990099009901\n",
      "Recall: 1.0\n"
     ]
    }
   ],
   "source": [
    "print(\"Precision: \"+str(precision))\n",
    "print(\"Recall: \"+str(recall))"
   ]
  },
  {
   "cell_type": "code",
   "execution_count": 16,
   "metadata": {},
   "outputs": [
    {
     "name": "stdout",
     "output_type": "stream",
     "text": [
      "F1 Score: 0.9950248756218906\n"
     ]
    }
   ],
   "source": [
    "F1_score=2*precision*recall/(precision+recall)\n",
    "print(\"F1 Score: \"+str(F1_score))"
   ]
  },
  {
   "cell_type": "code",
   "execution_count": 17,
   "metadata": {},
   "outputs": [],
   "source": [
    "count=0\n",
    "for i in range(len(label)):\n",
    "    if(label[i]==predicted_label[i]):\n",
    "        count=count+1"
   ]
  },
  {
   "cell_type": "code",
   "execution_count": 18,
   "metadata": {},
   "outputs": [
    {
     "name": "stdout",
     "output_type": "stream",
     "text": [
      "Accuracy Score: 0.9900990099009901\n"
     ]
    }
   ],
   "source": [
    "print(\"Accuracy Score: \"+str(count/len(label)))"
   ]
  },
  {
   "cell_type": "code",
   "execution_count": 19,
   "metadata": {},
   "outputs": [],
   "source": [
    "proba=df['proba']\n"
   ]
  },
  {
   "cell_type": "code",
   "execution_count": 20,
   "metadata": {},
   "outputs": [],
   "source": [
    "label=df['y']\n"
   ]
  },
  {
   "cell_type": "code",
   "execution_count": 21,
   "metadata": {},
   "outputs": [],
   "source": [
    "new=[[0 for i in range(2)]for i in range(len(label))]"
   ]
  },
  {
   "cell_type": "code",
   "execution_count": 22,
   "metadata": {},
   "outputs": [],
   "source": [
    "for i in range(len(label)):\n",
    "    new[i][0]=proba[i]\n",
    "    new[i][1]=label[i]"
   ]
  },
  {
   "cell_type": "code",
   "execution_count": 23,
   "metadata": {},
   "outputs": [],
   "source": [
    "for i in range(len(label)):\n",
    "    for j in range(0, len(label)-i-1):  \n",
    "            if (new[j][0] > new[j + 1][0]):  \n",
    "                temp = new[j]  \n",
    "                new[j]= new[j + 1]  \n",
    "                new[j + 1]= temp  "
   ]
  },
  {
   "cell_type": "code",
   "execution_count": 24,
   "metadata": {},
   "outputs": [],
   "source": [
    "for i in range(len(label)):\n",
    "    proba[i]=new[i][0]\n",
    "    label[i]=new[i][1]"
   ]
  },
  {
   "cell_type": "code",
   "execution_count": 25,
   "metadata": {},
   "outputs": [],
   "source": [
    "proba=np.array(proba)\n",
    "label=np.array(label)"
   ]
  },
  {
   "cell_type": "code",
   "execution_count": 26,
   "metadata": {},
   "outputs": [],
   "source": [
    "tpr=list()\n",
    "fpr=list()"
   ]
  },
  {
   "cell_type": "code",
   "execution_count": 27,
   "metadata": {},
   "outputs": [],
   "source": [
    "from tqdm import tqdm"
   ]
  },
  {
   "cell_type": "code",
   "execution_count": 33,
   "metadata": {},
   "outputs": [
    {
     "name": "stderr",
     "output_type": "stream",
     "text": [
      "100%|████████████████████████████████████████████████████████████████████████████| 10100/10100 [03:07<00:00, 53.79it/s]\n"
     ]
    }
   ],
   "source": [
    "for i in tqdm(proba):\n",
    "    tou=i\n",
    "    new_label=np.array(df.proba)\n",
    "    for j in range(len(new_label)):\n",
    "        if(new_label[j]<tou):\n",
    "            new_label[j]=0\n",
    "        else:\n",
    "            new_label[j]=1\n",
    "    true_positive,true_negative,false_positive,false_negative=0,0,0,0\n",
    "    for k in range(len(new_label)):\n",
    "        if(label[k]==1 and new_label[k]==1):\n",
    "            true_positive+=1\n",
    "        elif(label[k]==1 and new_label[k]==0):\n",
    "            false_negative+=1\n",
    "        elif(label[k]==0 and new_label[k]==1):\n",
    "            false_positive+=1\n",
    "        else:\n",
    "            true_negative+=1\n",
    "    tpr.append(true_positive/(true_positive+false_negative))\n",
    "    fpr.append(false_positive/(false_positive+true_negative))"
   ]
  },
  {
   "cell_type": "code",
   "execution_count": 29,
   "metadata": {},
   "outputs": [],
   "source": [
    "import matplotlib.pyplot as plt"
   ]
  },
  {
   "cell_type": "code",
   "execution_count": 30,
   "metadata": {},
   "outputs": [],
   "source": [
    "x=[i for i in range(-1,1001)]\n",
    "y=[i for i in range(-1,1001)]\n",
    "for i in range(len(x)):\n",
    "    x[i]=x[i]/1000\n",
    "    y[i]=y[i]/1000"
   ]
  },
  {
   "cell_type": "code",
   "execution_count": 31,
   "metadata": {},
   "outputs": [
    {
     "data": {
      "image/png": "[encoded data removed]",
      "text/plain": [
       "<Figure size 432x288 with 1 Axes>"
      ]
     },
     "metadata": {},
     "output_type": "display_data"
    }
   ],
   "source": [
    "plt.plot(sorted(fpr),sorted(tpr))\n",
    "plt.xlabel(\"False Positive Rate\")\n",
    "plt.ylabel(\"True Positive Rate\")\n",
    "plt.show()"
   ]
  },
  {
   "cell_type": "code",
   "execution_count": 32,
   "metadata": {},
   "outputs": [
    {
     "data": {
      "text/plain": [
       "0.48829900000000004"
      ]
     },
     "execution_count": 32,
     "metadata": {},
     "output_type": "execute_result"
    }
   ],
   "source": [
    "np.trapz(sorted(tpr),sorted(fpr))"
   ]
  },
  {
   "cell_type": "markdown",
   "metadata": {},
   "source": [
    "# Question 2"
   ]
  },
  {
   "cell_type": "code",
   "execution_count": 100,
   "metadata": {},
   "outputs": [],
   "source": [
    "df=pd.read_csv(\"5_b.csv\")"
   ]
  },
  {
   "cell_type": "code",
   "execution_count": 101,
   "metadata": {},
   "outputs": [
    {
     "data": {
      "text/html": [
       "<div>\n",
       "<style scoped>\n",
       "    .dataframe tbody tr th:only-of-type {\n",
       "        vertical-align: middle;\n",
       "    }\n",
       "\n",
       "    .dataframe tbody tr th {\n",
       "        vertical-align: top;\n",
       "    }\n",
       "\n",
       "    .dataframe thead th {\n",
       "        text-align: right;\n",
       "    }\n",
       "</style>\n",
       "<table border=\"1\" class=\"dataframe\">\n",
       "  <thead>\n",
       "    <tr style=\"text-align: right;\">\n",
       "      <th></th>\n",
       "      <th>y</th>\n",
       "      <th>proba</th>\n",
       "    </tr>\n",
       "  </thead>\n",
       "  <tbody>\n",
       "    <tr>\n",
       "      <th>0</th>\n",
       "      <td>0.0</td>\n",
       "      <td>0.281035</td>\n",
       "    </tr>\n",
       "    <tr>\n",
       "      <th>1</th>\n",
       "      <td>0.0</td>\n",
       "      <td>0.465152</td>\n",
       "    </tr>\n",
       "    <tr>\n",
       "      <th>2</th>\n",
       "      <td>0.0</td>\n",
       "      <td>0.352793</td>\n",
       "    </tr>\n",
       "    <tr>\n",
       "      <th>3</th>\n",
       "      <td>0.0</td>\n",
       "      <td>0.157818</td>\n",
       "    </tr>\n",
       "    <tr>\n",
       "      <th>4</th>\n",
       "      <td>0.0</td>\n",
       "      <td>0.276648</td>\n",
       "    </tr>\n",
       "  </tbody>\n",
       "</table>\n",
       "</div>"
      ],
      "text/plain": [
       "     y     proba\n",
       "0  0.0  0.281035\n",
       "1  0.0  0.465152\n",
       "2  0.0  0.352793\n",
       "3  0.0  0.157818\n",
       "4  0.0  0.276648"
      ]
     },
     "execution_count": 101,
     "metadata": {},
     "output_type": "execute_result"
    }
   ],
   "source": [
    "df.head()"
   ]
  },
  {
   "cell_type": "code",
   "execution_count": 102,
   "metadata": {},
   "outputs": [],
   "source": [
    "label=df.y"
   ]
  },
  {
   "cell_type": "code",
   "execution_count": 104,
   "metadata": {},
   "outputs": [
    {
     "name": "stdout",
     "output_type": "stream",
     "text": [
      "[0.28103452586590194, 0.4651517681088171, 0.3527929830180201, 0.1578180153970636, 0.2766476717350224, 0.19026003795357926, 0.3203283077054345, 0.4350131376634192, 0.2848489585673971, 0.42791898839439707, 0.2471653971912076, 0.21599843861610368, 0.2341036361489145, 0.3556147385586961, 0.41496881496897664, 0.37938032636601937, 0.4990048208421642, 0.13632303964363973, 0.4538547523018753, 0.1958339967198177, 0.4018914357024521, 0.378929471152997, 0.2718826167489721, 0.42098448288150414, 0.3913459918766132, 0.4578887401078434, 0.1841417316192832, 0.4644198619861372, 0.2103598809704244, 0.10868582074467473, 0.4830843536915973, 0.13992502738641766, 0.328347811370332, 0.3013975278075999, 0.17836953776758108, 0.38917648507052616, 0.11334174775830545, 0.3005751711935898, 0.1002421268327976, 0.18598317484957516, 0.3383107005895733, 0.4741711781623852, 0.545932326276939, 0.4677593890088872, 0.12392337197531247, 0.4025284381867067, 0.347692873824321, 0.17396133801995642, 0.3450195819296357, 0.23144892682831697, 0.3769892146734883, 0.2775570866697935, 0.18147494616073928, 0.3958095463514009, 0.1837335409254939, 0.2303814522837637, 0.3653680989799588, 0.124741906494487, 0.13245360752771745, 0.1132891880369363, 0.29735663177855903, 0.3942618407854939, 0.4254067466332061, 0.17784974608966453, 0.2721215472340589, 0.42275325283737775, 0.4240713023350372, 0.10335968536013014, 0.22143846644239235, 0.5040434911850614, 0.4914525524873934, 0.18818510839498653, 0.3420327285913152, 0.2446052043597669, 0.33004524552559383, 0.14347641746486356, 0.15163984474875591, 0.22558531131028065, 0.12997249174752146, 0.3937638978726572, 0.14268722868194572, 0.1133423929246038, 0.4346278008279941, 0.2715052233857071, 0.4430073206486823, 0.2287167391273285, 0.15521746574244086, 0.17569835834996028, 0.4065995944213248, 0.3837258491413245, 0.3194951197905096, 0.5031263377893571, 0.3478849033998708, 0.16605435914240116, 0.2967112584651246, 0.18684264854947413, 0.4869413123615802, 0.3314847513660551, 0.4191086386035491, 0.2909070429882247, 0.3388787792360609, 0.31737916018726353, 0.15205966466837922, 0.3632611637508526, 0.33908847527133745, 0.18007623414401822, 0.13381737383542605, 0.16133344778949646, 0.16855776131821765, 0.3228740118236413, 0.5901714464524004, 0.337755057399755, 0.4708733213731432, 0.24592948311270196, 0.3206155576772104, 0.17967528308676803, 0.1245440650465307, 0.13679175421812953, 0.4243170270091752, 0.1852408182983216, 0.5024604588957815, 0.18628235268062196, 0.4056195527037912, 0.32476179659439897, 0.2942545459419791, 0.1727776431944371, 0.20026417028246604, 0.4406181063608128, 0.3147747305703217, 0.2620381920737625, 0.26005674821729263, 0.12881431213727693, 0.3732034816760319, 0.19798517124481105, 0.1517933025090793, 0.4312894569278359, 0.18124389842566185, 0.17472147187331571, 0.4230323364870088, 0.22377562732671125, 0.3768585924021529, 0.2315756640472713, 0.2751143824505254, 0.4595920494392615, 0.13090096516146218, 0.289268494960943, 0.26426164650344364, 0.22872782981949585, 0.4287467835706784, 0.1062309155895304, 0.27745846174098504, 0.2601722616311177, 0.2503922536268437, 0.3518951810287646, 0.2325010899821332, 0.4399763278254992, 0.10152572088469894, 0.3516137847035964, 0.4401405774933178, 0.1339366932638235, 0.4533512406646237, 0.16631167878064518, 0.28218344634681514, 0.3444753795121072, 0.28209012658292515, 0.1764447742793505, 0.20894122256890296, 0.18982891910737956, 0.22135166657794095, 0.3316693265869953, 0.11976089486086065, 0.18252363069685465, 0.5062424574915707, 0.3967677032702808, 0.2170723671389764, 0.3434118119025005, 0.19006228989583585, 0.5027712140479329, 0.2622365587351099, 0.2872011189377689, 0.2350798806059061, 0.24970999987953305, 0.3676512220409904, 0.18172818175054728, 0.3599446701118073, 0.5018476169730697, 0.17947173183763865, 0.4418175771103894, 0.29185640878057595, 0.2411819654794532, 0.5624777769428778, 0.1798369984028378, 0.3345236334480212, 0.471075418379705, 0.4126343590645595, 0.4229702337966208, 0.3649366290603061, 0.5016394286712714, 0.3954377707512484, 0.3942332559877262, 0.3026038247038681, 0.4019849691297073, 0.1435902499052047, 0.118923133871642, 0.15754463147500958, 0.22316571879281255, 0.3733738604269393, 0.27972193485601904, 0.2501107617252609, 0.41058188612361296, 0.2695094001751326, 0.4661119046082833, 0.317745934867413, 0.4006336827964728, 0.4344524760222973, 0.14087797119986162, 0.4729415048323088, 0.2604980182688517, 0.27195098608038537, 0.25533685960753755, 0.460189390120719, 0.2233934788222889, 0.4183401148593273, 0.1800252712000568, 0.3960103995923711, 0.4017997664773028, 0.12962887887473304, 0.3607608193018635, 0.3622580657131905, 0.4847979895271716, 0.4667342857265907, 0.3315743924861512, 0.3705373359180486, 0.3813164840238473, 0.3640583101402656, 0.2150047871083952, 0.4337781033903524, 0.2921182146896868, 0.4485628769536147, 0.4194848725039195, 0.3807828646372176, 0.4952432943556534, 0.43754539292579775, 0.3387666617214399, 0.43070390554692495, 0.13021136292692148, 0.2860255017569212, 0.11484915807649705, 0.2433647324621947, 0.20746568578206595, 0.4244625056746312, 0.4887271089233939, 0.4216246469865577, 0.4780268714169124, 0.4165299095204603, 0.18823958924156514, 0.27397534676364066, 0.4931779482963461, 0.4331287597212787, 0.19522533326774494, 0.4868906005165303, 0.4648896957718337, 0.2768414312131803, 0.12769710136170406, 0.4076796803699903, 0.273600649897017, 0.14401514213981698, 0.1943299863955252, 0.3079703137133205, 0.19138671921399156, 0.24516881549350106, 0.4035867012105673, 0.2873977949285353, 0.2090626756631324, 0.11108176673106873, 0.13118730113741134, 0.4529650219087604, 0.2535184873287753, 0.3474442431772149, 0.3427542741258131, 0.16588992266163766, 0.28280517667840266, 0.43400002295007856, 0.4801443622166479, 0.21066132880103056, 0.33227138960591873, 0.2547987759142514, 0.4257580306950096, 0.4510269240042534, 0.3066016570323393, 0.15178214759360434, 0.3099163669892929, 0.437413766610702, 0.107806076106175, 0.21942336533069745, 0.4620367372360468, 0.4987297484748818, 0.19009629845309636, 0.1731626865429895, 0.13622389368990134, 0.11588354728853588, 0.14414961448521565, 0.12217239940632305, 0.4968622198355512, 0.4925541060073185, 0.1208135687502126, 0.4743306638532983, 0.4171747912630041, 0.15011024159449612, 0.3088783444532818, 0.2995042308774556, 0.3756721898813138, 0.3568047762520021, 0.10000141285578913, 0.3600588733620258, 0.4468274196949127, 0.17125116263510898, 0.3020957123884842, 0.29041719843379793, 0.4502359139730925, 0.2482638903341251, 0.24815922144807825, 0.5076718750394508, 0.2919869957016654, 0.4465372851114189, 0.11410238404232766, 0.2964257117963777, 0.2439949482523069, 0.1348315650794031, 0.3011541526347526, 0.23753116848979106, 0.2400347762554331, 0.3971186748085301, 0.19133955803400166, 0.1348627113209635, 0.19449384400366232, 0.5067784485023251, 0.443475386690381, 0.46467827355462105, 0.4352775963382259, 0.39613510897004345, 0.3161431145075011, 0.4327632588217473, 0.3622554365847549, 0.3540509099969249, 0.3949550770238557, 0.3332980300011952, 0.4746785488034517, 0.2748716008368313, 0.5515654901475906, 0.2982950497499164, 0.16397867437359365, 0.2661801513907765, 0.1035256260806958, 0.4870247945173378, 0.2403901777697225, 0.34486169890871043, 0.4376607293005794, 0.231363490326584, 0.17307982167923647, 0.33550092523104513, 0.1944573020995204, 0.481836179691815, 0.5078362883319086, 0.1194885342762708, 0.25918885236304146, 0.4004551653586276, 0.2325120425007008, 0.1980946022047822, 0.35134420290029045, 0.3376901632352245, 0.12326297859753432, 0.3542822181071783, 0.3861088326375859, 0.4208023558140783, 0.15690817322338171, 0.15632121783206726, 0.2994481452282579, 0.2427406165385476, 0.3532417154092894, 0.22230608280447076, 0.2633341100269667, 0.3833116974213737, 0.31149628662469586, 0.169863521974341, 0.2506805166269084, 0.3502256732008089, 0.3559769811363426, 0.16967715800403868, 0.3757057792218188, 0.19928141730337195, 0.2150796384362467, 0.3739694042953128, 0.19466995420480776, 0.1371245045159482, 0.5055505158913662, 0.2244977729428682, 0.16055141644394966, 0.3343197282029561, 0.23023560263649925, 0.16752138216732462, 0.2254045529566709, 0.4579920193711484, 0.4613995295564982, 0.4545987428058298, 0.3096737219969151, 0.2178001973204286, 0.34247039299325066, 0.3490860086596474, 0.2628831026493943, 0.1783951475635601, 0.44547751230930605, 0.1935992579609848, 0.3679313842150983, 0.4326714886946869, 0.4979346648713976, 0.4179135508788614, 0.372978476614434, 0.3910168901713197, 0.3408563843734037, 0.3500031194230873, 0.4348783395914804, 0.4114501072131697, 0.3226472866220411, 0.2550806273333488, 0.34981376027650296, 0.276408847165462, 0.4274748406164991, 0.4970552206516886, 0.2825211071303742, 0.3508107446684682, 0.3271897840807809, 0.4733938357540189, 0.4399246985761571, 0.3228536266874516, 0.2737346450656727, 0.1400814852642116, 0.15120608045688075, 0.29160588784194275, 0.27791345100271225, 0.22102553731848407, 0.502880121867511, 0.3428992913454798, 0.4569439627375677, 0.4721035931931761, 0.3164120690935557, 0.3679080108916948, 0.4184318689718042, 0.2958804817323938, 0.37101846371016334, 0.26671790181249183, 0.5091269802125662, 0.24174705118829504, 0.4856587702011322, 0.3980833298079485, 0.27615809539900216, 0.46171696633073606, 0.5091016451605007, 0.405824608517292, 0.2610713810063775, 0.4627225721337861, 0.32899000736286177, 0.1601560561827078, 0.2361506655926643, 0.3596256393924864, 0.3000825951165993, 0.17858484527238574, 0.2559894620057307, 0.3996084313336448, 0.4228986571587644, 0.20752948483879932, 0.5042342948179713, 0.4796680435517986, 0.3551498856808755, 0.366958369438472, 0.4213375516871375, 0.3925471468318573, 0.2989901551142857, 0.5084917204977278, 0.32162809011781257, 0.1307605791105714, 0.1074074033176647, 0.21957514041624926, 0.21932943099944094, 0.3459541233540059, 0.17830493723971194, 0.1576490268906713, 0.20291318540618455, 0.4273278383609139, 0.1999803986212093, 0.2271158532915173, 0.3584875516446342, 0.2636095124426884, 0.186843606794173, 0.3585028123898929, 0.3640492430410245, 0.17439881950755753, 0.44889103220046295, 0.4407877488412112, 0.24475473749355886, 0.10306646622158076, 0.2911206738518739, 0.4624854713917375, 0.29222771663232605, 0.4141197868961301, 0.3142445789807203, 0.3682289348962388, 0.17830753069550015, 0.40686117902714014, 0.2337811927403085, 0.1308462392238646, 0.2929261530550831, 0.14220770162052604, 0.4660222603663141, 0.30964185469624417, 0.10847593155904983, 0.17894653407905448, 0.1780010937990096, 0.37661375915281137, 0.3849571776226062, 0.17930108462230726, 0.4134272959538256, 0.1911128565095172, 0.4472786636390327, 0.2462080393133789, 0.18073505634861525, 0.4604294686504789, 0.3626480018170689, 0.3803974669629928, 0.2543704952290847, 0.21948136162803056, 0.4839228770919031, 0.19321530559400346, 0.2595702006738397, 0.17824990833704665, 0.43867496031299336, 0.34417883140880895, 0.2343389001384937, 0.4579346527493532, 0.4635665430560153, 0.4459564473995417, 0.3192211454218567, 0.1343428146431735, 0.3580606294493034, 0.10897030864019276, 0.3304834915945938, 0.27196866098153666, 0.21734046219033432, 0.30809241014866817, 0.3340429662542781, 0.26427088830865864, 0.2349430392106044, 0.2787866808571217, 0.20774385678038215, 0.3636625320429776, 0.22148479588892, 0.484662834510575, 0.330940403983995, 0.11740777759118848, 0.15390459608360607, 0.43918553246727005, 0.3996144392113504, 0.4694157418737729, 0.504862324634795, 0.29682740872747704, 0.3154894878718457, 0.14587439734269292, 0.13035816531851988, 0.4802231796840135, 0.14007589417914712, 0.3974336454567397, 0.4495364978443931, 0.483069983163069, 0.4378116474947109, 0.25135668065945005, 0.2260427815186849, 0.2066926402606501, 0.4402656596700811, 0.27177720070597, 0.4647851482109128, 0.1722369117810408, 0.3096057715181111, 0.2686764176731161, 0.15145653692003327, 0.289239369801786, 0.2323497578796745, 0.4336497868063086, 0.4416117508033535, 0.1133763957518292, 0.13866430663690993, 0.2755878231643097, 0.34496176189619115, 0.27413312787706423, 0.4779331199957747, 0.2024033714407922, 0.3415143198036492, 0.10287028399497064, 0.15553659726977234, 0.3264397316815335, 0.3693271104730278, 0.1629081729033217, 0.18564669250074173, 0.1302349019668108, 0.15032050478128856, 0.4554095815921682, 0.11059101457686753, 0.431511095470964, 0.13370990344659564, 0.4471141243450028, 0.21984952050438186, 0.4000296735468777, 0.4112187132681967, 0.4306567435825699, 0.22309669653121456, 0.4268357745670499, 0.2294003299562697, 0.3413600510005298, 0.16686996865025938, 0.432711093940242, 0.3695265664488807, 0.26129474303173433, 0.13548734920503136, 0.3545854507023738, 0.4805336041990762, 0.2373656441034429, 0.3334680341002996, 0.31283748799730915, 0.1943406621145861, 0.14776660633879335, 0.19328502380575568, 0.11078838909172294, 0.4364489861008499, 0.2534617324759764, 0.3301223661725237, 0.2570961215122041, 0.1292770151576556, 0.11656517937147183, 0.4727483256634713, 0.31904610651112925, 0.16070778017625226, 0.1772441152993789, 0.35247655050023863, 0.3188733532286071, 0.3408988639614381, 0.2655779850523087, 0.3232374963243735, 0.14539554958298134, 0.3101784749580473, 0.2261966580250712, 0.31233147978668674, 0.36772914088230135, 0.19393698261162146, 0.3023841604328229, 0.2703715440589367, 0.3719239514775053, 0.498997065020425, 0.3847677714419432, 0.23406132713703906, 0.15003408341511704, 0.5065927364282913, 0.11142352499101872, 0.2885976558536773, 0.3639927079745948, 0.22264222817647955, 0.4162090394397184, 0.37670404246647937, 0.3670277647100263, 0.20080424862783894, 0.4712152648316757, 0.16162198559550156, 0.4402830439290779, 0.3757281084267272, 0.30619975823660994, 0.3455869206652272, 0.3911799922542589, 0.3137123776472038, 0.17256073547821107, 0.23146707824543344, 0.4928852818421908, 0.3949660519801072, 0.17132116595463925, 0.26008228133374345, 0.3473261207211521, 0.4399822357679201, 0.4776579827037418, 0.16820794270389167, 0.5035388573765339, 0.4129685945765044, 0.4512704335844662, 0.3238728180392, 0.4315532480241352, 0.3919314609037827, 0.3271836353726835, 0.4125373406230149, 0.3915731293005862, 0.3785960514774994, 0.3821150501434626, 0.1004523331576671, 0.3291470350074209, 0.3304893602039925, 0.2432052095467443, 0.19937357447493306, 0.17383835429949296, 0.2463196527524104, 0.3214115323313904, 0.498134184237717, 0.3373679301700018, 0.4887674263092594, 0.32052837243277466, 0.21454899078762327, 0.3642125097420372, 0.2138332811180461, 0.2748154572517968, 0.3607286209395685, 0.10069841498900936, 0.3042763819663058, 0.4122457577938632, 0.38533187257024826, 0.2631604153349165, 0.19486475102211764, 0.2237082662710125, 0.2965552004807161, 0.10768908642990586, 0.4238365881669933, 0.3712773773295631, 0.15889382270217536, 0.11581548794989402, 0.3579328138233817, 0.19413642377195586, 0.3333269149763061, 0.4051430882486043, 0.2777099498421297, 0.14493433633983804, 0.1152458145001998, 0.4483000584236403, 0.1689149213995595, 0.1626821290208511, 0.10846466695024044, 0.1883760140457385, 0.3603867640083367, 0.34164713406176184, 0.3206571912149365, 0.3191097438914172, 0.1746367126634754, 0.4995802756956194, 0.2945000936002353, 0.4772339181449434, 0.3108222804478669, 0.4917196176006126, 0.26670755307017835, 0.4762614310503685, 0.11831917285821025, 0.2584770729391048, 0.4146804408962197, 0.16560115635294853, 0.18773530120828208, 0.15447823395821064, 0.14211279950516087, 0.3951093119349409, 0.3289048683348915, 0.2794798205636841, 0.16851114005823487, 0.4883751686001486, 0.2595829130097339, 0.2901411416901468, 0.1617809360576029, 0.3105731740289458, 0.11908340908720436, 0.4217247821916679, 0.1737603134226932, 0.1578350047897099, 0.23135916524993466, 0.17217885446609354, 0.280365790684456, 0.1923795432185824, 0.4208477930841776, 0.2749828022156816, 0.16000966333406327, 0.4241124745528094, 0.4130659834662803, 0.24931209707687965, 0.4496665064498011, 0.15132280846587132, 0.2332912347987935, 0.4342622335002544, 0.393269316380528, 0.33165308168468793, 0.10850787732570663, 0.3594525632707149, 0.13447142612257992, 0.4383468023702062, 0.4092198112415196, 0.404001138186796, 0.13918679349309326, 0.3360904758611788, 0.13004641541665712, 0.5071984309308517, 0.27044964424917783, 0.4401365408044551, 0.36873009882563546, 0.3440255189449668, 0.30168947280670755, 0.12654704458813046, 0.2625251855633285, 0.4285608887254678, 0.2415841929395901, 0.4149369579379648, 0.4697316851792422, 0.2830984004616911, 0.4518147978076877, 0.3264398457307821, 0.3764346575680194, 0.20699878459221205, 0.2268868680344371, 0.4174807645568401, 0.3672999651166876, 0.1726005590738059, 0.24400534676362026, 0.2712456025473937, 0.2605811844316921, 0.1875645262583598, 0.4549624634442536, 0.2736213295584776, 0.3397910411208045, 0.2542382617064308, 0.31663036937274003, 0.4454023929464507, 0.21511943158338573, 0.4933895454527275, 0.2292308703898089, 0.352063038548764, 0.21879849537646767, 0.4815530557767116, 0.4734557662175537, 0.20243247216947768, 0.4677887183750004, 0.2096674144205054, 0.13477005175661774, 0.31924219273501003, 0.3786712225519124, 0.3820059574283468, 0.3581907442623884, 0.3755417260473386, 0.2969775630040682, 0.10775233030246384, 0.4280225198705788, 0.2012315156911492, 0.1066362523977456, 0.22151974571291289, 0.2839228115308202, 0.42144722699798776, 0.2109654033563308, 0.5009510268523951, 0.4761005257259888, 0.11048977915861312, 0.14253376494106965, 0.10922911795322704, 0.17364163345350014, 0.4758211676404099, 0.3809994335600161, 0.27534332422492325, 0.2194563706276975, 0.4423154525100375, 0.3807528440033141, 0.2666856579603105, 0.30372691331485546, 0.497893813496031, 0.4974502008997706, 0.4546433100915016, 0.3461551621276681, 0.4070003097976192, 0.4965058846835062, 0.21332182460633928, 0.4121763343964484, 0.4430693899533398, 0.2471435978596675, 0.2491498734878101, 0.4869886110267056, 0.4055695282500375, 0.300195278702444, 0.17275653773315547, 0.3754676229894439, 0.3992411464205995, 0.1596227773462512, 0.18588393849275647, 0.3660388822754703, 0.4547433747792149, 0.41329398088762137, 0.4331882751284122, 0.11691316133491635, 0.24963107572267926, 0.22317857285226347, 0.3451073469522752, 0.486749638091869, 0.23189350794382216, 0.2893494987326093, 0.10695261562373604, 0.4718214046292552, 0.3520059488427765, 0.35601843490827056, 0.33276811447870924, 0.4185479887993045, 0.5066661237662592, 0.22729471767150086, 0.2530743625679073, 0.281485195911779, 0.22092878542971897, 0.4776646167219831, 0.1418562941833897, 0.30613598013793, 0.2319130356438145, 0.3883907797323122, 0.19073350177177395, 0.3996622835792074, 0.30465300938182105, 0.18720747192029746, 0.2401321723596674, 0.2303491234545697, 0.2787273047776848, 0.4718807842649022, 0.4014831467217539, 0.417121214672763, 0.4726128147288541, 0.19460631448501325, 0.3623983486726397, 0.15801357549707054, 0.5017930355802136, 0.4313048847420292, 0.12872373528204298, 0.3312615999694033, 0.2854640185849964, 0.5065605455566453, 0.3898561794316833, 0.13476855708899846, 0.1630055630320922, 0.4192966233494551, 0.2642695877504534, 0.17529950460766702, 0.19340074643661648, 0.1890347891253632, 0.3779441106842553, 0.36221776118183596, 0.13305922476337734, 0.15827500665579974, 0.4865451480786109, 0.2771279703773645, 0.3572938941795569, 0.4514145352943286, 0.12786438348931367, 0.2605572344247476, 0.510264685027965, 0.39423624396494783, 0.13905630923750645, 0.12111823839870707, 0.2603172604467929, 0.5080020424768948, 0.2425355124257345, 0.2660986801653044, 0.4793091187221479, 0.3779650891305115, 0.1509428213553176, 0.21831898398069705, 0.4178097237480963, 0.18360282392173016, 0.1724056725054833, 0.28774295582432396, 0.10241201361038037, 0.3787735555750863, 0.13918261120314035, 0.13241484620749985, 0.13615334167441046, 0.3941492984285987, 0.3601496079839869, 0.2653073340993092, 0.42370163115665294, 0.19855813469806052, 0.4720751409279968, 0.4750532934310695, 0.43843287475624615, 0.1470177696150924, 0.3596913974908877, 0.10272614924648976, 0.4802851659414918, 0.3785622954496348, 0.2302389794601635, 0.20916699593428945, 0.44660485364379865, 0.5085434182055162, 0.502641150887847, 0.2002731457054457, 0.3688024266290996, 0.4863239025907157, 0.4550824063948853, 0.13462655832908116, 0.3210858249155177, 0.501466567247632, 0.4311173210850453, 0.16229257199573235, 0.2156358630663117, 0.2221849685054477, 0.3493955905318329, 0.18139007377490105, 0.16993220604544934, 0.2766493786827131, 0.20236204903200072, 0.3894976242771204, 0.3081972145965296, 0.3458512441765442, 0.3170742425994997, 0.4921502162981507, 0.2026262254650832, 0.3305101957644079, 0.31844578478460944, 0.2808096849876381, 0.4896259955762836, 0.3914130548741339, 0.2756283956615437, 0.2814773118322389, 0.14565320920753974, 0.26817754520821097, 0.2024614675719162, 0.263041035956376, 0.35968738407388146, 0.3853833230032425, 0.1449003936887973, 0.4142851295613941, 0.24460580774661198, 0.3662047154112965, 0.4505533617522648, 0.19694002564208946, 0.30226978889506195, 0.4012010219797644, 0.3563805309495133, 0.5090208622811124, 0.26305987955811994, 0.2486333930168688, 0.28399812608840463, 0.1997733189039162, 0.27617250579085617, 0.1015446947015388, 0.2190558416859884, 0.1945330064484301, 0.2255849815035003, 0.29767947566519004, 0.3823155172857371, 0.33113496978880297, 0.10447750434990774, 0.4298997759651726, 0.33055751590173765, 0.469678361866201, 0.4521034287212264, 0.3805159351891664, 0.17833011655559286, 0.28060520869217703, 0.12877644920214504, 0.14858475803609628, 0.3749344161849706, 0.14339509967880806, 0.4683938304278047, 0.13525396911087587, 0.18538159583070374, 0.2757288997307163, 0.2592843316732555, 0.4336244140858274, 0.2262539148595075, 0.4373007223251673, 0.3309668990544682, 0.32405716250704625, 0.4627516056315592, 0.2911035347236957, 0.425237920356136, 0.444755789290559, 0.13687200943444766, 0.3125309815459725, 0.3075601871268457, 0.2754035576561181, 0.3794623110144687, 0.4848610463207708, 0.11670383360614305, 0.1890879075472964, 0.4273172160337311, 0.34264127348131, 0.2750511992790724, 0.2478865576692329, 0.13675721090380247, 0.28118083606539745, 0.3859440271778487, 0.18853246503079207, 0.1747744564542613, 0.11997713017064845, 0.10059719007313364, 0.21012507827332175, 0.3723621835557985, 0.3284470842560611, 0.1836968703055557, 0.2280716506586919, 0.5075695635737016, 0.3282049410354733, 0.4018939660205577, 0.1951714262633653, 0.15231858648787672, 0.30922495447511433, 0.4289828570585861, 0.12958151007663712, 0.2374942977196938, 0.4829291431924798, 0.3804466032839472, 0.3266148925991705, 0.4045047545253865, 0.3118935097378752, 0.42136289068104105, 0.35520007349184746, 0.27357045185681456, 0.13400459178258495, 0.28632084101706345, 0.4769462370343898, 0.29117865343659965, 0.11510172453173025, 0.1013330655027459, 0.5717172228244989, 0.39584672792676345, 0.10103136102522768, 0.17799540808300818, 0.5054626146313744, 0.4164917784546716, 0.4665330336395538, 0.465976249781533, 0.4856953255882052, 0.19279291206705146, 0.31459927939751675, 0.3257172874176673, 0.3825507997612132, 0.229680974754726, 0.4668941450232171, 0.18762359026602668, 0.40107108704221217, 0.22136999039334296, 0.2779944099768036, 0.15351623088640445, 0.22086821689432706, 0.15091882338447116, 0.3936877872342155, 0.3738867673689662, 0.13173258590125267, 0.19580500287314992, 0.4889169850263079, 0.32867570485261666, 0.19289520474061486, 0.3024650561259853, 0.34355670261026905, 0.1933373468803627, 0.1383593311694817, 0.35767273869721583, 0.4865823835138153, 0.1028535039775273, 0.4163179012595493, 0.13951274796533653, 0.4931184765191493, 0.2367664755556965, 0.3109453380547414, 0.2507390400850191, 0.1310003167400497, 0.2797239095345576, 0.219959613833294, 0.2645204827171727, 0.21957106336829624, 0.4836865055930107, 0.2834859435210495, 0.11428575224444575, 0.15041733294538942, 0.41930040714847583, 0.3855280362756868, 0.5034743922991184, 0.2563078691552442, 0.3737781512003528, 0.3258038510237698, 0.11097719191767384, 0.4641407457104267, 0.4554556032458528, 0.1673964149712232, 0.2808919577063527, 0.20469697868228945, 0.23783760337636506, 0.39962005867428096, 0.3689059372397232, 0.12296070771384401, 0.40808494811869656, 0.33784902638977843, 0.3704620563177422, 0.3946942978198173, 0.4536350783282824, 0.1169412747421752, 0.12008081292377147, 0.5037466353080104, 0.3605582538125315, 0.44769260093630747, 0.10405184432463173, 0.2286604839007003, 0.1542815693927099, 0.13161165953478066, 0.3460992680727457, 0.1417554742361329, 0.456417589723281, 0.14687793971084212, 0.3367305192184439, 0.4830457394576473, 0.2359437822704367, 0.44312773699059016, 0.3824301943299709, 0.2272471743956947, 0.14155165443791526, 0.290040990382287, 0.1658543863946117, 0.4879261116767752, 0.2571253608362017, 0.35167256844644434, 0.13104028679784854, 0.3369410459245133, 0.4337575492242303, 0.11069210600579682, 0.16160429725539102, 0.2064557457207093, 0.12926978801637656, 0.14350277144218954, 0.12435920747164005, 0.17826468308466442, 0.18579026323672485, 0.4137389487924543, 0.3402545233034227, 0.4613804438695346, 0.11631879033350348, 0.15047253776820346, 0.35922327769644397, 0.2701917241245767, 0.443388383379289, 0.39120153519476253, 0.15908978034642604, 0.12915565887015007, 0.469411936157098, 0.2567780306720463, 0.2130120859298102, 0.31475009720488323, 0.2992392607275735, 0.4559341914433442, 0.2533906837719474, 0.4419998532767232, 0.1631664550060206, 0.3832880135802565, 0.4710286409649337, 0.335326152761771, 0.3269263623775934, 0.19529955045814276, 0.4497593616296444, 0.13415350541859045, 0.3387115914759262, 0.4932480864291353, 0.4527397680496178, 0.31810605531581626, 0.4566741000812808, 0.3163355589188924, 0.3650420143503519, 0.4716172299938066, 0.2637791900075155, 0.31936829169914, 0.1693156869558805, 0.15263651049294152, 0.16009848989430653, 0.2966783003045492, 0.4269567119436688, 0.2313308548788551, 0.19200051956841496, 0.3579881652363518, 0.18182483501866364, 0.5019834377640386, 0.4926602110192675, 0.2881217506742511, 0.12514114041560245, 0.3645775080608472, 0.4262898033211064, 0.18229978037023284, 0.4914490686340328, 0.3158572258076996, 0.14764124376325016, 0.3402509008519153, 0.4394434608904444, 0.1079738591806995, 0.2579370540965763, 0.5048183140833212, 0.15186728943207467, 0.3198668803268693, 0.1039875231731034, 0.16583291190008614, 0.5014942022421321, 0.3196924696289353, 0.2646352121560053, 0.4698186002495416, 0.2862384340597577, 0.3116732950156226, 0.32063839010330497, 0.3333908176378266, 0.1985533907610536, 0.26992888760878675, 0.4856958468988958, 0.15416880310678807, 0.4070428762494365, 0.4898633391791024, 0.4565416374679901, 0.2343208466525173, 0.13206466441176956, 0.20621296188208926, 0.3559739010778846, 0.12584590751572228, 0.13640308200231133, 0.4871367109738303, 0.4030628777349627, 0.3816270969038991, 0.3424864751801351, 0.1955566110902448, 0.4018173699368252, 0.3421096786563099, 0.4206215296100752, 0.4007668155731401, 0.2708458505643241, 0.3258824762046377, 0.3786585057665191, 0.4219164259130215, 0.3969046248379648, 0.2260460545528705, 0.2724297635988429, 0.17281196006620492, 0.3947963778825117, 0.2533162433199431, 0.4438718441460778, 0.3392279008014933, 0.1770551894222812, 0.37513673917205226, 0.31250269825243315, 0.4564194543837589, 0.13801514572428206, 0.2628246525788587, 0.2517242345418201, 0.4449195703900097, 0.3819794564118616, 0.4034810212824241, 0.463293136517197, 0.5063377084236976, 0.4160329346010175, 0.27009511261216257, 0.5058871436442796, 0.16930736696284046, 0.23035722358965524, 0.34209224915147424, 0.232382833285364, 0.27654283667862645, 0.32261628425515515, 0.3318394885353547, 0.10346426331312453, 0.18543117073060467, 0.2846135752461477, 0.3930434938861641, 0.10016507626754403, 0.4123905744710247, 0.2208123746024168, 0.2459547367572789, 0.15723824164010622, 0.3965802788483021, 0.4026014559933371, 0.4405780394682871, 0.3937872436124517, 0.30350292795633016, 0.2582281096834306, 0.10162936855596116, 0.19416465674701003, 0.21877215680110249, 0.3873922855269746, 0.4987218845831797, 0.3434790951827652, 0.42347075815022, 0.17966607342141475, 0.4346204561767558, 0.31279327983626315, 0.3349975262662809, 0.11985805240629115, 0.4689204890830133, 0.25632938679710304, 0.4903021866287934, 0.19279553710009575, 0.21816430573130327, 0.1393033013127299, 0.2326478594572952, 0.11323537045236726, 0.18349274331339235, 0.2666102172559055, 0.340288396160985, 0.3795248136155713, 0.26896186042438863, 0.16570388753998028, 0.3329652498405708, 0.18270137086679036, 0.36920001085676346, 0.2324489662420019, 0.17457006145998485, 0.3170317912453027, 0.13670832769000707, 0.2037631365425095, 0.1208385288874715, 0.26006315404941704, 0.3965290009999913, 0.2810010572279213, 0.17471438911047865, 0.4781447326304603, 0.3468863215563381, 0.4501317805990358, 0.4983019492739808, 0.2334582446400361, 0.11235958684392378, 0.17140411238236447, 0.14989450193360804, 0.4118083559863065, 0.17346807221747915, 0.13841357630590567, 0.429739916547485, 0.11685777029536915, 0.450980349634038, 0.4755140158919264, 0.3691206135253153, 0.20309192474861928, 0.20432317505599734, 0.23004327120901805, 0.3496107520772865, 0.1806214717018678, 0.3567997922430518, 0.367443875116248, 0.4259868002683942, 0.17630355098379508, 0.16322371692483728, 0.2263880427765373, 0.31843571013638083, 0.21168287197647584, 0.3103503412446049, 0.2354391547074012, 0.230209885610306, 0.3999602563151529, 0.3866961582891302, 0.4314705114560304, 0.16797682372039413, 0.4127522014154801, 0.35892719803052897, 0.18984728419608246, 0.5047190428709983, 0.16174393789647165, 0.3918272444555756, 0.4194334380090627, 0.11022801353744716, 0.16247462272994742, 0.3043459037045254, 0.16849983972186072, 0.36256999568272863, 0.3474761529609575, 0.4341898688706651, 0.10873769349732453, 0.11891950653890362, 0.4261201022931493, 0.3627201049831261, 0.4256172829902864, 0.144175899331875, 0.4737840424053546, 0.1297591788447413, 0.3199872051629485, 0.15411049856200126, 0.4193403323010957, 0.16234917152207035, 0.13103023018719884, 0.14437289580924614, 0.23997301445224464, 0.4744640195358988, 0.2581909953430114, 0.4799840086688394, 0.33525820008952056, 0.23156974161945035, 0.22310109479276066, 0.20202470559769886, 0.25312078868395416, 0.3831513057111256, 0.3831094321282579, 0.21960101907094493, 0.39791009229216745, 0.2406196995742501, 0.24801974483169484, 0.4501865212293677, 0.3187005617252534, 0.25348801112134045, 0.25618947523141355, 0.13145879881131112, 0.2862897346187505, 0.32053333385981064, 0.12928857454701606, 0.3598985140613137, 0.475480005424944, 0.36946120882672173, 0.4515280173905383, 0.3832178478530445, 0.12127978333026453, 0.1130477079146132, 0.3371192714440753, 0.2502680726640175, 0.12141336203661696, 0.10682271264978176, 0.19389372103585675, 0.2674242637224337, 0.3146385589490041, 0.4553098575527443, 0.40336237036961975, 0.22300157372568047, 0.2508733788357508, 0.23877467020524246, 0.3709724050146106, 0.4068756167292098, 0.3152486817236741, 0.22131714057704155, 0.37478534913839023, 0.29399194141434803, 0.4369313055193496, 0.35061622180484964, 0.2830692879305385, 0.3750491614479333, 0.10104777185034854, 0.3786662320993575, 0.2993710567819673, 0.28958094820853364, 0.3890998775176556, 0.4382427248035319, 0.4153117008519027, 0.16462512256802375, 0.15322810109587226, 0.3857236954561011, 0.16052754023713395, 0.2140877362987416, 0.250380870951629, 0.1826898664072064, 0.16850832677115812, 0.4273030748343615, 0.5084703575126883, 0.3608924144627398, 0.329896868149653, 0.31042775450562177, 0.4030792720658588, 0.4304129029528774, 0.20896517112475327, 0.21171219361374574, 0.4328305385852567, 0.41533962872722896, 0.4951575699666097, 0.480149408184589, 0.20189729485806485, 0.20769962510521872, 0.4494311593102611, 0.20292982349467426, 0.26284381173069804, 0.23916101945000864, 0.2209142947390552, 0.4049223552360195, 0.3960310778602598, 0.17941355891345326, 0.4383783511866407, 0.12495411806028588, 0.29925937529537405, 0.11877294105715787, 0.3083390187544115, 0.3837616321450845, 0.4529501887206826, 0.5226259807347919, 0.4172709462571808, 0.3694302536069689, 0.23044556650337436, 0.3033703934216012, 0.3557318931899073, 0.10772359761645252, 0.4520429231143939, 0.4436965537173945, 0.13537823885278935, 0.13455282066923524, 0.2573672288591488, 0.19068378197985908, 0.15971016011272227, 0.12733672381860256, 0.3443832148448079, 0.3441600416933933, 0.4888269949929645, 0.2435463233838468, 0.2315803758591576, 0.22078701996041036, 0.4304633866432266, 0.31696929117796235, 0.34462570736463705, 0.2542197362087609, 0.42270471241522706, 0.2933228023443443, 0.3611532187358189, 0.23985550818890514, 0.49331881739327793, 0.4576296012231487, 0.29181695590587503, 0.23034923831669035, 0.1104483149736611, 0.2805909760924252, 0.5075253979797439, 0.14273198483270053, 0.17883921965945848, 0.2578572758925015, 0.3994570729934812, 0.4001504640378463, 0.26405297609303, 0.4558386319181702, 0.11553372523974972, 0.4532139284823173, 0.22097082856048003, 0.2823074141261426, 0.40444699968550735, 0.453161918656535, 0.40643776116579655, 0.3567527679463839, 0.30859780541738385, 0.1350277766720251, 0.10269985927026402, 0.3117080709322446, 0.4746527340730462, 0.24388168693079995, 0.19615508506449314, 0.17789760046780312, 0.1118457801091556, 0.26185960874145553, 0.17179081903287596, 0.3401265269209154, 0.2904263921701132, 0.1620986404640871, 0.2140976300435832, 0.3405193536630394, 0.38584834029119697, 0.15590311656321462, 0.13850840838062856, 0.37407740115390004, 0.4336065647914502, 0.18519856913088084, 0.32628668667050803, 0.2341667490082844, 0.146126396442687, 0.37986016532868017, 0.3984714460789408, 0.28152891955926285, 0.17932674501319112, 0.40953790541113533, 0.471516899201646, 0.2943773469402225, 0.4653775993516839, 0.3990982432240916, 0.4483458498394648, 0.5921978708413235, 0.2964236720593291, 0.3776892994143699, 0.33957531987146616, 0.14629211556994576, 0.3948445083601071, 0.23078590782999514, 0.22487956120931746, 0.16296018354343686, 0.31667725806069524, 0.4787577804344452, 0.5027012841649298, 0.4532032091201921, 0.4168919057185031, 0.1374813501485756, 0.4590253443925777, 0.3545829127114695, 0.2942572861853246, 0.29641417503366363, 0.2029703324336356, 0.4074821404909556, 0.4827797146200662, 0.10612195465674898, 0.5514838822557268, 0.3623397918181557, 0.5808548686869115, 0.11281031720681843, 0.38610231321046895, 0.3421727912595667, 0.2759930730284778, 0.4710031385213294, 0.22683343862892397, 0.3787875242840343, 0.2616402554217629, 0.4993097548296626, 0.465566149319623, 0.2816608262061102, 0.2766419719447003, 0.4624754371148103, 0.4990214652378635, 0.3585060217301478, 0.2389369124279627, 0.2340818132336905, 0.3783363951578518, 0.2989687028616005, 0.2802765563588129, 0.3234886775179924, 0.5054578043554732, 0.35637025046057835, 0.3782050978936136, 0.23362140029651854, 0.3565235465293689, 0.1913231461318728, 0.11840257802542625, 0.4455715652478008, 0.1718515457692827, 0.5032483640456372, 0.337478674106647, 0.16833679830047055, 0.4079950664861404, 0.32208913419882435, 0.20423495208969625, 0.19503847961461104, 0.417118542652979, 0.46183236781258, 0.29227420216463457, 0.4163175361730482, 0.19493554835246046, 0.2676352498643467, 0.11708556554712342, 0.3626813146318965, 0.35936322605853704, 0.5043278869239917, 0.2929206585437913, 0.3687445450175121, 0.2374532957151055, 0.20471910565801396, 0.32315323338388924, 0.3356132878576086, 0.4070312677015906, 0.13892455322679084, 0.4071442770165121, 0.4425745312053024, 0.2387243927061471, 0.15412142693339714, 0.2925638804172336, 0.4577199411285667, 0.15598060926849228, 0.3726288362235258, 0.11142000264729797, 0.35498098237403464, 0.2614150017704273, 0.3712722196431797, 0.3638664929027043, 0.3683669165170737, 0.4100173385662879, 0.10305409852559616, 0.44251172362520863, 0.25318837704750746, 0.14820824512026826, 0.1608822466153425, 0.4156788824891202, 0.2249016657343156, 0.4577843744496072, 0.3819429411448088, 0.10112324748268543, 0.4669108302881321, 0.130739553950664, 0.4717252728906692, 0.10642331673798687, 0.34723411324928555, 0.3468100377179627, 0.28142432745874496, 0.2991107908066765, 0.23937335690584385, 0.4990920030759031, 0.18364419538315785, 0.40218063018991707, 0.28654004856255544, 0.14869942234302955, 0.281870734568127, 0.3380045142256334, 0.4652957373739647, 0.3550248822026204, 0.26826410967146586, 0.5082397402933304, 0.4564106879964682, 0.4075055180878671, 0.43028766127055296, 0.37581336586291625, 0.4292286217255903, 0.2782741774589356, 0.33930776726196826, 0.4412741067586211, 0.38959025978296336, 0.220663467843142, 0.10995181579982627, 0.12126121093119108, 0.4397451559127942, 0.4636222431859245, 0.3714440299274382, 0.30647676190993123, 0.13237804626995126, 0.262222378432393, 0.4540055811933058, 0.12562152204846844, 0.2588283490717171, 0.2872768582946614, 0.14525697172261548, 0.4110226235381936, 0.11060413984626907, 0.3181318599577535, 0.3598410605892756, 0.3881247342140745, 0.3489442127823275, 0.231729982497638, 0.12244918837377615, 0.4131467600870361, 0.11829070908712212, 0.4806602257247327, 0.12666430238825785, 0.17173645673999555, 0.3961259630561768, 0.5052505765313401, 0.3638391392979673, 0.3894262449283616, 0.42291677675642825, 0.28488686581763856, 0.17567428705032867, 0.4570463028564595, 0.4664806861031559, 0.4230405451289688, 0.19131974246469588, 0.4017689799218327, 0.17642377611734145, 0.21418916580989292, 0.10282221113547364, 0.3366129845552191, 0.12005978302017993, 0.3682399361647938, 0.3936221108771478, 0.22211342467051548, 0.2958820452823121, 0.4547906625166276, 0.2799704119494507, 0.484575524130805, 0.4852375041900641, 0.1642318641001207, 0.4039172281904075, 0.4237319080740299, 0.4476545022014822, 0.35937519752595737, 0.3847104656900594, 0.159880967276119, 0.4260603070863952, 0.2485504376440741, 0.3362117754325555, 0.3360473610747581, 0.4845854565212641, 0.1120416595543104, 0.3768791006640208, 0.19186876301976585, 0.14811761652728178, 0.16482660079731304, 0.1411715344787342, 0.2812848231625586, 0.3377628682390921, 0.3726638781128435, 0.3400953099488686, 0.5073667298708018, 0.146280009291181, 0.2862978018011065, 0.3150235206564673, 0.13467374698374288, 0.20670592209218164, 0.13796100884371829, 0.28799254866598045, 0.20706465362697365, 0.4564137607843981, 0.3504630248846514, 0.2654664302457894, 0.3599607604950841, 0.1829283547288098, 0.16764119874552, 0.15251559448523924, 0.2424821056426809, 0.3577932635356313, 0.3801599383385677, 0.3406757841919356, 0.1788230463384326, 0.29177683839027196, 0.2692291419742374, 0.2713193981675355, 0.4743349997117863, 0.4360624649233139, 0.3924539578910622, 0.4003087857628304, 0.34127607202467114, 0.14146036006229276, 0.2510500678565525, 0.5027538838576044, 0.3845692086710703, 0.490676497289025, 0.2811486447458609, 0.1447330765368704, 0.4378908510206216, 0.29577504408448474, 0.1992176721215817, 0.5032516423805246, 0.18967201865618705, 0.3522634738022009, 0.4319042792868423, 0.4576013140857574, 0.23899740339884615, 0.18556384731071046, 0.12710235792632826, 0.13420878623348895, 0.1342051231947061, 0.17480120153862652, 0.16431270198419648, 0.3795792498123667, 0.4306251595285204, 0.36137191912765054, 0.2912616371013791, 0.459641898943784, 0.3976199301165192, 0.5099615107174574, 0.2690281857043407, 0.11268290375378155, 0.4481453240885023, 0.4435288412787929, 0.19673487793771532, 0.31538288927315006, 0.2558219224150898, 0.14212731510712376, 0.2251843370065983, 0.3989460334706564, 0.4565023427853226, 0.16793193926099206, 0.23488548004272716, 0.3065336180281265, 0.10016080437256432, 0.41077252258363584, 0.3908547355118773, 0.17548961588249878, 0.22016295052088475, 0.4945627275605065, 0.12484616465129203, 0.39136809133951855, 0.4553831587878303, 0.16943090527975008, 0.4998791945350386, 0.2916622776316281, 0.4776034510952627, 0.4718910460142267, 0.4795002636592834, 0.3905505616689556, 0.2670946569337805, 0.3826996799715775, 0.4059088882327659, 0.1255853719263193, 0.4710705091524754, 0.4579571365191895, 0.5364565287715538, 0.3625658181247291, 0.3177741573896036, 0.2332269688361948, 0.12231060327387305, 0.12370779551660285, 0.2610049131863831, 0.249800350567651, 0.33518512481178664, 0.490040936678482, 0.2361256815495876, 0.3942287932362193, 0.15142857694266676, 0.13667097530674374, 0.5047602578747822, 0.4423406858478138, 0.25800398619014897, 0.42591439627224736, 0.5948084022757003, 0.27852361055241603, 0.12234735324834345, 0.16257359436618846, 0.5093253812781561, 0.2654276928296045, 0.3726838947275977, 0.1779257487065118, 0.11173725616622518, 0.2978182750034587, 0.13802581593397778, 0.17074144043683726, 0.3455151040310193, 0.27885536677564915, 0.1986764257563056, 0.2513058567986544, 0.3335073389285217, 0.4154147876173171, 0.1413485387245795, 0.12528564047064833, 0.2738264399699386, 0.32673626129209143, 0.4353782333954689, 0.29728352946688885, 0.2551599221431621, 0.5053927148403723, 0.4071840118583263, 0.17221572086874978, 0.1956449776664928, 0.4972470804833185, 0.43799505504097336, 0.4654829230516472, 0.39795052949255183, 0.14208980707655472, 0.4340938679026045, 0.4516202236297956, 0.10189906199517082, 0.2969215167961303, 0.443231987133918, 0.4281161527776125, 0.36703288907566795, 0.4636390508928978, 0.1556549943997629, 0.13590407433159749, 0.4602864189413545, 0.27037371328613313, 0.19097003767795168, 0.3118138537842029, 0.1236265252093345, 0.44483195474695, 0.1376585234897319, 0.5069582621068497, 0.3297405072538964, 0.2833015598891029, 0.3630607051176771, 0.4028129923224855, 0.17326041864486175, 0.2427471296058197, 0.2276570125152025, 0.15081121287834087, 0.21982668306893344, 0.4590964531843017, 0.301675952823632, 0.16009266457996926, 0.14952326532949042, 0.11133836489820977, 0.445682919929432, 0.1040217571712711, 0.1866125734195905, 0.17384836349214886, 0.41667007869407857, 0.4414154067225549, 0.3793597531576615, 0.370689049162762, 0.3008629722093696, 0.1288927561510284, 0.18971869859562807, 0.18945381965619665, 0.40133308969078696, 0.21155881722435865, 0.14607679262946044, 0.3028813954105575, 0.40837589066084456, 0.3214764566488191, 0.3331030233363512, 0.4574878172673974, 0.20514802712843588, 0.2365939556367393, 0.2223431987586961, 0.19574911640906656, 0.5375777528801543, 0.3924392863431724, 0.2616021743489407, 0.4128417261053783, 0.16732278932369113, 0.4458244365585116, 0.3427821877345424, 0.25632057773025424, 0.3588448614585248, 0.1687944760966205, 0.4991866535537172, 0.3944275003395377, 0.303758780290188, 0.3325687427117794, 0.1372523330189318, 0.2123828086246619, 0.3702727435771024, 0.18520023954227569, 0.5031694083131703, 0.4079971168723033, 0.4068378259782316, 0.3211844585503139, 0.1003371449874035, 0.19942640694552846, 0.2686641119510476, 0.2937152269938441, 0.4705339448479057, 0.10856680795763897, 0.37323746534056, 0.2803840339628486, 0.2298096054066603, 0.23787946242470664, 0.11527888438016502, 0.3121986084052996, 0.11874416707926022, 0.442052826133328, 0.3671610791004865, 0.3419086854139487, 0.4824585333719629, 0.3830023690121267, 0.4994711644342059, 0.43649824154838623, 0.4747693361244143, 0.3452767583474625, 0.5093044379447343, 0.2863763077153669, 0.11849199128811352, 0.3413739340175858, 0.4855382990054611, 0.4834480038015128, 0.4474877659946343, 0.4067837748920652, 0.3712609424432775, 0.13572679127792595, 0.1397398186463819, 0.15353754678267373, 0.11465810515472626, 0.3508367024128313, 0.4242271238311917, 0.1539558524829513, 0.4758391350811314, 0.4441133207373019, 0.10834249499672324, 0.4802820859271189, 0.3073753514822548, 0.4986739926034252, 0.4626039584027514, 0.4730118438701085, 0.2298437894787869, 0.3442482944179649, 0.2139052430111141, 0.1899681612580443, 0.4902343899291756, 0.13862305652446466, 0.2941721974222823, 0.12118459905876275, 0.4447803344398511, 0.13428255285257615, 0.1320701498569246, 0.3937825954157905, 0.14088123367764022, 0.4297245103492813, 0.2000794438787264, 0.32884181061611306, 0.4180382976693219, 0.507830143649192, 0.2056986592369973, 0.33160951389700777, 0.3436957262567596, 0.48096144713768, 0.1360541999074521, 0.2495633648038051, 0.19733470440278375, 0.4485332417752136, 0.3802919489269273, 0.11123695700168054, 0.4866228097744304, 0.24974220428716984, 0.13617459075677762, 0.1764479318590187, 0.19338338717747816, 0.481379217788164, 0.4122770487774465, 0.31416993271942684, 0.14975829202926, 0.174336176777679, 0.24464319051098535, 0.34230653925314386, 0.2847456062990217, 0.3068107505669152, 0.18358313955956576, 0.14430207763077127, 0.40153889280451627, 0.31412301568279233, 0.3896120246200844, 0.5820204183176829, 0.2629443273936921, 0.3718963423317199, 0.4391959901047319, 0.1638719258437862, 0.2601553816196712, 0.35038971661996576, 0.29145668508791844, 0.1644052021476883, 0.41880115561165787, 0.14520267975777384, 0.4313460964923657, 0.28198271512578355, 0.1115209905672771, 0.12975071794368292, 0.4811508980489766, 0.11527164298726257, 0.32059632591734577, 0.3719972623819319, 0.2242875160964552, 0.2816733677730917, 0.2760630322236797, 0.2239421408308695, 0.4248657896197832, 0.13171821444747514, 0.5851746698101434, 0.2215648181453755, 0.3534174404415129, 0.5027758842816042, 0.2534893324651475, 0.2272610288842051, 0.3016732987163001, 0.4490592956129296, 0.11423487894866753, 0.28149372902204395, 0.4556001153290775, 0.2660340156163803, 0.1418784248647107, 0.4816038618865073, 0.30383250151170793, 0.3386800717913661, 0.2315670821539113, 0.17750504524031874, 0.3146646375956213, 0.5051584621952457, 0.3326411747041628, 0.4136363800253544, 0.4326675210329314, 0.36178161477771176, 0.4202397925564357, 0.15071585459828585, 0.1117707884150656, 0.27632836021489005, 0.3748656665778628, 0.13369168927421987, 0.24642305413326526, 0.3261323972794293, 0.2283571499244673, 0.4773736386123669, 0.4230298262281007, 0.4397714300931621, 0.2159835649002896, 0.26512022456601725, 0.19213352048609209, 0.4711709189632163, 0.4288392460068608, 0.2969834912119307, 0.4667905864650896, 0.10597357628652666, 0.15829440849202706, 0.4125951127293147, 0.4979106920792493, 0.14056470328007295, 0.4800977565165151, 0.413812421465129, 0.16688896118484786, 0.3713409821584485, 0.4947168812591505, 0.13327030248658928, 0.3580957211881467, 0.3543282931007791, 0.18686242450200571, 0.4890175192514421, 0.1573991818161432, 0.4957813923393437, 0.2128483035011549, 0.4614404557368415, 0.2769054576670025, 0.33691413400956705, 0.1687041111816059, 0.4838359252204208, 0.474933666640867, 0.5066090673912438, 0.4477417969827796, 0.3010869893753633, 0.4706032789312936, 0.47734199401972205, 0.2711170000377803, 0.429472521361707, 0.30499894314681153, 0.2261221022159865, 0.4721730153711446, 0.2468964059553387, 0.3501078733501434, 0.4015622942387086, 0.4040275125238921, 0.4646919160544404, 0.2302232495412844, 0.4831541782800731, 0.2521796675211252, 0.4507527683445696, 0.31800733632194866, 0.2594955075235025, 0.3953873802738791, 0.35321509298627984, 0.3821586951317475, 0.14627492946210846, 0.3337485348699689, 0.3648777525595449, 0.4549583252842487, 0.10888643557601337, 0.4540085367527506, 0.2441141823656807, 0.3739814784034036, 0.4649410833323695, 0.3265197899025465, 0.5093542399641757, 0.32340365590914555, 0.3746186777107051, 0.3543141488079481, 0.1411472366844894, 0.12402333661134368, 0.5013381829726892, 0.11743033049962305, 0.3237884308421143, 0.3250198626959183, 0.30885617149323, 0.4137977162528482, 0.12947979029805434, 0.17894166829473074, 0.31780576708315444, 0.2212821682578701, 0.3553729953649524, 0.27148413169487684, 0.25736008134641564, 0.22051257639843824, 0.4403831666058485, 0.1401645143740674, 0.4662291137742846, 0.4233837983193479, 0.292581442896763, 0.20996430203645985, 0.2514334398483684, 0.1377926380967956, 0.4550038665774648, 0.2275325997670475, 0.3369182839280769, 0.3755376056973151, 0.4915783773078574, 0.1811584575572316, 0.4227604054782903, 0.1160626873257462, 0.11057215406639777, 0.4784035922249845, 0.4291533955038576, 0.4345383901597497, 0.1598381572122501, 0.4630838602348711, 0.14121105519250698, 0.22070396592615787, 0.4849090334216565, 0.23533094361168325, 0.5030549709480123, 0.12760532621490553, 0.3534800974196213, 0.3866621326169145, 0.32606070432197604, 0.11327930422882705, 0.15838799324862307, 0.4848194324269599, 0.3669083514251419, 0.11906993501684734, 0.2071470878843399, 0.12629380297269355, 0.1743556883102257, 0.4256152882068186, 0.2640974240385351, 0.4104794516084498, 0.3260334063308881, 0.4380872707116909, 0.4613330369728314, 0.4334834557845636, 0.12679644573771046, 0.4194993630110482, 0.2457731075057349, 0.4150168296216382, 0.4209991800695952, 0.33052281699585345, 0.455338437905081, 0.27376143815238085, 0.3563563373381432, 0.2550835676407351, 0.4487934067551917, 0.22166080123714801, 0.19112513266614933, 0.43619937451716095, 0.2410567499131977, 0.4412245765713103, 0.20898370529570925, 0.1834032417230104, 0.41719103438156413, 0.4708300458440114, 0.2687651482262221, 0.3821420274740647, 0.4372219591467217, 0.2179622947635751, 0.20913796740459328, 0.508379834238829, 0.19010749863742504, 0.3606905528592372, 0.17971196435321207, 0.1677195045217339, 0.41945629364507697, 0.13615993050488778, 0.2276819322035779, 0.4631908019061097, 0.2730352246916262, 0.3640647700342692, 0.2533565008715135, 0.3062076673595626, 0.3373026525140099, 0.4683000672353843, 0.194856843272062, 0.3231464071680856, 0.3581547804836088, 0.4030669503562336, 0.3898371651067149, 0.13325461231872052, 0.20283527436911866, 0.16372636912966973, 0.4360377575754202, 0.4927072149555527, 0.28959871990996044, 0.16131487550983742, 0.4467969718387781, 0.17094681702721126, 0.1476213274268865, 0.357613433805527, 0.2195937161761968, 0.4078899260346497, 0.4313120870784485, 0.16126113990583985, 0.4602180824385039, 0.38005414704063145, 0.17912424308062827, 0.37141256092022595, 0.3603107271832028, 0.4415597576689342, 0.17174820484298786, 0.20475618968183693, 0.4220865310396624, 0.3044327387666357, 0.20398788045346689, 0.3282297957978207, 0.2543087727018863, 0.3146320339047121, 0.3730974320289785, 0.27410609998506563, 0.3940157859222319, 0.5061768677567667, 0.3597629125887204, 0.2770994146165153, 0.2738990329383469, 0.21485844642950855, 0.2346470392025381, 0.3460438670553383, 0.14821172962468132, 0.10466170656216668, 0.2647868050130048, 0.24575834335354196, 0.23975470064430884, 0.22204993619224406, 0.1853673613443721, 0.2790199432824064, 0.4096493735087909, 0.10293960275528537, 0.1975903730482005, 0.4392290712892168, 0.2594903903130301, 0.4196950308799737, 0.2970641424977313, 0.3681718582322717, 0.5005052674340671, 0.3161437264475126, 0.40802988325394574, 0.15344224565243614, 0.11442806101173952, 0.391152569987951, 0.17494382463144198, 0.4717154123663121, 0.15425743633689598, 0.4297551377758136, 0.5046033261364994, 0.4116284320795952, 0.2081550353311744, 0.2709921053793675, 0.1973919118749737, 0.4309459359755502, 0.5019877734478508, 0.3859129295036873, 0.12228468615339158, 0.2110844151095226, 0.16056205747456534, 0.3657952130646267, 0.11074457728450887, 0.3021269144485156, 0.4737884998884278, 0.2165559105008508, 0.18681336660049386, 0.1930583848168628, 0.488898952696861, 0.15025054185193226, 0.2345850860356705, 0.2810743404368605, 0.3919549706456661, 0.4695356244867778, 0.4421436613061976, 0.34649534585514763, 0.2562084786058593, 0.4714606677023907, 0.4756303210697605, 0.3469059870727745, 0.21497494048695973, 0.3800008853872646, 0.2841337827376105, 0.1822463686457554, 0.4419958625102822, 0.19282498902789705, 0.1314569265100552, 0.24790364923334066, 0.19611681267305853, 0.4818450008883802, 0.28678568695796863, 0.3428512861665857, 0.4023091198090798, 0.1187050598421438, 0.13316441386336586, 0.3544016953068322, 0.15655357542688536, 0.10018885836254708, 0.2125001069712332, 0.5096476105482314, 0.14310320573841048, 0.3366974514884967, 0.3462501736464731, 0.3645916323610125, 0.470053025792995, 0.4938545883939683, 0.4434002442283797, 0.14288790493093895, 0.5006558417814542, 0.4511002074068506, 0.4417139732885413, 0.4207003025471466, 0.3058001325916821, 0.3227046199794261, 0.44202036524762495, 0.2750924495690811, 0.337612659988257, 0.1117547007868328, 0.4882964289537749, 0.3706931397896965, 0.2873123819137547, 0.31118208920042884, 0.45464346642179293, 0.3573960724949913, 0.401260539231544, 0.3183547667943566, 0.13129816653619844, 0.4880776510048826, 0.15828384214778318, 0.4086249814371625, 0.4905187531895414, 0.4765666545901584, 0.24379118538891675, 0.16280675503574846, 0.17019534675357945, 0.3315178389508265, 0.4613512112338733, 0.49408745824791, 0.2808394344894329, 0.2110528170852784, 0.2945199359444329, 0.4513520933419665, 0.3680249057885029, 0.4638661003611957, 0.3099759571928966, 0.3300085417817068, 0.30488473564359464, 0.37352913975665336, 0.1729174915336693, 0.35270914294519584, 0.30889801365692465, 0.19608902806911727, 0.4225737203914969, 0.3474232541860606, 0.4940503359609052, 0.31026527771209234, 0.13498965099903887, 0.3900809570330236, 0.1583094004136704, 0.4949756461872814, 0.33562157664305303, 0.3079544718747483, 0.2351748098532243, 0.10794247942032084, 0.18414803218322284, 0.4408692514355136, 0.2774215135925322, 0.4265533336101829, 0.5215948372727948, 0.12016442175656655, 0.3352890996132764, 0.4700779426741475, 0.2076482281028974, 0.4841557317926946, 0.10490365379569533, 0.2486276824500969, 0.3679155688780965, 0.10410245981350004, 0.18046272991341886, 0.4592505255533431, 0.18654967951601995, 0.14269392681206264, 0.477987909468317, 0.5072775650735226, 0.30603508525055306, 0.4349913818980973, 0.2574140448309989, 0.1820911758546196, 0.4076070661856277, 0.39337906764158703, 0.34560951715073995, 0.14981103542842322, 0.11935863804378526, 0.3155362740321226, 0.4446238079253865, 0.4794607412114916, 0.33925262745488205, 0.410341473062367, 0.35386885676090585, 0.40459140815192907, 0.4917860604676123, 0.4579142355358756, 0.1506741566062952, 0.4521143482351682, 0.4714609422984429, 0.2694952269531423, 0.23765085666201866, 0.21839302774587527, 0.439283129031756, 0.4948994777655448, 0.44188149005260813, 0.21147348123807386, 0.2465377226812664, 0.3538406366355205, 0.40919059858382223, 0.2361093470035688, 0.43135639753606736, 0.4852226418675761, 0.14565240939508314, 0.13264216875869614, 0.3041210217894087, 0.4224545262478389, 0.4647781393267735, 0.4396517421859657, 0.4992158017195406, 0.21491069242347866, 0.34090920172011635, 0.3423714692988814, 0.2066271210159868, 0.4741249936300388, 0.31136906918053603, 0.13998245627093592, 0.5342285647968159, 0.5077160139568165, 0.3994113853916005, 0.3094883319035133, 0.3271866857419564, 0.16916236422266556, 0.37124320694660384, 0.30394702596428114, 0.4774666061678574, 0.4505125875167367, 0.25154791891871403, 0.43460118470572506, 0.2757748562468494, 0.1929902032125118, 0.42650563480250137, 0.3529796759281029, 0.4688872284527015, 0.1258115748488825, 0.4015911913746034, 0.407490921995599, 0.3940370321651371, 0.119155625923917, 0.4434946846295208, 0.3751250580661454, 0.2284810918928333, 0.1793940629447689, 0.13256364935126802, 0.24646823315406505, 0.4772163657269871, 0.10709479779321464, 0.4455440472311569, 0.10093593218087356, 0.4346266204581666, 0.4118330622908354, 0.4699942936793391, 0.1919581631580395, 0.4967255364851652, 0.37226758524395454, 0.41882559457153024, 0.13597386734254518, 0.4081446678705147, 0.11648795633774535, 0.478404894675924, 0.14871761164485653, 0.4575728258990182, 0.2323647498305841, 0.11084185981864783, 0.14707045939417188, 0.13660668423682232, 0.4650377081371874, 0.4257152263533026, 0.20370317921362266, 0.4411865392573069, 0.2594048342632278, 0.19310321036599992, 0.1250943559909488, 0.2267863003851239, 0.3763207040233392, 0.3491039910302245, 0.4792495681275197, 0.28876062083049386, 0.2432332177667632, 0.2453466450242488, 0.13929867681626545, 0.2404808767428526, 0.3100771924646773, 0.29967460218367803, 0.16384855040020327, 0.4346715751038647, 0.3922585569515562, 0.21220070852895684, 0.1881028469814384, 0.4971727872575709, 0.3967109293736153, 0.4294693860671617, 0.3247932372302631, 0.1330959050723213, 0.3079070371453376, 0.1939701070742724, 0.18615370104100928, 0.1159710265990423, 0.3800086064614501, 0.24243681711541126, 0.3423332685382737, 0.26418233381352463, 0.4368879100260743, 0.5078112974435047, 0.2448497242490144, 0.1986539525696499, 0.4889680438966186, 0.34837193018806184, 0.15546212936779485, 0.1318985691403845, 0.22249484985030288, 0.16411206710164988, 0.2340077737125412, 0.4956879074452796, 0.1857691027374445, 0.1050236302396774, 0.30151539173428576, 0.3255671275994254, 0.3303242778225812, 0.19904351864855294, 0.4164347184377424, 0.35905218113475895, 0.10684387985863708, 0.14359276884893174, 0.1977243204393298, 0.319885269521612, 0.21864975097796285, 0.42394926416355627, 0.3811307112070599, 0.18188751586162005, 0.2912036494129925, 0.2436379034569369, 0.12113384731994123, 0.5011776224440914, 0.27144698512044874, 0.16174900280652504, 0.2904211851932543, 0.2665106369600101, 0.4731536793099567, 0.2201462697312241, 0.16312098795451824, 0.4986395962385155, 0.12057567261897488, 0.1494800439803172, 0.3801240957694265, 0.4911737728971707, 0.3912904080586411, 0.4705309417499876, 0.4831893210410143, 0.27372176871197473, 0.3104627116484815, 0.17231010000812952, 0.3766772046257085, 0.109000061710745, 0.3821481225451452, 0.11940755276569183, 0.2836785676328828, 0.25582753222659826, 0.2529362295794473, 0.31493613177477153, 0.4532565662928695, 0.3232943533491134, 0.38244410185217137, 0.4594918629973519, 0.4398607907446156, 0.23048828258558626, 0.4822673102204883, 0.16745408166298986, 0.5661116463342554, 0.3241493820949587, 0.31748844426076817, 0.12150515972891772, 0.1962267601288776, 0.1889000694635251, 0.28659175981802104, 0.10810301153121928, 0.26287025232289885, 0.28030201982950337, 0.4481870742080111, 0.16883826709429456, 0.16708547836452467, 0.29822547717786274, 0.2545434570900601, 0.14202089155932504, 0.1817753476950072, 0.5117087688002444, 0.1356276459514768, 0.3599349193419757, 0.29159739696934417, 0.2045295687519474, 0.3221377016480014, 0.3451567583775387, 0.3137710577556269, 0.3746084041075408, 0.4639151420606217, 0.4484597915969696, 0.2129956490120424, 0.4469659939588064, 0.2827435188502448, 0.1849120271405052, 0.353643874466284, 0.13774582232412916, 0.3662387321391121, 0.4690713074879347, 0.4960974511851664, 0.4577433089999685, 0.4301297133723655, 0.2978445624386445, 0.13452776780666292, 0.42635586126524494, 0.2806541701535297, 0.4717606871243914, 0.4516497467466334, 0.4033223076693927, 0.38045255298561065, 0.4050250285630189, 0.372715878894989, 0.12339566820838647, 0.4656818151530364, 0.10354128236525026, 0.3552193389794228, 0.4356658935507017, 0.17570021029400307, 0.4629888153558407, 0.34916494783680485, 0.4492886555348261, 0.4717446957782194, 0.24739891973355, 0.21737236638594876, 0.3507374036878613, 0.20396822190414726, 0.4861256408112479, 0.35744113563892643, 0.3715208870437297, 0.426071627213061, 0.20403256363854969, 0.32169016574300896, 0.3303816303666093, 0.4167997030473425, 0.23650673186184254, 0.4421754098007674, 0.16089652450816333, 0.4831068165346968, 0.11530611896278575, 0.27685450477263457, 0.4178997620518599, 0.16701057072687894, 0.24871340759409424, 0.19435134716890198, 0.27190679755256475, 0.4780802042080515, 0.24193959034517756, 0.16036828554938304, 0.15856960596698813, 0.4857716469154443, 0.2402621063015789, 0.4897897690707036, 0.17181719695707215, 0.4390673663277568, 0.1286613461276105, 0.1273657813256495, 0.4400935673678408, 0.4460504343222584, 0.15983629177117398, 0.3238812872462566, 0.29771832236626905, 0.2771827092401621, 0.1842557051543012, 0.235540147702877, 0.4090422354730101, 0.1320791691654018, 0.2589883019753376, 0.4857028073637894, 0.2772760708531512, 0.2976017428643504, 0.28229326446045555, 0.23028696249479785, 0.2339839798573435, 0.34086141594605746, 0.17642355263437304, 0.23953388331131065, 0.20618607346103832, 0.10612586684286797, 0.4887740720925553, 0.16843301391374968, 0.19142280091313707, 0.3012506876700837, 0.15023114705264373, 0.2676531933475192, 0.17923482791615405, 0.11675435545119972, 0.36121564330960376, 0.2907783682193004, 0.2825260419671898, 0.15234692660594704, 0.2370137257748341, 0.4028169200836943, 0.3833640568703864, 0.35131574990111425, 0.12374425932451145, 0.14130103922693704, 0.4572668181695431, 0.17953642226475414, 0.4969867248695641, 0.3982088084949018, 0.2101890298015837, 0.3467406223812556, 0.4743306429945109, 0.1752656013003374, 0.16822312145850532, 0.35145457193486185, 0.4359369422990852, 0.5026645775435865, 0.4801550687162998, 0.22095594830611529, 0.1293969645664262, 0.452753003985418, 0.2063789213538269, 0.4154870856968723, 0.1839655283624213, 0.3880366793999469, 0.13553155905262976, 0.1119908218146524, 0.19734520700931132, 0.18224409811247047, 0.4292793110189767, 0.2446625454276581, 0.16301334406737036, 0.3454002151555781, 0.35510327011196463, 0.3543261301943221, 0.39760433994938493, 0.16588380095026176, 0.4438539429981272, 0.4503216219306523, 0.11307467515041245, 0.3103775358297177, 0.13936420537518066, 0.4899929057422847, 0.3848023655424681, 0.2755114650523517, 0.1608101997723627, 0.4047230387918453, 0.18344793056200512, 0.4851954423084383, 0.24276080682866474, 0.1189259136545938, 0.16394645775479552, 0.4570941487400222, 0.3642475295601062, 0.18565217199338505, 0.4005815057834895, 0.2056923814168969, 0.15951495452809178, 0.15705213949009506, 0.132497109819367, 0.4711005176262597, 0.12315946556313892, 0.19381657627469112, 0.3319289321240001, 0.14448527411184475, 0.4076327307936892, 0.4174836500967376, 0.2000713506072478, 0.26826210868926376, 0.2888730967655921, 0.21236086278088226, 0.34299296603732576, 0.1457706753677081, 0.4346944411519473, 0.10845529789204854, 0.2088889215517205, 0.41940444554109546, 0.22345240026847607, 0.2887357208172472, 0.1875567254221437, 0.4948346114127731, 0.3341863404280277, 0.25626995413888776, 0.3621273020555138, 0.3158066841190433, 0.2077018156785176, 0.37226116298363976, 0.4272801344204854, 0.226164255873, 0.4127123286853912, 0.20544830870351813, 0.3298953528064954, 0.17873367960428482, 0.2616798195842049, 0.10105507429860863, 0.1298049447562692, 0.14191899637824382, 0.2760287217044581, 0.1573884436213231, 0.22025322036663808, 0.1965869263202193, 0.4649961459871728, 0.1793046356851113, 0.2058313947351395, 0.4428075393226433, 0.3563393879855181, 0.3078125160130483, 0.16608559332275258, 0.42278998554161373, 0.4087779523202961, 0.1749102369324026, 0.2999323777296835, 0.2177210422849002, 0.11283397733540278, 0.5052890627622083, 0.3924570133761332, 0.4187568278263053, 0.20149883964858076, 0.4794779005313289, 0.4963014555088089, 0.454225223502495, 0.4810324607571805, 0.21309432620828844, 0.4209038977837758, 0.199568240829912, 0.3571047079991031, 0.28651807704033044, 0.4242408340262631, 0.3656324644162283, 0.19548328145195476, 0.2377494831704497, 0.1977080833179236, 0.4033849601983653, 0.10477381421210308, 0.2900497515812593, 0.4308699127313518, 0.386759243249883, 0.1833746938663729, 0.4763919778650545, 0.3451274424212164, 0.2585215548046187, 0.14812268626000108, 0.338300423439982, 0.459373895435944, 0.3742813082513193, 0.2616374450110408, 0.1370905328459903, 0.22941946872567825, 0.2791321098435741, 0.15908062906894546, 0.19483087721820916, 0.3420292915432351, 0.3873244293138489, 0.10177361924071224, 0.1174794086383766, 0.14272382495874214, 0.21831255850115616, 0.3004712229461418, 0.3944238081611736, 0.3156351555822847, 0.1900379450021552, 0.19422903241582976, 0.3701423204213909, 0.15440664391639408, 0.26127282280848857, 0.10120682557323156, 0.3226995550227784, 0.5011669096255202, 0.2770767864194814, 0.19098178442107105, 0.11106040763434816, 0.3572901753913569, 0.18637800413361974, 0.3087800550791239, 0.4102283297009876, 0.40308166738327744, 0.2981277384612737, 0.1389232741580974, 0.3930164590230635, 0.25563067809535034, 0.4426989537546359, 0.11502227146565022, 0.17094763759402254, 0.3021501280109846, 0.1014420514272936, 0.2759464138659253, 0.2934717449802056, 0.20458651920972992, 0.2957101567565509, 0.4284673981246305, 0.2134543604624683, 0.13655939686868487, 0.12082137012056166, 0.19838273769598525, 0.2084184891593284, 0.24436225243049856, 0.4139636408667005, 0.4778565774364674, 0.199255272587405, 0.4430391129281518, 0.4183154621798183, 0.26520073155199697, 0.15351235982628375, 0.4789269805294882, 0.42442951820595787, 0.18458897211745215, 0.15842763284369124, 0.25366739249992565, 0.10489337616239236, 0.4865603088423472, 0.3034045768832984, 0.4783509352667452, 0.2509300373555222, 0.17897673821792615, 0.4802967820455101, 0.3450746967907662, 0.5024619315526639, 0.20295229012921626, 0.407183440908476, 0.2216253804732544, 0.3779765780822486, 0.21075627718510187, 0.3788388430510333, 0.5085261395234763, 0.18858390321164664, 0.4501653713833583, 0.5340927317343263, 0.26778049815697685, 0.4624583937879338, 0.14013400668122655, 0.15900017564182262, 0.3717103658932744, 0.15424304362689584, 0.4292874684501553, 0.3910512773588141, 0.3523991797598972, 0.4543600305854771, 0.2802539030283492, 0.1228319962140806, 0.4289842349781547, 0.17803005772945402, 0.4784579654377227, 0.17258159035581028, 0.4386321621459095, 0.18527449339357605, 0.12055883700074642, 0.4167290669337924, 0.2478628885854857, 0.243714890266448, 0.35105118629419063, 0.34865560825098235, 0.4822897205442576, 0.4532652744666925, 0.3339717881770129, 0.4834956749664735, 0.3899524213537411, 0.1773863700278449, 0.4898974718637497, 0.24504325519119896, 0.4895757380159761, 0.2349029191406696, 0.12882255183469585, 0.10739217981510236, 0.4621493891559839, 0.231158590472475, 0.4826990640776901, 0.1572912172895937, 0.4281584671332935, 0.41759979921137735, 0.30794356193822026, 0.11304827721976612, 0.1678622385276784, 0.1362375823719264, 0.4696446569877462, 0.1911874202973883, 0.4119204802180255, 0.2796811563107666, 0.43819686341252384, 0.5009840488752038, 0.1762226183236646, 0.29197299041103997, 0.16603781839543671, 0.43907843803479296, 0.3788320339607417, 0.18216967514605648, 0.3399322305586455, 0.17150874745479594, 0.4916516357159235, 0.3467939144669873, 0.3996775590878957, 0.2079443174075548, 0.4610800482397643, 0.25238846736835785, 0.4539983467877473, 0.2300708765429168, 0.5027824711009946, 0.2273234064500096, 0.15958131429310987, 0.1937600464818218, 0.3032514936617233, 0.4446160433322735, 0.4700975214160086, 0.4419054326437599, 0.4048930341910009, 0.5033220619711899, 0.2220053206432188, 0.17995713266752186, 0.30188776069849177, 0.237650939870768, 0.2878170480168556, 0.13807999895381706, 0.26037482790869576, 0.33406486189017986, 0.25338489343357995, 0.4563810363222799, 0.1943199152706871, 0.2965154220923636, 0.13608164246621435, 0.26029049261149506, 0.45012154717802705, 0.32345981734102713, 0.19476095572032348, 0.18302609517950655, 0.5616877083303501, 0.4631921613386231, 0.33911534885791494, 0.22315191998321784, 0.10223402637132184, 0.32019904247274433, 0.22355906069061665, 0.17516563947344527, 0.2353272004384445, 0.3688793904986971, 0.3959548307376659, 0.180395813083365, 0.26014368415992123, 0.4963038542378535, 0.4765144118809669, 0.2087419315963764, 0.3030763583089618, 0.4418055262905787, 0.30191070565366673, 0.19063667526116546, 0.2504560161501532, 0.4711579715048221, 0.3939674845218768, 0.488259310301256, 0.1544908960958217, 0.10104869879500672, 0.3239773709683129, 0.24188435311386994, 0.3479783072085169, 0.4585609545817298, 0.3290375970493582, 0.12541028713990607, 0.23547521036422656, 0.12702791700537908, 0.1962658628628849, 0.4717120597786522, 0.3131854655587276, 0.216606694691406, 0.4722731995978283, 0.3054056931012253, 0.10271993876711696, 0.4688870355419101, 0.4813095976794662, 0.19536619410944897, 0.4582089427130689, 0.31286172440045035, 0.3133413617308931, 0.14344665297844336, 0.32614979127087745, 0.4213329888078847, 0.22793416968065694, 0.4349560249609791, 0.26384713175546115, 0.3411596984738761, 0.1947251389760487, 0.2977446248743585, 0.4436568128873257, 0.3005469290454437, 0.4418313228054139, 0.1385716012731323, 0.2565689148207508, 0.3850284262143721, 0.13689055345064008, 0.3643234579005409, 0.11678742286552204, 0.31492144541770906, 0.3878454627061978, 0.3542309523231042, 0.4284812028628159, 0.1013358438117566, 0.16787813518639366, 0.3438524542306773, 0.36871275464968456, 0.4330454985305317, 0.4587232379479523, 0.17676888953018852, 0.3837705769558805, 0.4960895707114996, 0.3034190669433613, 0.2813111324750757, 0.4394909687474061, 0.1847649089720621, 0.463562495151484, 0.17332899570883442, 0.3409240442010901, 0.2620348691496881, 0.32205089161347306, 0.1950756743032752, 0.4371053872266105, 0.4235610010501095, 0.3906933721474598, 0.3994165734344333, 0.40050417205392, 0.3957476760556689, 0.2935983702998586, 0.17319980364713172, 0.5042281804562752, 0.3015976570036663, 0.4035062559794512, 0.4478370092294124, 0.14860848734395174, 0.4027900412604144, 0.3122407679420378, 0.3913682699311325, 0.5083504492375341, 0.2613903508694152, 0.2509504302245001, 0.14141355059888933, 0.5032509474091034, 0.34273680671752393, 0.2948469753468556, 0.2722575269644807, 0.1901878283009049, 0.18724796298724075, 0.43561689824977945, 0.3713385702877158, 0.4651151224444677, 0.2855648168823439, 0.2563231466455351, 0.11929691719348913, 0.43093138086038896, 0.4877600324540309, 0.3683919407779831, 0.4026332595210511, 0.11935232772800408, 0.4828917565936195, 0.4081222166601446, 0.2705514672233406, 0.3486068574664015, 0.3113001454489711, 0.4846071042892257, 0.4846793132194986, 0.30914869604646344, 0.27909648654653363, 0.3030163724867037, 0.21915028479925527, 0.2156832166064176, 0.3778098499399895, 0.42248992724682377, 0.4162555864414935, 0.4916024659078574, 0.4213616707314053, 0.4597469198754244, 0.4455941789532206, 0.172688354525868, 0.3307347369615565, 0.10914603574669664, 0.3091672682737051, 0.3699708195597382, 0.1554895483017577, 0.3690730312549342, 0.4723260069757258, 0.19137483120423776, 0.2182631413607524, 0.37241512239200536, 0.11297758494593794, 0.16252263087562105, 0.23802762336934374, 0.20947619262315625, 0.3374091626488924, 0.22246470968495172, 0.13190597370590726, 0.3522573180548583, 0.4461767691413734, 0.22980511694799785, 0.12213329030382618, 0.2656535197241998, 0.3912120947686013, 0.2977614551931243, 0.2921349314315267, 0.20072981794057101, 0.20144033823204835, 0.3594481435383903, 0.22933802581095875, 0.13625430170258762, 0.2610168876804261, 0.1635312047304508, 0.4250337364991943, 0.4938940372830468, 0.2175131312538744, 0.4647872418240823, 0.2874385441500937, 0.20105569467081247, 0.1716353881410811, 0.4635803380928438, 0.31135846706660364, 0.4427726963576605, 0.14420315814400644, 0.2726477648515857, 0.3339590096264845, 0.2579165632719808, 0.4940484006720726, 0.2477056914844884, 0.11385560214853943, 0.4374430188092272, 0.2808475906261281, 0.21834709543533387, 0.2970647254031397, 0.2352601503866584, 0.2816992929093144, 0.4712311046009338, 0.4413275891842037, 0.349902159648937, 0.32346083328089337, 0.2743825376229085, 0.4843741889237666, 0.31666005025615995, 0.32307511505304376, 0.4366365417539798, 0.2392940009733579, 0.17349665784980986, 0.11229131593619274, 0.16619328216392096, 0.14149870913397428, 0.13777953647076555, 0.1006760243517772, 0.2814796050488287, 0.17367876034823926, 0.1541331107155285, 0.4617539414403869, 0.4142912206241144, 0.17101924902211596, 0.2378564744263125, 0.3563276487464841, 0.4366175289971908, 0.4504883547964105, 0.4034324440209295, 0.5080090439773075, 0.5021133172739115, 0.3226135535176601, 0.10399219194161248, 0.13187697732993084, 0.26251758748163295, 0.26646019179772673, 0.1423317101850935, 0.3703338672049437, 0.1936558871293244, 0.41891102243973205, 0.4762878990859757, 0.43303743127671795, 0.43334012700739655, 0.2176465904036806, 0.4947974874248083, 0.3999325846759998, 0.1576520894204203, 0.26199805973875745, 0.38440864802704544, 0.4281331744682355, 0.3014402469844649, 0.20975172656511756, 0.4236941887981188, 0.190229054106996, 0.23089913034709014, 0.5323666310956329, 0.30062975599097685, 0.2949904978701077, 0.4456727941645545, 0.3988409191435399, 0.26983235766024816, 0.30447913298669793, 0.3060122254114315, 0.4506695118794412, 0.1848578101926901, 0.11837216916381005, 0.34664683692272025, 0.2456755054442324, 0.12597840525267776, 0.2556404701824012, 0.3533229095019469, 0.3467307268419163, 0.4539070129563837, 0.18386968396790684, 0.4944903301392005, 0.4178137386657884, 0.3911539241107285, 0.4777273731667847, 0.4636106493101141, 0.33010157717262634, 0.453123463837055, 0.28833724314532583, 0.2791951343230068, 0.16873929213860525, 0.17874874229360127, 0.13330743764268144, 0.4200343949298061, 0.4368723649762864, 0.4858040770966232, 0.3327658494383268, 0.34916013640382915, 0.1317850390029433, 0.4540768912932551, 0.21033316857867165, 0.39387455501403656, 0.4832068504593781, 0.3859209881486362, 0.13181458263935902, 0.30201574206216586, 0.11330879604809135, 0.5058531708909743, 0.42106569684640105, 0.3475330965646632, 0.362155587177865, 0.4794648285320363, 0.4441023605218136, 0.3800680156280779, 0.4991205912640986, 0.10305400077699643, 0.2712911351403236, 0.4586053227248274, 0.4769422709739855, 0.2604883654579204, 0.3167509429958938, 0.356567937775378, 0.5051028294940242, 0.2547356688019889, 0.1064009295859764, 0.2197800426500657, 0.2617649480765893, 0.3221445969807261, 0.3051619700240977, 0.2261741486700693, 0.2007439225411294, 0.17215158449250936, 0.1804372027354614, 0.2937527172925968, 0.10947070626693928, 0.21443949795455114, 0.4054618879997015, 0.2801740107280915, 0.18097582965223133, 0.10974166374989013, 0.35214764207600746, 0.1095909080614467, 0.2791103249104018, 0.4639702571952259, 0.13815625112284624, 0.23128568099314936, 0.2231236319776876, 0.20267734200839335, 0.24564214597787465, 0.4674441807691246, 0.24915362523203904, 0.2808541810710572, 0.1305033396530255, 0.11141929165188892, 0.254728767359692, 0.11173505163016896, 0.20361274956157646, 0.5094711234268633, 0.4409263316725837, 0.3986491094678708, 0.5018782185576568, 0.2700891968115443, 0.5034212859436897, 0.3223774268875621, 0.4859670827975491, 0.3974143463720202, 0.15884552655700818, 0.2892977248336842, 0.5226591075929836, 0.2046258422935729, 0.2901693623601023, 0.11072275414520223, 0.2640912267259381, 0.2790742180084569, 0.11983016748140946, 0.3341634211939816, 0.2884276975823862, 0.3911503656475573, 0.12120735624867253, 0.33512946874684824, 0.3975676756047824, 0.29650399685257645, 0.5098434853304497, 0.4936037394043196, 0.4538744013482909, 0.5044972873344806, 0.32534737792356416, 0.3609226174349629, 0.12370155461104072, 0.11737601102418588, 0.15294378981119558, 0.4763471072952327, 0.16840664907602254, 0.1975022269691392, 0.300878271961129, 0.3880280238959141, 0.2610396041783054, 0.14338485549101165, 0.1424664726392269, 0.16839597933457473, 0.2210456886526, 0.5008743119385429, 0.4900073898003552, 0.25584767357997085, 0.2358367562719986, 0.11479514291178565, 0.2723552988754807, 0.3653322011347738, 0.16447060369520758, 0.12492142793860835, 0.4816802538736206, 0.4709875758740572, 0.3638987363136952, 0.4894653352005357, 0.11671795114447416, 0.2405952053218849, 0.2919911136661037, 0.32248104879469885, 0.1528867551559986, 0.21472218932359685, 0.4393267089498305, 0.2576649323828759, 0.23083580018411354, 0.3475189174968853, 0.3431579166203149, 0.3434152923199336, 0.22959876384547356, 0.5053780330406066, 0.4968860001089439, 0.3011419796045905, 0.388382933914981, 0.4730563634522668, 0.1091122661279028, 0.4503669089512495, 0.27869480333925684, 0.3725434874987265, 0.31594942941519283, 0.14568903673154726, 0.3166874154649374, 0.4920408670691392, 0.1392368359629351, 0.2923283407773847, 0.12895166428316598, 0.13431855433520218, 0.21249532257573966, 0.12189610069565525, 0.2994179509453597, 0.37665541080919385, 0.3206513382761673, 0.34796561266452514, 0.4607269160978111, 0.4380232682475821, 0.4973566423107532, 0.37684287444349307, 0.2406122464787674, 0.4678854431361238, 0.31125701281296203, 0.2328904535526833, 0.15834749030399925, 0.13264263591479356, 0.3106656990454637, 0.4921715623842226, 0.5347664473062941, 0.17416351513781084, 0.28788743782575343, 0.3936612836648816, 0.13523987744540406, 0.14792198410810226, 0.18783198155076924, 0.4848941604820836, 0.21866643258619795, 0.44205776164107535, 0.3825411635824989, 0.14281467457877778, 0.4615837626221059, 0.2827571348876049, 0.4297113239523597, 0.25747134459595944, 0.22914925240828565, 0.2682701896280501, 0.2912312909755657, 0.32467022553178865, 0.486760142910652, 0.4689035547325292, 0.3961572495442822, 0.3438150680740197, 0.11538354771559887, 0.32981774093688043, 0.3523902374485809, 0.3009673363894382, 0.4657605663009878, 0.44982241477717255, 0.2782117948540077, 0.2162568466537419, 0.3423033794290309, 0.32104633505973434, 0.4441244120960697, 0.2876831261692211, 0.22480978775261964, 0.3714441511931877, 0.15992144050676935, 0.4001656458844888, 0.30448867940529845, 0.4207506749065746, 0.2032246978467464, 0.4019196521847981, 0.5046892623328881, 0.4763851350072503, 0.31342242287839056, 0.19444095272804066, 0.37144663644978426, 0.13970779225291974, 0.2482721453489847, 0.3832676439904729, 0.2794345435729764, 0.5021357456901147, 0.24956504841627114, 0.26602757624589896, 0.10207377824903836, 0.357797349445548, 0.4817243768115358, 0.12007327922477608, 0.5015025198393139, 0.4847256418959014, 0.42544519000894576, 0.27771836698384245, 0.35904851254129144, 0.3980739993626947, 0.2423651690061701, 0.1986827780055612, 0.3805990370249879, 0.4196342403643315, 0.3170231645137138, 0.18238145681984366, 0.2567383745646913, 0.3183516557848531, 0.41214798897648064, 0.1086296978854888, 0.12345146546615235, 0.392664054900596, 0.39642678899371453, 0.4545317252163514, 0.34892951024009433, 0.34287569469392604, 0.2779609799799397, 0.22457141831890765, 0.4347114417864718, 0.1799877902625051, 0.11077211775584364, 0.4116407312083799, 0.4489432155829842, 0.11016865532811408, 0.21791568928112792, 0.2657391865745361, 0.31278095345279744, 0.507587992847601, 0.3847902029347111, 0.12950599593530845, 0.5087546458355799, 0.396281046029587, 0.4304256974818427, 0.4325173248353584, 0.2007232086060406, 0.4710630470991908, 0.2436062350965654, 0.24535870852892594, 0.44753994575709466, 0.405771919285453, 0.11360896310361288, 0.4035843504781713, 0.222875179304598, 0.5004533372221089, 0.3982477869177769, 0.28505861996906995, 0.4076868431247669, 0.18026978452269252, 0.32515406155310944, 0.12796528051414172, 0.1191754475414126, 0.30256930604321786, 0.5072699612154258, 0.49550953394148606, 0.3702428591324537, 0.4906616558434654, 0.4658708378535565, 0.22353614833226576, 0.15263749516077596, 0.19410557777357884, 0.3364001893610519, 0.2227107135891105, 0.4597571957326048, 0.4390491625107072, 0.14923448828483996, 0.4677533366410485, 0.3418822289810698, 0.2800450536706469, 0.4693171332312778, 0.15219130517945026, 0.37415481114767335, 0.225160142165475, 0.3736337910268749, 0.10149619570160144, 0.20691712969194787, 0.2932023951960899, 0.33332186677873393, 0.4074135088371056, 0.2878449748321239, 0.2392445705666712, 0.4281185486674639, 0.447891142574786, 0.2662970600407462, 0.4792146317060072, 0.33238582975764913, 0.3253383085146998, 0.2794508246534816, 0.10943757000007563, 0.10271620143276584, 0.4457907944408376, 0.20151740078507105, 0.16397425215392658, 0.2763249903420332, 0.4628317598148275, 0.3331172393971289, 0.2383720463788793, 0.16734170300474455, 0.4821571996468839, 0.2719283019883412, 0.10505729079168737, 0.4051685249803764, 0.1825667995102832, 0.1289032321481403, 0.20811967751599256, 0.4359226548727071, 0.4761111032247839, 0.4803868494689345, 0.28225647071460125, 0.3045911361933955, 0.4600926799583833, 0.2662115794814228, 0.11511748567269835, 0.21771289056868745, 0.28634541912078204, 0.3242209790016265, 0.10509274124790953, 0.1118483958406018, 0.3353734330607392, 0.13524067571957454, 0.2273460912562995, 0.4715175675957453, 0.2831614225075048, 0.4349024538740451, 0.14584102765848886, 0.18040973999028312, 0.3751813767056944, 0.28007729072474785, 0.4213610479247615, 0.3924815682608429, 0.41995343845744026, 0.4813502939201438, 0.14620633465564595, 0.3573021982279693, 0.2415144029332201, 0.3861932760473272, 0.2945723141841132, 0.21108720785798246, 0.1634783299814353, 0.2285766094347125, 0.14960690025225615, 0.3830107474770542, 0.3241418930324178, 0.1245162683523079, 0.1395093054362124, 0.5078926984338343, 0.20146354223653767, 0.13444417467733116, 0.29914746215484656, 0.2744040972468754, 0.2696470649781276, 0.1612738675078828, 0.15228045576435595, 0.5001881735418654, 0.17546650102152495, 0.26546847731661, 0.1818723635505221, 0.4541557689502512, 0.16457541789267827, 0.4815256561082012, 0.15497435275313304, 0.11730882635887555, 0.2362879490439947, 0.3248830769436051, 0.2138119322896352, 0.2289579675723153, 0.4259979071099603, 0.2796945463657112, 0.16756780690564838, 0.3591543183196926, 0.3521183144623342, 0.264564837431056, 0.4030676972042987, 0.4154929960334785, 0.4842337726346572, 0.1950861705195362, 0.106749443876201, 0.2427151967138315, 0.4813405366249767, 0.3367899640727472, 0.2349439839721333, 0.4640130406077794, 0.4636491971983273, 0.3116345782257356, 0.4980072864179037, 0.4715755476030566, 0.1581513982359129, 0.4101408534237895, 0.3151089100581631, 0.4100954634209112, 0.496498328665234, 0.4831064979592264, 0.29025963034126023, 0.11881048448886375, 0.4196159599888605, 0.2961262503161167, 0.10564741173008156, 0.22136905179251493, 0.31191560973876986, 0.2278892169758509, 0.4013851415564429, 0.2748119166399605, 0.257427213694752, 0.130647401916974, 0.2412474358979276, 0.3016491840061233, 0.4658061657263052, 0.2311587416038584, 0.18016242881606284, 0.4693760925011942, 0.1492712519903252, 0.31156200276658297, 0.1754221845896038, 0.1660707231649341, 0.10429450605742616, 0.3731240706819767, 0.16669649134361694, 0.2504502043706206, 0.4202865689820434, 0.4524495175819014, 0.34351941693118115, 0.12411024173148193, 0.19430315012914345, 0.2146199295392902, 0.13119955562198754, 0.4192440312000262, 0.33343692956040283, 0.10389284719139576, 0.24272859762840765, 0.1670426629382224, 0.29257990212458884, 0.18785741733261424, 0.4637605970196985, 0.2493434739309059, 0.14687665871065966, 0.4128408634558299, 0.3964610234521604, 0.3693708118235074, 0.2764238185945637, 0.2658989012799905, 0.4351005156918717, 0.3201194144343484, 0.15211029089239686, 0.4538559331234127, 0.21644929104549504, 0.3237752395990932, 0.2752612349007526, 0.30344200168879804, 0.14723158114819015, 0.2775412010141137, 0.2339212648394472, 0.17113849024481256, 0.4190896028644586, 0.38505731672823, 0.27271916712996624, 0.18518662743341327, 0.4330476211298245, 0.3376889956270517, 0.1560552598080366, 0.2272562944574945, 0.4575113790959541, 0.20961206682764755, 0.2881372161962005, 0.44131212406512, 0.2163518120855345, 0.13209368241188285, 0.3686698348970907, 0.278794457730579, 0.1504532115183831, 0.26764322182973954, 0.3254433450085171, 0.12545463534108586, 0.2964384345283667, 0.1112891820342128, 0.4009989975645719, 0.4850058152677232, 0.2327058537197581, 0.3086822029697321, 0.3038805923105608, 0.1046168080447086, 0.1841636997010139, 0.4711886811432819, 0.4487735375713511, 0.21127988619008695, 0.21967934421193933, 0.36369436841722624, 0.2819060675706194, 0.5098229094469925, 0.2971603976616897, 0.4689351175342802, 0.3195923542660988, 0.3772628672788391, 0.2667820648580901, 0.4410740807249008, 0.462678329295202, 0.11530754335334548, 0.21939022047760054, 0.2632818952401373, 0.3573176221973571, 0.15402637612768952, 0.4723529745811082, 0.4525699873612638, 0.4539353701271564, 0.17883761454992753, 0.2926392988052028, 0.11264517495928847, 0.20274570468189254, 0.4787432604728005, 0.2191462000336784, 0.36952636022202345, 0.5003300729671588, 0.4776133957967255, 0.3771280327105128, 0.3990290155509713, 0.4697246452386624, 0.4026346393304755, 0.20161829763285413, 0.12230594747672598, 0.2162690481141662, 0.3646755043048705, 0.37289149681347705, 0.19876690104429254, 0.3862238983260008, 0.4137848791818547, 0.42273463979245096, 0.4112066261958135, 0.467292230363413, 0.17460074395219882, 0.3740778422643117, 0.19204150939683853, 0.29056673903270336, 0.30560272281346657, 0.10311703163845927, 0.2677894821620923, 0.15605955013635506, 0.3427042502986256, 0.4857714896560004, 0.2632800297435475, 0.3904406083409224, 0.17032929119833787, 0.4262308612475676, 0.40089608216693984, 0.12344931796535707, 0.2556927617411499, 0.11176806080349208, 0.4833077839637422, 0.3628423064608684, 0.4851583254102921, 0.4393934697683672, 0.4907831529035765, 0.15766049425204853, 0.14790251142921024, 0.4422593955057287, 0.4713490217851861, 0.13853537405320174, 0.16366897468727648, 0.135462731884468, 0.30014414400377865, 0.4348363972961531, 0.1818404869923148, 0.1633302392475776, 0.14488901146736616, 0.449750300659979, 0.4008911124883656, 0.22132748658931825, 0.14373469410870224, 0.4399630026119016, 0.3029119820335177, 0.4262119041001471, 0.3300422177948096, 0.11557679689099185, 0.24950541786923824, 0.16592881634180268, 0.40110768472180347, 0.3642938471825351, 0.29285897416038, 0.35216412484157045, 0.4100512645904096, 0.2287484782650249, 0.2077420332903948, 0.4907511613333849, 0.45858210703681296, 0.11201827375199604, 0.3265740357926222, 0.23028982143578464, 0.16825775314132213, 0.2053592766217824, 0.38716561770174496, 0.4511892297109513, 0.1558414783380399, 0.2727481972060186, 0.25695340849661497, 0.11129889603122033, 0.21859639335073874, 0.19707852110820667, 0.366647222335442, 0.3295329718430933, 0.5006327706208658, 0.4477683501407923, 0.20347662239191544, 0.21281824634147314, 0.17960064708369286, 0.13641965621152946, 0.27002391062540965, 0.2362023607547909, 0.13853257754372306, 0.303015435042028, 0.18181764558756766, 0.4661276150645872, 0.3575546386515108, 0.36733572511005297, 0.432751587755413, 0.19535326498413413, 0.1993629955921486, 0.22709149950446164, 0.35055167871639914, 0.4927148796408112, 0.11653123309120535, 0.12203044847389505, 0.2965848820807816, 0.3621325617222548, 0.2608737085594397, 0.10825285817356388, 0.4104546903854669, 0.5014488862099178, 0.21747619801886675, 0.4409150786697121, 0.3690660746688173, 0.5039210190214474, 0.42420990154462107, 0.21097998716312266, 0.4680214648712427, 0.16661450059610852, 0.3385273710905419, 0.17410200553125782, 0.4010737797942101, 0.2895675836859504, 0.22128605954867345, 0.15775609248594422, 0.2528206571096855, 0.20158444266845527, 0.24035420642627384, 0.11871399994595473, 0.479489292661195, 0.18387859824941605, 0.4245165942619709, 0.316183850339653, 0.4990260498602801, 0.30963651528499275, 0.4005065210704765, 0.33572710038506953, 0.40008177082289703, 0.4932731155188245, 0.2734746431165588, 0.4805553414474811, 0.1686820620129623, 0.3772399089806925, 0.4635260299871691, 0.469090335612155, 0.10636187877959044, 0.3451559647481481, 0.13123864677084462, 0.34261769844279233, 0.12453564488217204, 0.11674843018216675, 0.19551826374715847, 0.18973751597374766, 0.20425873005239856, 0.2784324998548607, 0.4041316378858474, 0.30238516777096314, 0.2484881482603716, 0.4542425121143936, 0.3970712838725667, 0.1901671473234277, 0.5083487455007831, 0.38782576356326015, 0.42658960265952905, 0.5459529397810838, 0.3902562117491558, 0.4005875332251144, 0.3765748005286385, 0.3224893967297345, 0.3179325144792709, 0.4660198181843602, 0.3808412323158253, 0.21358386371118715, 0.4120359966848769, 0.2122189195393128, 0.2226283258379591, 0.2035540545013899, 0.14990374194620426, 0.2725414296344877, 0.4151134380026631, 0.3124767277322644, 0.14471988869149144, 0.473557720324463, 0.4669465690873377, 0.4650258757942759, 0.12424765778627342, 0.10247292564472438, 0.4007473065588196, 0.2649777975713335, 0.27005159468615164, 0.4719712295798069, 0.4708950648287342, 0.28413976347003256, 0.2361156404968219, 0.4240022048021954, 0.3171657584949605, 0.3318532692695423, 0.28209108935532146, 0.40785508822893607, 0.2855695105209005, 0.14175545453082036, 0.2374158339546098, 0.2856265695812188, 0.4454440695518696, 0.4836326055807707, 0.22500229670511632, 0.4337562111378701, 0.28926525483202503, 0.3448814427225684, 0.3182409284245861, 0.3025340099863027, 0.31617054822810564, 0.2715968338564211, 0.2980829971930365, 0.2535409290708491, 0.1477985789901501, 0.1697262610231382, 0.290723643668367, 0.17898341362226916, 0.4478846847530886, 0.35535274053082955, 0.2676664758432723, 0.4572472201381314, 0.16263802806825736, 0.4055285465475959, 0.4385537561128657, 0.3644785210931311, 0.188426318509932, 0.2071154850599226, 0.21951701878198449, 0.16098306050407085, 0.31824642222780203, 0.2626546516645086, 0.31140296701112546, 0.401608079793038, 0.1471308507598434, 0.11290314490187925, 0.4912765364209678, 0.12985542965753327, 0.18586179559936014, 0.23403538697685705, 0.4013868694238556, 0.2454530583658425, 0.5062455195063958, 0.2728607052285392, 0.1305619402023212, 0.1957766876594319, 0.19301577582758334, 0.3384169479634853, 0.4660684868169391, 0.5044401140103492, 0.17127161550184508, 0.2523745557092896, 0.3935939664942699, 0.26860818936829023, 0.4587702808013266, 0.35232171923734495, 0.19441509508135604, 0.4662011739734728, 0.4089442136175154, 0.3474974190494033, 0.4041228118630601, 0.4698528548785924, 0.4282952004401883, 0.1727177282201939, 0.388494410034794, 0.15024335957694562, 0.22642564150516906, 0.1532587264354982, 0.3105595552174314, 0.2420655963113997, 0.4788752675189157, 0.4153476660275001, 0.2733287336612453, 0.2425171992051808, 0.3487217683349032, 0.2062012810541949, 0.23685828399203726, 0.10971999072328467, 0.26958695730248416, 0.4330109989239188, 0.42374542893836403, 0.4997918490176102, 0.3954191598075785, 0.31100349354778645, 0.15812157844462627, 0.20391053979150706, 0.3526801579733351, 0.3715677246243647, 0.15051813459011235, 0.2840630956973784, 0.3589198998166624, 0.4114642565711366, 0.2780844819359304, 0.4897133071992614, 0.28296384293772536, 0.15849378129949426, 0.2345214167995176, 0.5070316364614131, 0.1726086834552053, 0.3663121884895145, 0.3119245480193319, 0.19219517905756445, 0.11631509670326327, 0.4840263574506659, 0.2420820871787879, 0.3779295672976489, 0.3170455075520229, 0.2859709543404464, 0.18861226399125325, 0.1805791708455176, 0.12903554885381047, 0.18831218967355312, 0.36762398003814944, 0.1576316196437892, 0.3178536858363311, 0.2505823322378101, 0.2587293383994109, 0.2676730997029636, 0.43220442786390667, 0.2727120553397498, 0.4677683258473774, 0.4152083836431349, 0.3970562922721429, 0.23295549106377825, 0.12287473001170328, 0.2280436861668723, 0.449002228224296, 0.17074476395097002, 0.3649299709232542, 0.43557456892244506, 0.1392890755678001, 0.3536889803854164, 0.3026728308850853, 0.18111264447553133, 0.10432096976520994, 0.11862699037632175, 0.40120880286469, 0.4116996174309088, 0.4603689174257781, 0.2689491015089021, 0.2365414223866772, 0.19006208012906053, 0.23080067677188185, 0.16082074943049318, 0.3542229146380932, 0.31256209944952584, 0.20717405047949514, 0.2922217404657823, 0.4597233515831106, 0.4080246243354886, 0.3589621342220204, 0.13476707506937705, 0.15445455603698113, 0.28417934774625386, 0.3683654159311299, 0.2988230905852479, 0.29618217511637457, 0.3339999763316765, 0.3322966836794509, 0.1595623254491612, 0.22986969903247625, 0.12516451437554285, 0.29694973308331263, 0.11589064717490373, 0.20079905418623195, 0.17370996604506966, 0.14172173731442736, 0.4504033784376729, 0.4908472361799197, 0.13394753137995635, 0.4806888716352906, 0.4991594941300893, 0.12442980300557592, 0.39961060909560064, 0.2553330685337675, 0.4993365318664993, 0.29538850487811363, 0.10715421636141782, 0.3955455645945541, 0.4436245528888444, 0.3763142412197955, 0.18364882764480825, 0.4464281142005787, 0.43650685916522497, 0.4814319211435741, 0.4425636717708452, 0.4071382865945887, 0.4249750928717576, 0.4509298633080743, 0.3160684194203256, 0.4759084578641906, 0.19797295797360334, 0.3709344727511175, 0.2811073665711541, 0.4361857498032319, 0.20708649601389284, 0.3743517228381186, 0.304721260946898, 0.4178091409198403, 0.16641502195719246, 0.1794929345791356, 0.1044723700777402, 0.2403671211075005, 0.3658925280992229, 0.3060939480987779, 0.2395597110408844, 0.4386115542891247, 0.1118104099381787, 0.16190482622694582, 0.4717800944701911, 0.13562410754740148, 0.14461299848646425, 0.5031045799830718, 0.3706183449934788, 0.2212045743774231, 0.4595890423663269, 0.1677007149634385, 0.2784191379295393, 0.3832761902839768, 0.2261315519385408, 0.23546909343792785, 0.21672791030876395, 0.2263920238356215, 0.14574719753457965, 0.462941389161724, 0.2968255560222788, 0.1694124539962068, 0.2425620305459745, 0.20321443601775327, 0.2856370771813657, 0.16201225656638332, 0.23715161550968966, 0.3694170471814521, 0.4509248857462592, 0.4489440989860871, 0.2795324952763986, 0.13216021265784694, 0.4782936243958558, 0.18356267206056806, 0.1975369414246271, 0.2586331397685785, 0.3190177765300879, 0.29694377289283297, 0.35281330080100304, 0.2984677368010628, 0.4849166193136991, 0.15836315173327886, 0.5044710089946077, 0.2603733003159909, 0.27602037342803953, 0.13525772731649505, 0.16014853186402275, 0.4929786927126937, 0.4031877907224497, 0.281598556714459, 0.496988389809175, 0.3531313844132902, 0.18202495583767125, 0.1401013655916146, 0.2134471886742081, 0.3200302810767481, 0.2096288839341898, 0.15031479016468874, 0.4772058063099708, 0.4686814267685286, 0.1686922620995535, 0.18125494620766325, 0.13510999303946813, 0.33265661358857723, 0.4883074758245066, 0.4711975580786427, 0.3408494354879189, 0.3587054880109023, 0.4945708931455903, 0.5802582157962942, 0.465397802389625, 0.4230452389068637, 0.2234551494286846, 0.380937973177195, 0.37425129864703743, 0.187246686575729, 0.20726937820028693, 0.4835033891822861, 0.19235307832497794, 0.3118782615129954, 0.2591722616957444, 0.4292103646387111, 0.15724829452898953, 0.4271433331501663, 0.22746424878862026, 0.13689557240309605, 0.38491601318023294, 0.11092149324836532, 0.4232244879506747, 0.4893112640015746, 0.13801817441831746, 0.4246646989777172, 0.16415561228591666, 0.2255172986262384, 0.4576587195179789, 0.19922713039533868, 0.2605737769465637, 0.21456813655161844, 0.3180711230702966, 0.4867681460310791, 0.16087097541436204, 0.4471388133296669, 0.2629030820051685, 0.14936708439490498, 0.4372879362623149, 0.2006087961965317, 0.1625745452174373, 0.22265086797109707, 0.4421801582383989, 0.20735401995028255, 0.3861299913229405, 0.4971978456345959, 0.3314888475600205, 0.29767556088159497, 0.39143272834797294, 0.1389784296187119, 0.16548988362586392, 0.4828743624608566, 0.3137968140954341, 0.1443951492851308, 0.3332708490178629, 0.22097772826657647, 0.15637702624770222, 0.1461599886967106, 0.2286987500704549, 0.3790010814345586, 0.4934228306365023, 0.1192444095867603, 0.2820703926657944, 0.2107180107116776, 0.4341431623187639, 0.30450021955217743, 0.15982659693558682, 0.24795962788147116, 0.3076130060826845, 0.3666012433112025, 0.28408087662090464, 0.1328886103189098, 0.2553518758185379, 0.11901702032473944, 0.19819342857793526, 0.3449242002344054, 0.4672564244095729, 0.2400358672327993, 0.34719282206332003, 0.49994142877496, 0.2589667932164733, 0.34088774244661835, 0.3805823935662781, 0.4633241125992975, 0.2084782745968199, 0.2662659782170652, 0.37269906540125053, 0.43153668657873256, 0.12999424183617142, 0.3494537379923893, 0.22755016140915, 0.2577074194105304, 0.13719218611470524, 0.3018953563252877, 0.4338127287408805, 0.1844525528731457, 0.2315974204911369, 0.16394637144474994, 0.4649215728969851, 0.22241219742790247, 0.2576496426500292, 0.20359184096573316, 0.17809497032274527, 0.4399879764498299, 0.18855334041560426, 0.4276303913552706, 0.17175938400901153, 0.17156497274328453, 0.2373276471632832, 0.2660304326704848, 0.4078369534430213, 0.32197071803107025, 0.3425569526069828, 0.4660462724539999, 0.3792532426374521, 0.4855273440858846, 0.2781894446379902, 0.4903849158161052, 0.11161707361435097, 0.13857921663115316, 0.4565273106232577, 0.4425704279491599, 0.2029359605478835, 0.4516564526510644, 0.166582592334706, 0.11410586989714595, 0.3820228126181848, 0.27084170935234314, 0.196689126381958, 0.19414025368343285, 0.4081794111116863, 0.3005408573929698, 0.2139553970339908, 0.2473429275337191, 0.4366024772798757, 0.15205125819710866, 0.4206903098519694, 0.3716637127753991, 0.274619015107682, 0.21516499636956926, 0.2094837803365168, 0.1673814732059401, 0.2827837318944665, 0.21062547306988794, 0.4262370941193048, 0.15773423577479112, 0.1768175550272248, 0.11183391963476952, 0.482666658267089, 0.4541623924385922, 0.4729048131377118, 0.14363725043648448, 0.1702410189999431, 0.1740483555858644, 0.3466160604890551, 0.4720431162848869, 0.32813067663956585, 0.37797383630656195, 0.3909086941790729, 0.18249149368785436, 0.4498240595737459, 0.14234037220294868, 0.2635666656391388, 0.4781409585757516, 0.4455772051995856, 0.3931086563207753, 0.2532837245520622, 0.4744341761755777, 0.2855961134999002, 0.3636342449801305, 0.3190350441131069, 0.3729103224064918, 0.1143046588887236, 0.2552518767931293, 0.1880009316093452, 0.38041414850251387, 0.23370820186082664, 0.12786844050763335, 0.4790411119959637, 0.18766118714908805, 0.2761321406026882, 0.22069711784348767, 0.10180057100430914, 0.1873499361641239, 0.5220035017704192, 0.1136785941859312, 0.4015417766944692, 0.3689408660378686, 0.10218565662419893, 0.5006304149773567, 0.4083960693813663, 0.1143248935440822, 0.11383298055263615, 0.2805340725098876, 0.21053179758314636, 0.3258150608657325, 0.3368996915253917, 0.3742083403607809, 0.16232520930173772, 0.4131646825889963, 0.15529782105696285, 0.3606462357663529, 0.11651727563433995, 0.4887659463104569, 0.33557479614378305, 0.4981190133902463, 0.3857933824537264, 0.1591420597058399, 0.4614538934793218, 0.1644120007640307, 0.21704177120044688, 0.1828084341219172, 0.18861134524060744, 0.15411143685327056, 0.12669737825077051, 0.19986904282165535, 0.38145789090580506, 0.4845408280415076, 0.38327937905694576, 0.3366122296347128, 0.4567010780150068, 0.4129523853414687, 0.2796618871135961, 0.12337099223454895, 0.26140278400139444, 0.31499872191123457, 0.280391425082975, 0.27871584029995033, 0.35793462114426894, 0.4564939001401685, 0.3850905670978425, 0.2532567804578569, 0.22078869250574035, 0.3495957269785543, 0.14459394128535807, 0.4680919751915725, 0.3128026020897305, 0.3515887563490457, 0.2718738775014592, 0.29917450705723914, 0.19034679103685848, 0.3911287611439293, 0.4529208080523797, 0.3719654599860185, 0.4929307933071478, 0.4108838219147081, 0.21368666554256904, 0.12317268812342196, 0.46448599165811705, 0.3141649682864621, 0.19142147623084232, 0.3573433249828807, 0.19831049302974094, 0.1139115275895681, 0.2505582104648029, 0.2658187109075122, 0.16766616747786753, 0.24110802652469554, 0.3064975320942275, 0.4940709349943552, 0.4840648811330913, 0.15420633469370798, 0.3999861680603824, 0.3037936181439931, 0.3182964673315225, 0.315304498472224, 0.1233950811382109, 0.2862135243192455, 0.15669612020458695, 0.2659853483113908, 0.1545431019510051, 0.3964295811017743, 0.2098664597244626, 0.37130361497846265, 0.35694244076714343, 0.4627372583074463, 0.40681823460788025, 0.1088388862062986, 0.3613658815949589, 0.2390029070056407, 0.12315896316483699, 0.3051640086545476, 0.4015743293009077, 0.3344371671806741, 0.107208866666757, 0.13897620896905766, 0.3595402284649484, 0.4772044897092858, 0.22073352098989152, 0.1427236610144569, 0.10131222278534006, 0.11342522680237095, 0.19772557486041895, 0.18814902975179987, 0.13497692157402527, 0.10706703720444596, 0.41819449106534007, 0.2648296169851707, 0.1898766591062732, 0.2046003368612297, 0.22410216053523807, 0.2794156893280688, 0.2987106551831813, 0.3387835919519111, 0.2414319505244931, 0.2828223905250309, 0.2005415618408864, 0.1785161458975188, 0.36205511686696396, 0.21825971040215464, 0.43865441173072495, 0.4619458217603185, 0.11951057021728707, 0.1851690478897412, 0.2137375360932704, 0.2698819330351701, 0.4926276463670055, 0.4961251868852219, 0.4204581425485099, 0.4406595612996801, 0.20982042346566385, 0.42659957439930296, 0.3666450640413854, 0.1180987545511159, 0.4786459454382459, 0.2847533534972518, 0.4876804425135153, 0.4109439281498045, 0.19391490233910025, 0.1346388457676848, 0.4557306135102367, 0.2952645994424472, 0.13330898699865407, 0.4655592424014108, 0.4389986648249127, 0.25483569540914475, 0.3921366805590744, 0.2890643533504341, 0.27031774187901125, 0.1972286129701892, 0.2802119143811087, 0.4708709846895125, 0.15242773962198525, 0.4517000515702244, 0.10974226351003423, 0.13024820979582094, 0.2127022982272596, 0.4161922698387931, 0.2043522933915212, 0.2316906561713538, 0.5096230020814798, 0.3867487876087292, 0.16684858611930642, 0.31973420900123684, 0.5349179360510354, 0.11977951653483256, 0.4089467595225117, 0.11751934455189345, 0.20665046947597385, 0.24660856288253602, 0.29739776109790084, 0.4020614699578099, 0.4918391586141265, 0.11544764318187364, 0.3371737324840949, 0.21626968801071988, 0.13030562783687544, 0.2831526643988618, 0.13206627842477536, 0.11883158747160373, 0.31660889728501324, 0.28398184386455383, 0.30060873014789635, 0.26367401537481416, 0.11725592377941073, 0.4753144152489978, 0.12909080103892587, 0.2247254133243166, 0.2890831806551919, 0.2145767215943083, 0.17052078344138394, 0.19674611114977256, 0.17237889046645236, 0.3451020884913737, 0.415382627433729, 0.5085851591694703, 0.15439028747310365, 0.29354092086775885, 0.4825087925219036, 0.12382691980508267, 0.4969150896748256, 0.2304568790585241, 0.41717220233043417, 0.3586703777072846, 0.4277055359122921, 0.11851971189850632, 0.20012547614869425, 0.4070238872108611, 0.3534299634122208, 0.4095697328353923, 0.3696942240673256, 0.4871213209669387, 0.504027536152447, 0.11165281924780338, 0.21439703024319084, 0.2677045848859529, 0.3116571816812476, 0.3846843671083463, 0.1655457414323167, 0.36173641825391145, 0.10783503430761687, 0.3321735799757525, 0.24314581246170625, 0.18945811961239184, 0.18991192517477595, 0.39322973906799896, 0.4290690999304733, 0.5016407006133862, 0.4746675509306731, 0.3866481698633972, 0.3046278929119313, 0.17989762285547473, 0.11440460549932854, 0.2914905989226607, 0.3809565755375552, 0.31794308402340365, 0.3768984438386708, 0.18208435454400704, 0.3294693130473233, 0.5031439429247897, 0.22317880689011493, 0.4935177265184917, 0.1465164757000749, 0.31912700908789393, 0.4353551127441121, 0.2237110850663547, 0.4290608447203854, 0.2039306709137031, 0.1178760079961892, 0.19779945012464475, 0.39101335044437135, 0.4851263336388147, 0.4744037064058874, 0.18031320660312133, 0.4058729830788023, 0.4515529186382903, 0.3055725132788039, 0.2478837572544179, 0.3641351028579094, 0.4282100183544061, 0.4730407066622918, 0.38556253680722, 0.5056888688866156, 0.3326249752978807, 0.3959697510909679, 0.1933344117368829, 0.29189987398786826, 0.5089158450792727, 0.13477346649485947, 0.2336625833034825, 0.3452536475231993, 0.14490746091522047, 0.20151213034931215, 0.2946580942478827, 0.4071983380657055, 0.1723640419328261, 0.3351646599813739, 0.1849304370534424, 0.2469475434695855, 0.5020846866443016, 0.362646265382671, 0.2661190376980792, 0.20866947318399948, 0.37600891260142943, 0.13558387494545746, 0.2417098883590264, 0.3552467631986275, 0.4810326988243376, 0.16332512720053904, 0.14525898606090928, 0.3521589210149552, 0.48590610119662897, 0.22979756223276576, 0.3183202667393777, 0.4083369099272438, 0.21437331506523413, 0.4184512068329014, 0.2243636345854929, 0.386293006127012, 0.4192871021294362, 0.10654496077817152, 0.4893877796642738, 0.454003354633473, 0.18653500197564335, 0.16177162589799132, 0.4032443178864934, 0.11272592792473735, 0.3857046726015463, 0.20180315205810367, 0.1875695533598537, 0.29973845123142, 0.2050007516636572, 0.212738039331915, 0.1520218392971599, 0.19702407490925933, 0.22242675782211707, 0.3663123296806845, 0.4687554313264736, 0.14068825145143474, 0.4160135830753068, 0.20123976388867768, 0.221124558768126, 0.3162106145017307, 0.3785222309385238, 0.3393026248215386, 0.3248604010742269, 0.4665460286998709, 0.4850497967551801, 0.4053905865134579, 0.16964033022258, 0.4599778507806681, 0.2572381685830137, 0.3789355368338103, 0.1714979761640483, 0.15994733917339388, 0.37260933692901255, 0.4740802684730968, 0.2732341825420116, 0.2914471424972237, 0.4926513443447025, 0.2775392610857308, 0.3672555606427744, 0.3022527110547294, 0.3087452505414409, 0.4213602612770185, 0.3117665159090093, 0.30407967774436995, 0.23165343903759425, 0.44655740417458667, 0.2130569751136436, 0.27912786490587244, 0.17061378596148866, 0.24083587883609134, 0.4788301608554698, 0.3236424240442966, 0.18743255822092525, 0.2498157879139329, 0.16331607400435205, 0.20789485118698964, 0.4906079142117002, 0.12300046820831508, 0.3558657810536016, 0.22079901982823136, 0.260955135036415, 0.15846684457057542, 0.2129316068984008, 0.3945633601650204, 0.4939817865207831, 0.298970772751141, 0.11660264689239605, 0.3033682781022237, 0.39032696673690426, 0.3092717097907058, 0.47393892877246707, 0.4249450081256317, 0.4535720498718258, 0.20751846611317928, 0.3611997984231663, 0.354526325240878, 0.3049291843703368, 0.294361502792439, 0.20630837438234265, 0.4299559252490493, 0.4480688708479947, 0.4951150787007373, 0.5016973230979703, 0.4922981866610079, 0.1708330125297333, 0.33919806902280314, 0.3753725195444363, 0.17170629988348218, 0.14859398361649898, 0.17689562768203942, 0.3263930046529583, 0.22047170433328064, 0.39169510907306027, 0.14577355795114738, 0.29072595602992546, 0.3505393171318135, 0.1905098222076233, 0.2288996834169323, 0.3859539663679975, 0.3745966568749232, 0.5055695668795219, 0.35284970598117715, 0.2900487208900317, 0.1958159193898736, 0.4942738323466536, 0.3795805613295973, 0.4050120571272805, 0.3694657576149079, 0.4285456122402039, 0.4081295581908481, 0.13933095448030944, 0.2520364026098162, 0.23532965971404385, 0.2643085274617024, 0.12893683095625608, 0.4394252887699821, 0.11546450918121615, 0.4718243221835446, 0.4009094474436916, 0.4240737257526779, 0.25626380274309923, 0.35476368552311577, 0.3752122221854112, 0.41814702204694176, 0.4971390854366402, 0.32415184581031564, 0.3559566889489085, 0.1752795390991438, 0.257394921117117, 0.1927314289094275, 0.10616196488856243, 0.1965831130551392, 0.39637658939350906, 0.44650404671265065, 0.13141754314329473, 0.3417809060725103, 0.4672382432269224, 0.30181170231555243, 0.2620637110151804, 0.28233606251911125, 0.2867290588494554, 0.18106240996900985, 0.16416839111333392, 0.11654645380264435, 0.1500285821834825, 0.23358448290458986, 0.43558175464156346, 0.309604923286399, 0.2629089456822877, 0.14339587550813446, 0.11899184509134428, 0.15355797322802586, 0.5081192092720825, 0.20545872023037426, 0.3929489480050663, 0.1103746076403489, 0.423966177932698, 0.1385584599995379, 0.1564031740915124, 0.33030521223538944, 0.3453806004381597, 0.2492764435941452, 0.4647638595472981, 0.32146905314036445, 0.12115263455434867, 0.3606605091555056, 0.4286331446078123, 0.5077055990284077, 0.556121619567957, 0.3861322511945016, 0.12800740878617906, 0.4259333882989207, 0.3506430879720037, 0.15799390952188053, 0.3004628599868411, 0.5010447187338067, 0.3655996251154806, 0.3479596441289232, 0.28990600209827866, 0.4365106906346967, 0.4366289627496087, 0.4224700190727936, 0.14397076584005913, 0.28667111245647986, 0.3011625975226012, 0.23644645737043515, 0.2916323457085849, 0.3320392763187757, 0.4496371864439844, 0.2252865761347483, 0.5061266338783036, 0.3204562247341963, 0.3795417254257968, 0.13181825769068173, 0.4971035635595331, 0.15713441925684898, 0.2788666740259453, 0.1806244186855286, 0.2435993010352873, 0.22505772578099226, 0.17172686522722785, 0.20574835030305216, 0.2978820739759948, 0.16354081605491647, 0.40080947233198494, 0.2454405505706649, 0.4520172673059774, 0.4424125573742478, 0.4765036318333578, 0.1961854496445836, 0.3655075601677445, 0.4992221346332905, 0.13743332011961967, 0.44955796885195975, 0.2450638814625273, 0.28775070210711984, 0.10243857226840997, 0.1713783948928989, 0.15052121338383118, 0.46372266943106005, 0.17094337738785792, 0.13993102816019512, 0.4854796824018191, 0.39715163868159387, 0.4547553017328986, 0.21451540224257126, 0.4814804138197985, 0.46191544003254, 0.10358986489298908, 0.16199084870223973, 0.17418096465054728, 0.1565858052287349, 0.1968192673860804, 0.15762038264243014, 0.4669036005332264, 0.3948450661825221, 0.1377617469728214, 0.4477743147864709, 0.28107189078216704, 0.3653821497202155, 0.35980459402721743, 0.13020979445005595, 0.4963158214831586, 0.256074441014679, 0.3225842488844548, 0.2845467233894557, 0.4769654391378719, 0.496367782388813, 0.14519359956987302, 0.3327806289627669, 0.4298492316295967, 0.29233715617179035, 0.4363241640152643, 0.21398122115271107, 0.43550876806419947, 0.4614512158918677, 0.15911347190852254, 0.1406128328111014, 0.49439651889280295, 0.1850205943355137, 0.22183514074984967, 0.13126143971749582, 0.44469317279512655, 0.4803230859820403, 0.47006734216321505, 0.4745757311323172, 0.28138138664440104, 0.3990624966079768, 0.4945920992652621, 0.4527552868879261, 0.3600784990038818, 0.1666258388645831, 0.5003637948431116, 0.2958076212920355, 0.3201222930634795, 0.14513467660780702, 0.2367711562391025, 0.13259628040657184, 0.2777094582276505, 0.26537838705429195, 0.1627531376282192, 0.19813732094395967, 0.3737534598895717, 0.366527497326782, 0.29307816788599744, 0.4667999375465957, 0.1735526458856238, 0.4175765280014715, 0.4314136528883987, 0.2138814941256839, 0.1583395581815031, 0.3997239469290525, 0.4687731284020825, 0.3627363550534341, 0.2023789318238628, 0.3349136932554645, 0.12765445417586868, 0.19970325490852314, 0.4014923262952955, 0.2330465970054589, 0.2250643714900024, 0.4570400047644343, 0.2001046229060237, 0.2502091549523852, 0.4033008432246444, 0.1290313009800194, 0.2571967854232737, 0.4614729980808308, 0.3316701984954757, 0.376818244193865, 0.12977502977712685, 0.11372088873626313, 0.4442576259908304, 0.10919753260884957, 0.1783321473922763, 0.4057882416523457, 0.4550510194039107, 0.3341578840447521, 0.2305529186607295, 0.30597159437127985, 0.2269099867216924, 0.18520022091347602, 0.3346995137278947, 0.3530472615377477, 0.130467143395391, 0.2889254636112787, 0.32959680377091605, 0.13097836043373984, 0.11310517961778704, 0.12745789644669886, 0.4522567870515991, 0.5056379140336095, 0.36538309657054857, 0.3973057565592554, 0.3918587671248379, 0.4435716403688861, 0.4615204118932785, 0.307241133309806, 0.3940822717659436, 0.4124312298291412, 0.21020234632221224, 0.35379787841796195, 0.3803430634279247, 0.28435918762097623, 0.2628629781690319, 0.4716050190977036, 0.2870192974859407, 0.4808501631892881, 0.4685807495810062, 0.267013069544332, 0.4569438745997083, 0.2311273946370514, 0.22119718647923156, 0.2735580407851581, 0.33059894770599235, 0.472704808235876, 0.2229647340696453, 0.5068937035729287, 0.4817529473893721, 0.13230583480424274, 0.2555578164188547, 0.38546285517900414, 0.1398552350316991, 0.237320597838508, 0.20359125209506806, 0.21074755524762886, 0.109592967807701, 0.24224141159698864, 0.4701746465580439, 0.202629714247598, 0.2265828856996929, 0.4044464083484309, 0.2406452767568091, 0.26385372594971224, 0.2825848684999678, 0.2417863413469301, 0.19964908584929655, 0.29250244288745275, 0.17521400772508133, 0.24504942660265985, 0.12702165705315682, 0.1012908993525038, 0.2501693632557637, 0.12720723953836702, 0.10345747919478628, 0.1589969656904383, 0.5009872776793296, 0.1195242495311156, 0.1829826175694621, 0.44683114333102825, 0.4738307783258026, 0.3505970602891215, 0.12144039337739125, 0.4829047458273778, 0.11430947502551955, 0.4790287062214416, 0.18150540555823932, 0.2382861628728312, 0.4558963852704635, 0.29718582620473377, 0.2818577239011201, 0.4593236334700211, 0.32769361887081805, 0.4691927484020636, 0.4094055518524784, 0.3335749286303653, 0.2421401751088604, 0.3778157543076338, 0.4928907195068314, 0.4198576468273336, 0.16595502731876827, 0.4560606723920234, 0.25447624476247216, 0.28339398422882445, 0.1877237183870487, 0.4421154024289936, 0.1423214904005116, 0.12995160352460702, 0.216848281077656, 0.1964865615322049, 0.2514902250312165, 0.3861881711993861, 0.14961157815831808, 0.123820954472233, 0.28979026791224505, 0.4712784526291731, 0.4664076428678474, 0.14841976250021086, 0.3746398635077729, 0.18692174153601507, 0.3807049752106503, 0.1779329089418063, 0.30327019698307345, 0.21115757738293428, 0.23366542948630764, 0.2900040852102036, 0.1311527703954557, 0.4602603978723162, 0.460958367823207, 0.4454049792098036, 0.4899833440207132, 0.4901662370942039, 0.1926426152538128, 0.327940154003844, 0.3578249097926339, 0.16669003456059292, 0.4704575206400653, 0.43934031854909217, 0.2600823853404999, 0.4695547667494123, 0.2347680632934025, 0.3329423297207762, 0.207367213154595, 0.20721627842578996, 0.21234551395686635, 0.3894996943377761, 0.5544063436778339, 0.1063962741496884, 0.4249248034056017, 0.1960884707497323, 0.2015394694698972, 0.3433697398576415, 0.34251904099572683, 0.3618895259072591, 0.4282513235913564, 0.13192235976858027, 0.4781429570222213, 0.12310885218245672, 0.14561876904033474, 0.5031832703361321, 0.4191435593749096, 0.1803528105529984, 0.35612493804188783, 0.22269258570858388, 0.14646515429868207, 0.2573173072631193, 0.4541566226143563, 0.396751642030358, 0.2741218573979928, 0.11607840313656548, 0.3421793171295945, 0.14554922887767274, 0.33058603890703225, 0.505439403073373, 0.2927500552795326, 0.2334951678489355, 0.11133186590667496, 0.4705691199317562, 0.36571336083198347, 0.18714961459589075, 0.20868056556481512, 0.4371714822719126, 0.3164169069335198, 0.36574096867812544, 0.40300782808500135, 0.2929939021426238, 0.31045755323757684, 0.2857709133474345, 0.16815135143149307, 0.3745083785357069, 0.24879815047162146, 0.19553202916715867, 0.21720770707633796, 0.10591303435189901, 0.4184989932770535, 0.10688984070172593, 0.3800882990452935, 0.28109585491329336, 0.183469783287923, 0.29797698396565864, 0.23846942946230584, 0.253489916319924, 0.496493486290616, 0.18655769547668133, 0.16024699357384442, 0.3717748541285407, 0.1708496991946177, 0.5296747004635595, 0.20739393371325213, 0.3692698159594791, 0.11937160115198898, 0.3843398727302685, 0.4714181091770782, 0.19351270196416567, 0.3576520734436415, 0.4197737890971226, 0.22625563285448425, 0.30908287140494983, 0.4845617300948666, 0.4142427932916184, 0.4238354520374688, 0.14571000718147115, 0.15290759443682095, 0.2111975884291738, 0.20825882137502674, 0.20155362460974044, 0.4922781002012772, 0.3673694622102769, 0.3415464775165442, 0.18150311968630267, 0.4406818904618999, 0.5073742263326237, 0.4965482916772183, 0.4156182458801717, 0.15017112121905865, 0.2370004747881356, 0.4483443175058688, 0.26594475140818363, 0.12610991980867153, 0.4399075078549725, 0.5091317011444275, 0.2241513404993808, 0.17185531343088944, 0.2245873018912847, 0.4737826461855905, 0.3050784664852497, 0.4716860692515432, 0.20887660544275927, 0.11271414960005105, 0.4014858819118685, 0.21696751367442765, 0.3510498933401096, 0.2053737466986367, 0.15055914323221475, 0.16835750133058347, 0.4062299179570976, 0.14642928431358124, 0.2418020839072705, 0.3917911976899156, 0.3099605283081045, 0.3847785267283657, 0.372843723136589, 0.1335861057386762, 0.4637292525027381, 0.4404803399973576, 0.4561999322334774, 0.15207448591899125, 0.26392946249133153, 0.10279148341097394, 0.1421253518972063, 0.37504202834073697, 0.4779137234180639, 0.1564572148616915, 0.32454099465511266, 0.3045047069695762, 0.2924536957882192, 0.20423122859918824, 0.3710429682891948, 0.1962606081173565, 0.4991124031088863, 0.3139326752263573, 0.5024045009600997, 0.10829372701402852, 0.4867466240600017, 0.39120079313046696, 0.10237633256514994, 0.13288659604273928, 0.22438081856346714, 0.16844413116749352, 0.35608142312025737, 0.39545571167224697, 0.24261573343994985, 0.1431297358454035, 0.43926737503091495, 0.4277226043052097, 0.5064384215953855, 0.18806936921529485, 0.37002151867192296, 0.5012787449230923, 0.3661195831728533, 0.11553760238482942, 0.180757984316926, 0.3438222356361744, 0.3121724627443791, 0.3477765375330482, 0.3581418518171954, 0.2042536202758553, 0.21552328190921227, 0.2918550963637012, 0.3305356053254009, 0.16451059317301453, 0.3961601496575481, 0.11250589200175326, 0.4172392505185154, 0.15744437453265148, 0.2567794977759117, 0.4761255993636868, 0.3943902965713853, 0.10734954608875416, 0.4770953271171728, 0.2688890041037774, 0.3801262538915631, 0.2929179139440481, 0.4901689050924669, 0.1786620629756947, 0.25844104316111083, 0.2189241933123362, 0.10782680275552722, 0.3631477936114232, 0.12062907255008992, 0.13339859943128596, 0.13066392198152466, 0.33264577747142393, 0.3841820212251805, 0.4422886815344351, 0.3082579622784501, 0.2326476030493292, 0.1391154860334745, 0.3891856673496834, 0.4538094887829445, 0.11343651418952384, 0.21357353946004465, 0.22161211910924405, 0.15258712735480942, 0.4508339752326972, 0.316070793663686, 0.1728157050701681, 0.4657045774837492, 0.11744893255629615, 0.4934664052154572, 0.4359087203686143, 0.3954105668279853, 0.2543756247819787, 0.38855742004309146, 0.4598202333375905, 0.3312776050920107, 0.4127150117253694, 0.2796400755542113, 0.24785759165069465, 0.4549026573526434, 0.2252902473345609, 0.2952312548973214, 0.104052295804322, 0.24770630956018236, 0.5017961080950897, 0.34735539185126385, 0.3507290004877633, 0.20369430894924306, 0.1855831405324174, 0.3468235988906481, 0.24080166874283435, 0.2832542809004184, 0.2333830417384927, 0.22778975570952464, 0.4046424277044516, 0.4697864866880984, 0.15520155110644562, 0.3958825725722711, 0.4050766623704877, 0.1503431223224635, 0.3714952063387499, 0.34966722218380225, 0.3275488853544175, 0.3326548841088017, 0.29267181440484336, 0.17381718108193486, 0.3206371840156083, 0.45006437431680735, 0.35779753440998385, 0.153766662387277, 0.11439254572731368, 0.21212404994471945, 0.4253581355476708, 0.14299790986908795, 0.4613953439237559, 0.2562356055143059, 0.4415504136479086, 0.2731033782250833, 0.2860978159580606, 0.19286441603076931, 0.1799311583583617, 0.2358393391447487, 0.21072892590521253, 0.4859894623022954, 0.4050167262554498, 0.14807980741794488, 0.10308636670180947, 0.104346870770445, 0.45031930270991694, 0.49896269521604003, 0.4732033089198251, 0.24268712040047025, 0.37636796605482215, 0.4529974266599279, 0.4897665351393039, 0.2598092582771742, 0.21185117777084767, 0.4568157262622485, 0.3399002198558017, 0.4391227770781457, 0.3442518441370209, 0.27812263945719284, 0.28342866185805515, 0.21697961640739252, 0.3292186928625293, 0.5021244084624281, 0.4715348930371641, 0.11682829933866545, 0.1348761056439784, 0.16483322306199671, 0.3150349019877471, 0.4439924897265297, 0.21960484288553733, 0.2733392258688732, 0.40364887946336897, 0.18090341671074706, 0.26234122221160017, 0.10839062040140114, 0.3481827760843945, 0.2988911451746528, 0.12060780802973672, 0.11697433837776475, 0.2099510863869128, 0.2917715132483162, 0.45225202630940503, 0.3815253529160799, 0.24311120398791666, 0.4233373976562432, 0.314779424497623, 0.4495155030593876, 0.14577987875829426, 0.34108487491171563, 0.22596526207294426, 0.3533280416206651, 0.4970862211762305, 0.22498345389175425, 0.3522156820045041, 0.22801319227043304, 0.2301752469482357, 0.2959902258520917, 0.304227425309042, 0.33243394147047234, 0.4594409035201178, 0.2472146433562802, 0.10194308125507537, 0.2278608837414307, 0.43115427300083176, 0.13385517587913068, 0.15533563312444332, 0.4474601274610319, 0.1995910355981223, 0.16474236047667493, 0.3926123697153918, 0.12296665096363595, 0.13022502231325014, 0.13879260003230026, 0.21532167670507216, 0.1270948091236243, 0.10248083804906337, 0.4794140969724203, 0.1800269645427156, 0.32184440121596314, 0.2722453509982776, 0.4843121034209408, 0.14757087124923074, 0.10485905059687943, 0.4146121414888568, 0.11430559059775088, 0.3069428238938281, 0.4061331153336433, 0.13122427030037453, 0.3222643733172387, 0.4215301553703801, 0.12538571593603245, 0.3695600225895508, 0.3938069758786304, 0.3121258452566899, 0.25480121166646674, 0.17017693844278448, 0.2297979965630188, 0.20748400595797167, 0.2454725404682085, 0.471656416381519, 0.41283838622214375, 0.455365115778446, 0.3478222470230934, 0.27073888379613803, 0.10030373243093957, 0.12712473279900166, 0.48453035377635906, 0.4587363650224373, 0.2891757413666435, 0.4030488252684995, 0.20225317612379584, 0.26807141411513197, 0.3210850985857886, 0.25836140462691903, 0.3325459271227689, 0.19922221484678154, 0.3989776043620519, 0.1274038707339907, 0.19936866372921494, 0.11187118485784668, 0.1576821737506944, 0.22389817546605773, 0.3047772045018333, 0.3026701572418157, 0.4509846658460651, 0.4608906792896871, 0.2719288959140255, 0.3397025524605464, 0.3095217420892383, 0.4884863128534582, 0.4811420799903592, 0.29775723075344945, 0.3759402619263421, 0.4472169395497201, 0.2330360130063609, 0.3093397701985172, 0.37898751590953217, 0.17468099111013013, 0.3801905538405496, 0.1575731918357154, 0.3438897145033322, 0.2051966182757639, 0.2592724351873717, 0.1456745069447022, 0.4873421689857978, 0.10152993069673938, 0.4796205773662481, 0.3234569089715287, 0.3983128846104562, 0.3330141387081874, 0.404317072908546, 0.25311902911187834, 0.26658662283765266, 0.1048518751840984, 0.3219754133939162, 0.10236528607414418, 0.26822603770720715, 0.20892528739110014, 0.3336452158043067, 0.3235263688237431, 0.30759372137388297, 0.1685008524153635, 0.3994061731452131, 0.3828263670089784, 0.16371577521266548, 0.11577583716173025, 0.2667762100908094, 0.3950716601718364, 0.2410116173488319, 0.2981751877915505, 0.2686112247930307, 0.11016795444212378, 0.4477913036839183, 0.4939263580512809, 0.34128019541378063, 0.3144336549756133, 0.30516864666160864, 0.17308322006742566, 0.1818480966460928, 0.14283511141671662, 0.4902218177870741, 0.11578924755810185, 0.2444327180667092, 0.2863566898766035, 0.4695284273355517, 0.4735465839071539, 0.5093290328440288, 0.3461114140309253, 0.3791130737699912, 0.4908255935019869, 0.14125111422190548, 0.4895833035995138, 0.3168053667540237, 0.4067957898684954, 0.4569551358866404, 0.15562915583376885, 0.4780099138352849, 0.23746402551414056, 0.4478413020039593, 0.4921957574203797, 0.4273237303777566, 0.3137628334784923, 0.11613299078639287, 0.3345553759610279, 0.12973002690478436, 0.5077532738623487, 0.4671160202185376, 0.2761642238628259, 0.5055612757991325, 0.25612023996027666, 0.2983874832611112, 0.1350777875674837, 0.3557316816829881, 0.4924786711773197, 0.2927818798590949, 0.4430527212426463, 0.4229904046217824, 0.29279759786913306, 0.20168794673297674, 0.11124960445103847, 0.2936618477700529, 0.2237220259222568, 0.31205335561349323, 0.33853329591749115, 0.3728621308323032, 0.2884316816696517, 0.3434179441410829, 0.4237120397129115, 0.271870052059207, 0.1582379000660335, 0.4120429070220513, 0.1287392422451291, 0.4854447171376654, 0.44725064213694254, 0.2255298057634581, 0.34035100937558355, 0.4850194778406904, 0.3663606042895271, 0.1845210501349076, 0.4857093300785061, 0.298244212206487, 0.3473752503054326, 0.14252010321855185, 0.19929789379330928, 0.2649936493716528, 0.3310645527760093, 0.4278525790568739, 0.2511946797096936, 0.3612992336989841, 0.2606289013731371, 0.2518181649583047, 0.2335446884062657, 0.2509264535647402, 0.2728163671115485, 0.3750724939595608, 0.34703035349230804, 0.2254950269914193, 0.256883378869192, 0.18016560255361724, 0.3196655595093372, 0.4550144372826911, 0.1867238570491902, 0.28677726566127393, 0.19434022856221145, 0.38904442299414654, 0.4900657022660764, 0.20917479797916716, 0.4748657858498967, 0.1633332412098584, 0.323018277446097, 0.1633703628663748, 0.25371819420906216, 0.20707066826682288, 0.11717361224776635, 0.2375960505926453, 0.4170281218581808, 0.31824104462443764, 0.4250572614220871, 0.42438894056240417, 0.23549169942086498, 0.2829483600209265, 0.3925973013723638, 0.14263948276585706, 0.14813207607076415, 0.33299820805376623, 0.4637695212671752, 0.4680106450749023, 0.22698655222922035, 0.4561535488054046, 0.11603343973946005, 0.4770635549183907, 0.40558153603786906, 0.15140915221150472, 0.17187961286249087, 0.4102146710155373, 0.4250358233792825, 0.17825780897257548, 0.5076515684556611, 0.32339964330687065, 0.2753103508561429, 0.3793827457692564, 0.2161937236454592, 0.4328239385086639, 0.10379535225247324, 0.3933205047504677, 0.15467497963840066, 0.26919724683570195, 0.2621142985278202, 0.4208191075701925, 0.4945252620751267, 0.2256477727155045, 0.29851640303301874, 0.2369313320688899, 0.13052553494235358, 0.2454337320126612, 0.12957824932554235, 0.2753158392958943, 0.2955586704997468, 0.2370584553717603, 0.2968087073433028, 0.16101966583923366, 0.12450525577232392, 0.5079802608821253, 0.2963714246357353, 0.36980528971568416, 0.13089305292229728, 0.1718263264036007, 0.1855621682256751, 0.4265945008361463, 0.457162753628864, 0.24506037185306265, 0.34423828703132203, 0.3811785318941937, 0.4490752585182861, 0.1952545532366377, 0.32838599334623136, 0.4553210723773719, 0.20714410489391707, 0.3478175723528219, 0.377916616853889, 0.3708980781020889, 0.15107069735856646, 0.3832811224109197, 0.3276409460860545, 0.11645966087228543, 0.37041248070238897, 0.4522087856126297, 0.2178691172624423, 0.1787870757067102, 0.1937007479722336, 0.32055628653277324, 0.1744960426991275, 0.452240493843016, 0.4621835212752146, 0.297288172491357, 0.2402404873974083, 0.2500531411641932, 0.16803294563061202, 0.32588384139820137, 0.3230329094378863, 0.45300159990034, 0.4163298388334024, 0.44813151277688257, 0.1637566936324042, 0.3252346493308166, 0.3245633419071479, 0.4217541008052916, 0.13973500907040298, 0.3965988102219844, 0.4591838427880501, 0.4935101046396929, 0.13751542710474213, 0.20466349992396268, 0.34963058911305744, 0.34453660897582783, 0.5002948535662659, 0.5072722301150242, 0.4436880267226085, 0.3950969320317065, 0.2878022710792039, 0.3954101834540852, 0.4603566228111603, 0.2601035946950148, 0.2890558590581204, 0.2760216712046653, 0.4125248791808697, 0.20574589383916184, 0.4328338429154588, 0.19286040909742505, 0.23867942236972525, 0.26629936668732035, 0.13643092251587896, 0.4450867917283766, 0.5256781790794008, 0.4001260710078084, 0.24906939781553095, 0.4318878757210425, 0.2158173577687871, 0.2502096244317117, 0.5084571883278212, 0.2236974633593647, 0.4009395660063181, 0.2971764532683279, 0.4596961095942309, 0.2171815303807529, 0.4558268547275969, 0.17582319559074708, 0.4839271226301888, 0.1128186279295888, 0.2495149598605059, 0.13180132617417814, 0.3649665861875232, 0.3570195838010577, 0.4414846964062622, 0.2093451858133236, 0.1982099120715431, 0.2279282184665956, 0.2657368320656444, 0.4505537071725685, 0.11282157441269955, 0.4402040780616965, 0.24815914682954035, 0.4699287721100306, 0.3091363287925151, 0.22649471599298654, 0.3298208610443262, 0.3796719768286775, 0.4186257332587601, 0.3244770989289222, 0.17337464402305708, 0.39312221218379373, 0.18491426813652967, 0.38039601796817496, 0.238451178190364, 0.4034020800178142, 0.10250583085017856, 0.36955690394383295, 0.2042580226183853, 0.2450792363989137, 0.44506723019443706, 0.2348917103106631, 0.3108522435649368, 0.3223717336201156, 0.1854669716707349, 0.16574776360485574, 0.20624979257484935, 0.3706611650644373, 0.4594777626985074, 0.10432301168894263, 0.38392364242357596, 0.213591390681826, 0.2657912487547026, 0.3738613827625391, 0.3880567197070977, 0.21560930455723448, 0.13552979681242294, 0.2905235649042736, 0.12394596437159636, 0.2848839718326136, 0.17387998469487975, 0.17705958696045201, 0.13158581227153435, 0.4177344627749711, 0.17955718554318428, 0.11767491111870525, 0.33852443829847545, 0.14440889258949358, 0.3365677577008484, 0.4508467699391394, 0.17187138305412514, 0.2364617230412751, 0.32407119591655925, 0.12583716439802062, 0.3059435856429249, 0.4475728840729962, 0.1873521616412213, 0.2068011231870612, 0.3812404951486328, 0.5056765043164946, 0.3038678803705715, 0.14146939600989147, 0.4356562545196748, 0.3807212287008038, 0.3821972082887056, 0.4902867130041165, 0.3051937975484706, 0.4937889121196778, 0.485420101977072, 0.14692168529737826, 0.42525854138927505, 0.25968745289796313, 0.12603357775602622, 0.4031309213040272, 0.3937633971719451, 0.10093354849982618, 0.33702940348845656, 0.13689405245162709, 0.2718569493474964, 0.4789252833040459, 0.2772207740727406, 0.3961443526400753, 0.3972923500364296, 0.21268051935247867, 0.3031762988773309, 0.25988430010001873, 0.3858203336831588, 0.17920598721008435, 0.4885851586051023, 0.36579734829154464, 0.4986250818329013, 0.22281158943548413, 0.16943389147191135, 0.4839317991138135, 0.29461993656430496, 0.469951697525041, 0.18516590006271275, 0.2704987394620863, 0.4398948007958248, 0.23277291740165454, 0.3525319545864671, 0.1331027222730046, 0.337790522351081, 0.4653112636298719, 0.15907694610510129, 0.324740813855663, 0.15330140905663242, 0.272067338187078, 0.3273032281498546, 0.3803532473404163, 0.2359941286306063, 0.2974254283528735, 0.4125055658522323, 0.4377417405022905, 0.14315450485522946, 0.25518793887137325, 0.21203789237819384, 0.3632398929162017, 0.3742346607344318, 0.2211354132100116, 0.5048375881612815, 0.38717488772350506, 0.19152385676522574, 0.4742374384816521, 0.1099038284149334, 0.16512561672781384, 0.1444433644587698, 0.46193606690583794, 0.35101954902285826, 0.4413599106238386, 0.43700629696387294, 0.214923462564043, 0.27513927340551336, 0.2505282260041587, 0.34235094134401284, 0.1169195994507988, 0.12111371793803913, 0.4035390264652921, 0.2998134980415533, 0.4284764936138656, 0.11613875065200308, 0.4466912573300843, 0.18702183963746175, 0.3569999313910337, 0.1151803994715736, 0.4096849212693032, 0.4142323107015303, 0.5327278785648479, 0.11313889686190673, 0.48335940165891705, 0.4659388814794052, 0.2872046394892236, 0.453015211558551, 0.3054902501707055, 0.3442558412556037, 0.14243231901049935, 0.1161634531221004, 0.12325031169406722, 0.16637397807802826, 0.476764478826301, 0.3845188670528735, 0.4874158708682356, 0.3945365123951726, 0.3779435542090954, 0.3190375068304114, 0.2961868631964289, 0.10392449548346376, 0.15433463350559312, 0.20960760970545605, 0.18611391829796972, 0.4990291755144424, 0.4406273675129096, 0.28593265016477803, 0.2965827500841717, 0.13985504010260036, 0.19126520224581167, 0.24951655988551755, 0.4480631632711097, 0.1856542861155121, 0.11174266360474837, 0.26327164587305146, 0.17148569241830205, 0.12062618803158175, 0.2259180489492149, 0.4659689662035597, 0.5099024872064518, 0.3230736070870176, 0.4912944110603466, 0.22213943519464185, 0.36180870105331975, 0.2576831756872809, 0.4153754923465541, 0.2413822152142721, 0.28252509210472804, 0.4792431921792547, 0.3004922757627587, 0.22370386919854865, 0.27911439938921323, 0.27454613559783964, 0.470866048815052, 0.16751026050893808, 0.28050411576224044, 0.24185915438507416, 0.2886141203361804, 0.2819052309386795, 0.4927451525859876, 0.4173113374960964, 0.1276132256982057, 0.357032921522204, 0.3764738075949844, 0.126035027724573, 0.3398032372470925, 0.4413205256608047, 0.3170848148480554, 0.2364824135441041, 0.41271345599553794, 0.23848379470256445, 0.3842902032560976, 0.45953334343244895, 0.2365012456196036, 0.3928017122065641, 0.4711768169453663, 0.43193780396711656, 0.3454338898064563, 0.23531796218062034, 0.279244624654333, 0.3973929164162445, 0.13521234845607627, 0.10170243148368074, 0.4197505927402476, 0.10492711120776647, 0.14477940594630084, 0.20244737179440955, 0.4900756926322771, 0.2531476442420575, 0.13590403929134706, 0.467839100886787, 0.37447016771841996, 0.2952588840610337, 0.11798591881913588, 0.2562807062772344, 0.35415303699022216, 0.30372502859370965, 0.19719441903986826, 0.1922286456353897, 0.3101130021328725, 0.1825703292615136, 0.1822291263206574, 0.32667557433160804, 0.3856235154370353, 0.1978072424543117, 0.3926721448232852, 0.4069991006388155, 0.1996472494804647, 0.2560376429698211, 0.2874892402101592, 0.25404104604833594, 0.2232370936614037, 0.3187795145187801, 0.240003297705238, 0.4556203934068861, 0.18923583062964405, 0.4995103563230917, 0.3996098213621192, 0.2320961374922305, 0.3583212323294611, 0.2072666562986768, 0.42051464828815455, 0.21971777515984053, 0.4757701011559805, 0.16297778638643856, 0.3927669996824398, 0.3567150992664593, 0.1864747749500472, 0.40672974425022296, 0.20697719209048887, 0.1112493628882492, 0.1928781035437495, 0.13012659454093667, 0.4778989992410849, 0.4138457298986613, 0.4061283030867333, 0.5026531715044368, 0.3287760102473517, 0.21844965239024755, 0.2055324112927049, 0.458317551042303, 0.14594616855706086, 0.16214792759948807, 0.3182207869286686, 0.3760083984496385, 0.2548058096067859, 0.18768364607797056, 0.14052147356232164, 0.4844934699817196, 0.4426317401399456, 0.2654382238535689, 0.4297059382725933, 0.1854994348358944, 0.4541429641521224, 0.43394590322422205, 0.34142131065242515, 0.15613964766420954, 0.3829211188483425, 0.43667286849707054, 0.340046121993753, 0.2283180711665972, 0.2038047571997898, 0.25807879602297706, 0.2975690066615122, 0.4934331294056591, 0.18023255520019227, 0.430827632016118, 0.3606966568463289, 0.1619972860356798, 0.1601554434640455, 0.4158890376222197, 0.2841597681652941, 0.4341969352244641, 0.2361446217523179, 0.4914913434586311, 0.3820616909914689, 0.27315112171879874, 0.13545459933995035, 0.2948558273370003, 0.2666538738655159, 0.2948567289491353, 0.1890606010664363, 0.10024743027210822, 0.13167398727100696, 0.14420356545889088, 0.21247269049624465, 0.13002342588010207, 0.4660486188243543, 0.31927220367784304, 0.3310265992678867, 0.11351721402632706, 0.235866790553386, 0.31827346408474266, 0.4707155862682513, 0.1232784838723728, 0.21064086706523236, 0.4724051719434914, 0.2917350991873029, 0.3097732781123612, 0.26261271809258896, 0.4955518360431951, 0.4719805475904861, 0.24499774584765796, 0.4399759095404801, 0.2460875883629461, 0.4377519266886427, 0.10403808293631857, 0.1983859855367065, 0.5072748828518318, 0.5092371197663454, 0.4147742370105704, 0.38163422017900905, 0.20736401374487545, 0.4323837803094914, 0.3757311699829439, 0.2546592615906709, 0.3656265511279364, 0.3321566368944402, 0.3553569287018987, 0.12214079252833546, 0.22784602876902044, 0.4387686536919847, 0.30429471964537824, 0.19683193814383287, 0.21833022108559966, 0.35079173794530805, 0.3750259829344477, 0.29204237807558386, 0.4493389632406197, 0.3289534230192853, 0.4829429383676202, 0.4930029729045965, 0.4585795405826328, 0.23040269050493886, 0.5030549490993714, 0.3316491367761761, 0.122519513237856, 0.3570841481410385, 0.5081893757134813, 0.2492335556769593, 0.3220319514277021, 0.3104327592563059, 0.10981752822514168, 0.4530267699706357, 0.10566473482009398, 0.26945276638721066, 0.4881705078113897, 0.2618383020894467, 0.2234547669082433, 0.2695241881117936, 0.11954013712927715, 0.20908402664451736, 0.330116472040828, 0.1342115351308392, 0.29525539885766017, 0.39521923897252254, 0.2410460203689273, 0.2856319562675993, 0.4238405381184214, 0.16899924214504064, 0.3606657632460807, 0.2948363422676569, 0.4699478011232551, 0.15360087543844422, 0.14335859811261256, 0.4254867806349383, 0.12094578616718588, 0.4609878715931068, 0.4007837835180542, 0.3944389477542919, 0.3998258097749761, 0.139346935996537, 0.4634696174836342, 0.456421357015978, 0.4966829641485416, 0.3165732735615214, 0.3734325236177741, 0.4698269938975136, 0.381315546261972, 0.4045096779536737, 0.1822775420397384, 0.17273003118762342, 0.5076426942678599, 0.1535615208351491, 0.2679550149209861, 0.4678046101314508, 0.2211219285098504, 0.3619922748343486, 0.14442522494749574, 0.4830402744942627, 0.3457968157048777, 0.42171139356145104, 0.29749051845429564, 0.3548764919856209, 0.3409247590043253, 0.10936735746508204, 0.4875001776053489, 0.33064389308485626, 0.4811583682938427, 0.3493169792106449, 0.372475336152879, 0.4890863585999911, 0.471438417720358, 0.3782810908296873, 0.2462467834383765, 0.4441186689818311, 0.42629997320578095, 0.2750629619898247, 0.48171037145162, 0.24638181015606375, 0.4463170319574585, 0.34659521697551565, 0.3742414845714348, 0.3610120514097791, 0.17434849998198046, 0.25779159424538123, 0.2414932119555079, 0.4496420083680004, 0.2059320783737298, 0.29951758927761024, 0.20691563001727625, 0.2878853381182908, 0.327720092958274, 0.20220418708936053, 0.3455652052218177, 0.11194845474590602, 0.3957847827690131, 0.4241198967549793, 0.27547300010225584, 0.14371960460448938, 0.4765043335981083, 0.2852599553128079, 0.4254957600492261, 0.4485453462636437, 0.4888020907959941, 0.26365816845813306, 0.1830769920022417, 0.3808132925233568, 0.1992410868410494, 0.26549584267253623, 0.3405330689326236, 0.4335188238245277, 0.3380549365792817, 0.2375411593579361, 0.11166351807877592, 0.3841684541515125, 0.4289470057921352, 0.2591850078304323, 0.19336287641695094, 0.4135220666299787, 0.2334520063597528, 0.29432459343922385, 0.4097342624087379, 0.2457808026324592, 0.4911047881811058, 0.4908534371868134, 0.4306276647984363, 0.464895389890905, 0.3963773698414101, 0.374128604057294, 0.3217398539015267, 0.3430474619852509, 0.10664699981303924, 0.48870546509361495, 0.1431498074146767, 0.49234532306112294, 0.4177608780232449, 0.1299263432508012, 0.24189094536595626, 0.12115822821596628, 0.3678777993535981, 0.10429906880780493, 0.3657251598627841, 0.27298023408032435, 0.16364600349050826, 0.1491591679310251, 0.16957446795574074, 0.23791641674237804, 0.3478117771004829, 0.15317675364364391, 0.3036172958611003, 0.3795232800751717, 0.3773667990214197, 0.4676323066153438, 0.15387987159519728, 0.4700502490139988, 0.3109289737195794, 0.423824989710938, 0.4978248664544704, 0.18555654028704352, 0.3311929223761241, 0.2738162803835911, 0.18267380340119527, 0.15503654086190854, 0.3733526094525692, 0.2023501336676368, 0.1805840647906125, 0.1693983384565268, 0.4339893240687964, 0.1384185706291387, 0.3275861737745435, 0.2672834023535408, 0.4926325194074312, 0.4918577069829098, 0.220758730534028, 0.43017177841698895, 0.1916896113243174, 0.41622550294480654, 0.3505251006884116, 0.5055190757756125, 0.13717587209477838, 0.35343529394187706, 0.17487170927013512, 0.12357398794327293, 0.14560460809364018, 0.3603470778647301, 0.4451171561490533, 0.16661607242393553, 0.2560074775689585, 0.22383589348229868, 0.20031450900048606, 0.4949634738877728, 0.5083309917498701, 0.355143875535766, 0.19412279314094968, 0.4444636846871368, 0.4415520495823787, 0.25389599102602955, 0.3066657515826013, 0.17303324932572905, 0.4664563384237186, 0.34512224678337383, 0.3830876365219529, 0.4637225699687743, 0.4968158297400005, 0.4323110086744011, 0.3161962241241524, 0.32323041900252125, 0.1301193817510872, 0.4576672734683156, 0.1739118743062409, 0.3822620985867095, 0.3151373069670849, 0.372607285683664, 0.425303003710596, 0.15744222579466932, 0.4536572799279035, 0.5703370387902783, 0.4044807388476731, 0.2019098145347476, 0.2781372278676293, 0.4007111884185779, 0.4237731661746171, 0.41618182786165797, 0.503109082747264, 0.2381711938610261, 0.3367277345212469, 0.16142202908357126, 0.3350175340413901, 0.3149607869657354, 0.21883391175594274, 0.11766995919852476, 0.2257820389943641, 0.2841473706725829, 0.2629323237224239, 0.17723954231956374, 0.18774211726489454, 0.28020594344058103, 0.10999790564478938, 0.5044078846102162, 0.14450732739691807, 0.4284959181006217, 0.104913307344467, 0.2646896512726041, 0.2789833094552995, 0.39402506929189296, 0.5091179435730513, 0.2622653905868353, 0.16220734635989992, 0.11541066642705287, 0.2559964150222052, 0.30099826791168244, 0.21869875694299384, 0.32983305228415005, 0.2710963645196703, 0.17604809013840408, 0.20436802822870864, 0.4194644413723973, 0.4652237121476098, 0.3466704817509915, 0.25203965134248585, 0.143760310210026, 0.2531127275309161, 0.36300502237153975, 0.21379627849306734, 0.1100309699708474, 0.3436264631569307, 0.439122643022088, 0.14101653117443413, 0.4817050178459658, 0.2554641753827074, 0.3424857297651626, 0.253951551825212, 0.4582933213937095, 0.34654400543623, 0.4932123654265405, 0.10857150578396828, 0.4487034470816814, 0.3666962151093711, 0.4506283818849664, 0.2853503236394948, 0.24350326227833166, 0.1220426268513254, 0.2208933506433846, 0.4439904502903573, 0.3840954923398473, 0.4268463791106193, 0.37358815272627793, 0.2152720099867596, 0.4445294189214653, 0.3691043085751363, 0.43183271553170793, 0.2554601868286093, 0.1390478324536255, 0.30380121437747104, 0.3770661046463214, 0.3645434055521478, 0.5046326030956104, 0.492115303760508, 0.3974364719608874, 0.3201435251100875, 0.4789274004522194, 0.11247295285164784, 0.28081540197613913, 0.4672354736045765, 0.3384450049142247, 0.2341446129577627, 0.21885280334605672, 0.3477354265299383, 0.15925088548692276, 0.40324524662649375, 0.26962752826778946, 0.1618453410220949, 0.2507995074750945, 0.4378318189244236, 0.4774763445823409, 0.4139046552266045, 0.5510557468414965, 0.4703872155047283, 0.10137759444117636, 0.4516746579159458, 0.15536667440546748, 0.3499442259359157, 0.1787838219261026, 0.1393171903681563, 0.5022260671295484, 0.32789633510061844, 0.3366648920255796, 0.4910517210993814, 0.15272941725973468, 0.3867285866309153, 0.1713933193155112, 0.10298581015194848, 0.3904075682562996, 0.2568441054559274, 0.3441575015473942, 0.3861968778847844, 0.18380435307244164, 0.4386864650753841, 0.18218383002406266, 0.5023904075450921, 0.499890142132136, 0.157120323838844, 0.44649585194737895, 0.3675965121171271, 0.4169326652431628, 0.3028577647942764, 0.2287433809591933, 0.3140713128564433, 0.37207817782427344, 0.11878127334340766, 0.4389834402658679, 0.5072075593581893, 0.15541059777061836, 0.3850593222180426, 0.3277203805395379, 0.3557820775946701, 0.11925430204544475, 0.2294244556495671, 0.1898514304751172, 0.4317022103400704, 0.4111481619633335, 0.20418721372614898, 0.4592803191127821, 0.14938197781800866, 0.30753898251672496, 0.4028758240841485, 0.4982476797245296, 0.21537490157487585, 0.1988192246284291, 0.2885138831449141, 0.2748646367723457, 0.2009260969869648, 0.4615225527843344, 0.2568525605747399, 0.2868069832592445, 0.3998484094534696, 0.2554252923626379, 0.2360914218241115, 0.2465157590839882, 0.3700544720676627, 0.20584810428713546, 0.2986209514869804, 0.2565208747860528, 0.16998203448400914, 0.1377212676057546, 0.2742868572053781, 0.34091449625307463, 0.2717305480308442, 0.15345929062154778, 0.1613468096004736, 0.4500914876330281, 0.10693318611916247, 0.3115073300705193, 0.5061221499068944, 0.5060583543309769, 0.17892284287704424, 0.10422553625079757, 0.34591246411676024, 0.10476532043164813, 0.3138830476781273, 0.11115984640952252, 0.3747166930765251, 0.5020045866476708, 0.382165350845426, 0.4769659455794544, 0.4680783153402529, 0.2279123191636373, 0.3039307023588078, 0.3646428501467215, 0.3206410532061815, 0.2084655300854236, 0.14275362475291709, 0.4212265985892486, 0.4221798367392642, 0.31873213894943553, 0.1942494764804642, 0.12839567651714692, 0.23141619825848805, 0.3982154375430187, 0.23720797795111, 0.21389674595295247, 0.340314776476181, 0.4059138964300048, 0.4959538152699153, 0.5540551008906748, 0.21637003100655072, 0.3806369731722287, 0.15307665107959184, 0.3758640412941545, 0.4693418913320833, 0.4621051982287429, 0.3931413901593864, 0.33482634501027264, 0.3213248599777012, 0.3500585534048132, 0.3700378308495107, 0.2083395498559495, 0.2830288144181256, 0.2494634265317052, 0.3620365444516585, 0.279831857277817, 0.4584843919981009, 0.4429440697309405, 0.20599875493896647, 0.4236947268869609, 0.4196448599352386, 0.1118777305657202, 0.2932994880634812, 0.33614775194959307, 0.3997012570784461, 0.3207013296842458, 0.4798293746774894, 0.13903072501084462, 0.1213490204856066, 0.1061729096965222, 0.4276198572686373, 0.1773539600963868, 0.17839110004228104, 0.3849822844663682, 0.232973334259859, 0.13825467054967058, 0.4077781994422771, 0.4490735350076032, 0.15216499834537436, 0.42345997783936495, 0.3594449305249494, 0.1080603395500346, 0.5822100493664223, 0.17501359556573226, 0.4297978542276737, 0.265209627538477, 0.453174544450524, 0.4682602295465455, 0.4962166018359978, 0.12313495869735913, 0.12354516423832085, 0.3050247410969648, 0.3675237350438394, 0.33709160837137875, 0.396646806322956, 0.19739572151613746, 0.1533909232468284, 0.2912316495540151, 0.16125892687819676, 0.3031129804663874, 0.1601296880489066, 0.1734740401551974, 0.4840933854921232, 0.4858598385876438, 0.4535431428750041, 0.22763950567648886, 0.48048908424829, 0.2701888955059801, 0.22739108004098116, 0.4385232450458679, 0.4248770985233989, 0.20937918550438514, 0.4504729002086894, 0.12368746613874003, 0.12464843478716688, 0.42975807728028337, 0.28345333344635104, 0.4690328084782919, 0.4225053618125495, 0.30418899302596863, 0.4409933089011231, 0.3977770161269245, 0.32875221481831896, 0.23621094533944925, 0.42042514629592403, 0.4112282491246789, 0.12304347502217487, 0.39251404453532135, 0.27888280400942017, 0.10185118437752858, 0.33328046343623763, 0.16463191487939044, 0.11587060683115505, 0.34581412586981874, 0.29793988511867303, 0.3285144292849313, 0.3204671649374859, 0.28488132418388457, 0.39283882695988703, 0.12179671363237934, 0.393636577552504, 0.4527483292664275, 0.10082330764875624, 0.19297110115668126, 0.493715847694924, 0.1930492678273208, 0.37118144055081537, 0.4191842408263966, 0.38742521110917294, 0.17795515409898152, 0.2252585711884852, 0.2534454166869509, 0.2332994113684424, 0.19422382255653414, 0.19382637951784887, 0.2583764281926142, 0.426312915343012, 0.3654611945242201, 0.4709804661306801, 0.5009568700633287, 0.4309494431559918, 0.4710302814231507, 0.1679796018046199, 0.4155660310679775, 0.28692558946457963, 0.18161649854535164, 0.4246983363644532, 0.15640722602555984, 0.4494051594162201, 0.26473305102297273, 0.284501667920323, 0.4645012918882462, 0.16040546409979844, 0.2399100588381779, 0.4381988397772764, 0.30696385506313273, 0.43306207460169105, 0.1925100804685233, 0.11773166461512255, 0.3557797967414413, 0.11173361367509836, 0.4468961598391217, 0.4008136328879037, 0.1430041742011653, 0.21717919796579804, 0.3337127922311737, 0.23640583571370305, 0.2429448643258595, 0.17676817601296774, 0.20671843361695952, 0.4981200204928963, 0.4318846615548743, 0.3043686252941153, 0.4949924863203373, 0.3608135842287832, 0.12074052181976334, 0.2078295130705063, 0.28245964277335595, 0.1705833331453977, 0.21989630656280784, 0.11731064223814312, 0.4939755052988989, 0.4645030625412441, 0.3699418159747759, 0.3467458648723587, 0.5016427486363277, 0.20692070980231853, 0.20958487469267295, 0.4121343073108185, 0.4076622694853915, 0.23230241124652706, 0.427977190862479, 0.18979766649385266, 0.391336406886344, 0.4466409500105996, 0.3281742710764095, 0.11904165434550347, 0.2349548634996215, 0.3473497634421687, 0.3526837748567295, 0.2135936444083464, 0.4516875722895725, 0.19746846157134584, 0.35461841842135494, 0.13030404431177592, 0.16564413216445156, 0.17225115323719065, 0.3359388855753539, 0.20591609404133274, 0.3440015935694448, 0.3970784277403197, 0.4743594411972349, 0.3942380276368879, 0.1022211794744128, 0.2640747121622453, 0.4179083326118576, 0.22655428698023755, 0.4818557980426143, 0.38350075602126976, 0.26298493962265984, 0.1970021855199308, 0.3860615051650728, 0.2689965982257533, 0.13466377439796096, 0.26290032971111144, 0.4652581634493551, 0.16327163648264442, 0.31021702811715673, 0.21731482981826009, 0.3515818196657137, 0.14940459361210526, 0.4102947750175564, 0.2211189981194412, 0.5051296989663252, 0.3550227939731465, 0.15347275006904182, 0.2865342472123165, 0.4569140757207859, 0.4221683442194003, 0.1880972270150977, 0.12577650787076886, 0.10062033330084603, 0.3029836094990527, 0.25369105160883954, 0.10742257386624902, 0.4675294284767358, 0.34037824388068705, 0.24266123438161644, 0.3176569762569161, 0.13755722421995584, 0.29380817599274794, 0.4179072841321875, 0.36741216536473575, 0.502473906027818, 0.4942576208797039, 0.3068988763520476, 0.4727157159752412, 0.2428677405540498, 0.3641593256424793, 0.3091246427171902, 0.5359810098183598, 0.3782737275962634, 0.3859973348378789, 0.15071786000157486, 0.2017719688694012, 0.2320800954334806, 0.1100496568274278, 0.5266117817390695, 0.27870502667072466, 0.14171089310463547, 0.14767374125319985, 0.4963446453994049, 0.20889628791086506, 0.3032780208695034, 0.4515134260124741, 0.4561039050059459, 0.2831143457010274, 0.30114839891514783, 0.21883321690242905, 0.20071335811977434, 0.4953598960835762, 0.29660903087632184, 0.14316469627926606, 0.25087940556017096, 0.11345726889828175, 0.14263739736918152, 0.12397184604855152, 0.4971652011123629, 0.18853284880999605, 0.5070376985376862, 0.4262305599914853, 0.3977808632683511, 0.4351079839027334, 0.4720625490684951, 0.21978171186698786, 0.4982139841544928, 0.2515595736505383, 0.18264758605307768, 0.22699518514065975, 0.13797351153084034, 0.18415901727751186, 0.4657705449712457, 0.3533583206357328, 0.3768220684316719, 0.4412373357931545, 0.4438705506437174, 0.2916722598012681, 0.1879938084582261, 0.2353757548713748, 0.17065642999358216, 0.3040693965322685, 0.24604731377270625, 0.28924744010817205, 0.1662321471306495, 0.16540710903841105, 0.23579616086548394, 0.4314504558398803, 0.3381461006994048, 0.4264699258127972, 0.5030083327475511, 0.4820882971404487, 0.13248303954090046, 0.4819397925152097, 0.41888210879413657, 0.11838434695594045, 0.3380202018557357, 0.1943503636585695, 0.4190909300844945, 0.14848962519295514, 0.3803088456350072, 0.3365276074356451, 0.2620388631598137, 0.24766029750392, 0.4609298082069762, 0.4960868137103236, 0.21388105758269388, 0.2869424600936992, 0.4033473486508032, 0.28418647303040034, 0.3631734778848719, 0.364164079709602, 0.4524586135306178, 0.38391446705325183, 0.21581444816241308, 0.12432082390213545, 0.3865486593643581, 0.4942472204372741, 0.12539243802583125, 0.11798052280358125, 0.4988388443402904, 0.5298016221799585, 0.31019733706145536, 0.18974704210618654, 0.3662645307091332, 0.1569583201596258, 0.4253715210638984, 0.33661598672648885, 0.335871458970344, 0.10141067413405576, 0.4844521803214359, 0.19006803938848726, 0.14069484994065415, 0.10702477259825144, 0.1827529020232388, 0.3810500681192318, 0.4553604710753465, 0.4598162665210439, 0.44965951551770295, 0.3721550629884065, 0.4393848718097989, 0.5012174716076739, 0.4597260106364438, 0.3270460006667354, 0.3309328460995413, 0.2409233615991503, 0.22298610052655968, 0.4189705415987057, 0.21757177136659628, 0.2314906301734082, 0.2937522316017892, 0.2877645928167979, 0.2418944125230044, 0.3933977767992588, 0.15758452680537516, 0.3998600439496588, 0.1298947208858928, 0.31716560254710063, 0.4888949893283392, 0.4210753634928285, 0.2747249277183472, 0.4360454044435842, 0.4857184687014277, 0.10990260114431356, 0.4711877669948121, 0.15685981409824587, 0.4157333596914218, 0.1462668345721637, 0.36715538232289, 0.10172409160242712, 0.14565740138077954, 0.27219398530075833, 0.3376639074739096, 0.467319930060668, 0.3544512341555698, 0.22303938983601385, 0.26110619023692383, 0.3853409600899125, 0.2727486048000861, 0.3071027210266969, 0.24514938475155054, 0.4273975749853156, 0.14204112824092474, 0.18891247857495105, 0.1737626942886296, 0.41172891174337134, 0.45040920059934103, 0.34364211645443965, 0.4777097186261744, 0.4296393440963825, 0.10198547308231848, 0.33622508755783675, 0.4486134963991916, 0.2701440022897276, 0.3976196887469987, 0.3900947860073039, 0.40651704932256094, 0.4908625086871613, 0.42140924607497743, 0.32937470028101695, 0.5159107997657921, 0.2307956576274111, 0.4956669465243992, 0.3764382408566728, 0.3733396161553072, 0.21663221326742355, 0.17509224965284145, 0.459825022734024, 0.39195930656446987, 0.24820050495210266, 0.3652516151495714, 0.17381518225023812, 0.3242872031660905, 0.19615050636656906, 0.41032722634538815, 0.2509759033399072, 0.3073246574729922, 0.4862069118046048, 0.13329392835674236, 0.1470531828763691, 0.4528668539321277, 0.5012215184067645, 0.20424284091450465, 0.4576956754791328, 0.4271188658727144, 0.1821057170261071, 0.2907202062625104, 0.21303634203236424, 0.35344444210726234, 0.3197898466567888, 0.2360560254866517, 0.4093670130225946, 0.4592764707558049, 0.41171215379633175, 0.2125885144801201, 0.11670456040617833, 0.41827295214611226, 0.28146146333153743, 0.5017657636328878, 0.12992738682302254, 0.1928714996875092, 0.28051864456158304, 0.12847755413965153, 0.112849782768186, 0.3755786482063729, 0.19012296326595887, 0.3369356232355267, 0.36470844840872496, 0.4221626227382761, 0.1582628754440539, 0.16553509646950104, 0.2673804964573117, 0.3931713741868673, 0.4510924405795374, 0.16519363648267166, 0.2258721222540249, 0.4270289272097746, 0.30013174278858623, 0.3443146455127265, 0.13597885420416078, 0.3274762315648909, 0.5004724307853906, 0.1994130074095042, 0.41381796516190417, 0.19786513389295307, 0.18508556001742693, 0.5678946301252379, 0.2627924277613787, 0.20732921296507584, 0.30715157181288033, 0.2119297776462491, 0.2618607771181933, 0.3211169407754356, 0.3269727777144614, 0.3887099224640875, 0.4412693396146001, 0.4687199016460271, 0.2943882773702962, 0.37880463150395416, 0.10351356793688256, 0.4999155786521642, 0.14347758491855495, 0.37268672697711147, 0.3376721952186318, 0.3520529193338073, 0.3068269825469777, 0.39776774767971396, 0.15727301092172707, 0.4734513339966008, 0.42521200456417707, 0.2929216477223803, 0.13303184960019546, 0.2345510395932681, 0.3736541538362038, 0.4253688635345821, 0.2854006236198872, 0.34966465539370445, 0.463564107708355, 0.4098494754315005, 0.3907199494529734, 0.4357185629130713, 0.20694311901081197, 0.35327363979992743, 0.3246531442449847, 0.4943417702948771, 0.3141163201610841, 0.3596236661304858, 0.4165698031368007, 0.4854054735118429, 0.2437267102865422, 0.13784519695557693, 0.3644117636950539, 0.34554461996561125, 0.2310157728351275, 0.4830459144461937, 0.387919462958508, 0.3092854418948113, 0.17086793271930836, 0.3296392385029332, 0.478343706946043, 0.4257558319352273, 0.4419454525775962, 0.37584369165490905, 0.4042123164526593, 0.13341926958867986, 0.44523260266034015, 0.15692840972966554, 0.3200073790017507, 0.21998863312346928, 0.4379685345401867, 0.47199881052088394, 0.4006302800399004, 0.4683086440167262, 0.24173347789146415, 0.266943794872734, 0.19940621433873607, 0.44582980206717737, 0.2178906461959331, 0.3666648553696459, 0.4387485714640994, 0.25455717099638864, 0.4242919153036661, 0.4944618321238031, 0.3211008812935625, 0.2691294992549996, 0.4304394381312344, 0.4632519831793854, 0.4041063269362055, 0.1348221634607487, 0.3909570669512149, 0.1055373779276787, 0.2189447966438765, 0.3953213831107845, 0.2962489263165547, 0.38720299197779773, 0.24035010888675365, 0.2260005229379595, 0.11188970369016736, 0.13630568448768368, 0.4831574678719442, 0.3516539748125356, 0.3806231459072152, 0.3664627944537229, 0.3960297889145961, 0.4785408535851918, 0.5028910253985216, 0.269235469259036, 0.44422753501719103, 0.3507120900675912, 0.4333123583565495, 0.1579884475846329, 0.3736342793142883, 0.4212597050593732, 0.3056423356116691, 0.17975751511083182, 0.3288640539522277, 0.28057675296417617, 0.19501449020208173, 0.3719081770219416, 0.2342580723876816, 0.2898378206899121, 0.15164800272069762, 0.1143842626755696, 0.13207268117008875, 0.4821722276281989, 0.22463930476935484, 0.313340251030723, 0.38626708202239335, 0.4108649755375352, 0.3630569276323276, 0.4576355030801261, 0.24442297263990884, 0.34863921488999183, 0.4027724424147998, 0.35000628294056313, 0.1560976070034374, 0.2516532953151661, 0.21537888464328392, 0.34573843229232226, 0.13298701128467674, 0.3102990008481554, 0.43434888324916776, 0.3988434043638824, 0.477167293940219, 0.19355653692820945, 0.2690356851949422, 0.1121400964362642, 0.11334650728198367, 0.17032356005895327, 0.28042466208180883, 0.1679788921705566, 0.3506795235211303, 0.3791486322374305, 0.4742690936867045, 0.2533556564843221, 0.3758530087488148, 0.2090163755008691, 0.23588287675797104, 0.4395188416283383, 0.17332321753770968, 0.4495127677463127, 0.21283218645696125, 0.17382106851804746, 0.36191105272073065, 0.1792606580351594, 0.24219794560996666, 0.3774267184726622, 0.36642734849402736, 0.4477346401020369, 0.3089142323957986, 0.2588883918699237, 0.34564682682934256, 0.2793034947129214, 0.10583509494478173, 0.123623677983611, 0.4100693223063699, 0.4198597763143837, 0.4818663601179329, 0.4009851633227669, 0.14757448536491874, 0.350151950385018, 0.1527377992067627, 0.2897948850581176, 0.3519787618469705, 0.21068915212527614, 0.2807594187304641, 0.3567118498782791, 0.21020300201671574, 0.2912322788118574, 0.4463893530007996, 0.2482751736704748, 0.2899176702593569, 0.35328853046544983, 0.4023373396311899, 0.2396729089948914, 0.4423078065161311, 0.4877207059443095, 0.3931965942294683, 0.4514390899948425, 0.22354197644866647, 0.477790403278424, 0.2532846646336162, 0.2652216451663725, 0.2762081503306385, 0.33083871381420793, 0.10443871822729377, 0.2315702615798648, 0.10536119539630294, 0.27377152387885184, 0.11261606472774545, 0.4671537648876495, 0.2765128304808835, 0.4291852112904109, 0.4964762998040804, 0.2132069906354349, 0.11648848288243915, 0.4352626759726228, 0.2479080582770307, 0.2923654776410581, 0.172817548125879, 0.5073808002253763, 0.4110749470068963, 0.26808821390021953, 0.2368224529383525, 0.43218078524148185, 0.19247446586403685, 0.1456582517750085, 0.2291661252565345, 0.3829822389378949, 0.1870301926217977, 0.4614368783286023, 0.29612414101802204, 0.36119661957676574, 0.35222121316357435, 0.1081111184812741, 0.17228189498459834, 0.21720971981540327, 0.3077064695707288, 0.2747721625069341, 0.3604727700529469, 0.4953262852463803, 0.3787368852620008, 0.17091705578869326, 0.3709406986844857, 0.4892910005135291, 0.14275348879059108, 0.2763475361942674, 0.4758356894741252, 0.22182329299204095, 0.15440871031001605, 0.10361364606182248, 0.10627928172223304, 0.1800043025242858, 0.5043303701605056, 0.1444122019009125, 0.4319197595545991, 0.3680027979382693, 0.4303701103879236, 0.18257663315566228, 0.4055744771088121, 0.3325648318602856, 0.10567230170392904, 0.2703275591512816, 0.4610233396309763, 0.2256564382970117, 0.3201575266110476, 0.28489247088489694, 0.34319425082532506, 0.2857842589226232, 0.48314036584912895, 0.16917565254914968, 0.31808490071635365, 0.4058109231785514, 0.4205574759411803, 0.3286573881891517, 0.22457957888431773, 0.13352949353564492, 0.1267816004408976, 0.1698507678136253, 0.3845052011472384, 0.3146681482690965, 0.35660544706118924, 0.4077404242499629, 0.28370519471426536, 0.2269966696481679, 0.3772256551866702, 0.4259256114542099, 0.13465172275705742, 0.2579983663543832, 0.3711890942616376, 0.2544780510130563, 0.3388864024732341, 0.1971095762243316, 0.33283799735575603, 0.26712218549274985, 0.2906199826075776, 0.2657529226685106, 0.28951023541701737, 0.4748010222856751, 0.15690628193387654, 0.4137315418275761, 0.1164399866650804, 0.2917207216237529, 0.4590347073250271, 0.2928397387073641, 0.4593867861230058, 0.4561346482350246, 0.29116787444929226, 0.15278813184124046, 0.1741202109792498, 0.3564451236183969, 0.24647113087230804, 0.4799627161107321, 0.34895286478184223, 0.3250414180198815, 0.16730723309877893, 0.4837858407728015, 0.467885257825617, 0.3072573184519469, 0.13595602598476025, 0.4005029513657975, 0.1594760982517443, 0.2315296277822778, 0.2466854959542465, 0.25468706486260995, 0.4715121800088374, 0.1493115785701079, 0.4051598637837948, 0.15958528508152378, 0.41563305586468224, 0.4704705323704385, 0.4855885252606731, 0.25075954421867186, 0.49958436886307894, 0.2841565674013205, 0.3610150139379173, 0.2684549951698826, 0.4852164658082369, 0.13476871875656887, 0.3683673627980313, 0.4606908663847468, 0.2335608202670866, 0.5832352156485459, 0.34283064901821586, 0.12267449521553116, 0.17619236499016394, 0.35413413628078216, 0.1489037573401594, 0.21819859358537455, 0.4762830740213698, 0.4424144149889681, 0.37629571103441983, 0.3695425017818922, 0.3522265238022169, 0.17512296210424805, 0.11477583136016616, 0.3057300977854259, 0.15566610687415866, 0.12479646367600288, 0.21726230208868202, 0.2669955137790008, 0.3734401190761497, 0.11427222521089428, 0.4280173043864661, 0.1753945089736126, 0.5599258050140684, 0.2464733345414395, 0.3509146502941046, 0.3669435487535032, 0.3213222502275673, 0.257787822357632, 0.2415972848984676, 0.14371692105402112, 0.4930425427546057, 0.16910598923162662, 0.2238007074396876, 0.4454199683838079, 0.4757692942518228, 0.15609561761382454, 0.35198011473260915, 0.1402258298544399, 0.12866507040717132, 0.3690603292848914, 0.358112607152412, 0.3088026747379109, 0.4900810273216775, 0.3320621463120601, 0.11414087888257925, 0.4002323524208844, 0.2229818418365079, 0.33510344552414395, 0.3971343945848389, 0.2485521294696649, 0.4272975479276155, 0.5817724196688452, 0.4976121654689407, 0.3692745111196844, 0.348532153450525, 0.18066418139266652, 0.361756972096514, 0.4069791489340029, 0.3283548098119311, 0.29221031832699723, 0.1470489746902882, 0.27369241150627965, 0.3048102898413688, 0.2648704756278827, 0.4211007225063734, 0.14663949881819496, 0.20188231365920328, 0.388035250597864, 0.4133173404211236, 0.427957248785503, 0.216876604970774, 0.3646740564567907, 0.4349761330368, 0.2461923353812346, 0.13163644016555073, 0.2636437595525111, 0.3118895921297907, 0.21592758061155432, 0.1176194758723993, 0.39330650715740856, 0.1791365879569682, 0.15157018981860235, 0.15042654966046196, 0.5058211385502845, 0.11385962114582075, 0.2396657205897423, 0.5036864675103172, 0.23802598202153866, 0.4847609013662464, 0.3595999273450113, 0.12762619484442392, 0.2473903540985533, 0.4291003675356603, 0.1966618350298253, 0.3223253001899877, 0.5010708988907735, 0.10877380589821678, 0.3665582614846264, 0.4266375425792069, 0.21484784539199506, 0.4374307261934499, 0.4459875227936779, 0.2132369178978872, 0.4341608496494303, 0.2545832056131592, 0.16291683337953405, 0.3239793115258637, 0.2321991861395292, 0.4415458657418229, 0.16986013377029807, 0.13345407028409018, 0.2881441871099339, 0.38843769179367305, 0.5088860882492712, 0.478186806491265, 0.11738931016459928, 0.393721320248517, 0.208383375351304, 0.17839982033587468, 0.18911083527936814, 0.2232945882760816, 0.4827084307231516, 0.5079319536808132, 0.15332573114682696, 0.12125944069702348, 0.13583647021888484, 0.18843095855034253, 0.39818729952770826, 0.1968544252569664, 0.4123864445160173, 0.1303672236133318, 0.4080263671775318, 0.4857446552726917, 0.4891212625921151, 0.3538432850283317, 0.40209024582746655, 0.2536028186063086, 0.22637780485240624, 0.4295807695403697, 0.4255262730393813, 0.4456465835229233, 0.432255453828537, 0.23146434209710176, 0.17728700022607416, 0.1260768731433694, 0.2703460233745839, 0.3206139161201199, 0.2490871958282022, 0.3425289053652989, 0.5071773481855911, 0.2894966963653613, 0.14139891071202934, 0.2539218925103381, 0.1801488203220069, 0.12650625166542906, 0.4304680561807052, 0.2966091450161513, 0.2094895378914851, 0.4610231233685681, 0.3030702017329609, 0.2500540953212315, 0.41169225055215264, 0.4505806561719885, 0.4690740126002944, 0.4721763522841626, 0.22513797860449866, 0.29915094290655964, 0.2839627911758649, 0.20138483041231248, 0.17349366314584558, 0.17396588655804224, 0.20094575749593224, 0.3078029867965488, 0.21066112628308253, 0.3252370296514618, 0.29028620649354425, 0.25478246439928576, 0.27457235305382616, 0.447708564452524, 0.4901419949956114, 0.12817907925816746, 0.12449851123223032, 0.4685451851271696, 0.11564235500111095, 0.4669103562370831, 0.3535797094781319, 0.2655405300743387, 0.4374272823054498, 0.24707947276064984, 0.4972664495516997, 0.2464238598079653, 0.19436459952634527, 0.3256674034892452, 0.3686657397525158, 0.1740024549912791, 0.3969518391566583, 0.3858047527142661, 0.16742206863114936, 0.2385152544022888, 0.2267952928387488, 0.4602977697778444, 0.2238268408719249, 0.2398536829571586, 0.4542307235340379, 0.2693180916488135, 0.2550694826406209, 0.18087551007371305, 0.43048482832947343, 0.4996321738698874, 0.17828308406250734, 0.33691532115943856, 0.4082510895863332, 0.11715330492101357, 0.578717046898288, 0.16682331636473854, 0.2772626863652845, 0.1312756440933629, 0.21543849755730554, 0.4416209061441579, 0.38381120566028937, 0.19249952774028112, 0.2607905835216073, 0.4787980702481791, 0.3749711310099068, 0.17830900348924722, 0.3895931082258453, 0.5072548736274297, 0.2090167254405609, 0.24176303522576464, 0.4190980797430451, 0.4395588650813065, 0.4453530193189695, 0.5095547966793353, 0.4807902352071594, 0.17211371418084245, 0.2438812465999461, 0.2208432507530466, 0.2287624725186901, 0.454145567361258, 0.2492256371536434, 0.34929944591840506, 0.3704793110201327, 0.2409441961401457, 0.34496499140006665, 0.23382197102849414, 0.4294394104249316, 0.37046366056996827, 0.309005804786214, 0.27319953567394745, 0.17928021479834033, 0.3911042919949166, 0.2878669029717066, 0.14854709166488336, 0.4553751305010729, 0.4289953616078975, 0.4847875055995614, 0.24183258583185036, 0.16551580308215694, 0.1721789076676826, 0.1385532028294767, 0.5042413580649484, 0.32193304730577504, 0.4614696190620068, 0.28855640198496146, 0.28645096383351576, 0.4397450518620672, 0.32709713317680666, 0.2624055886309137, 0.5087275470607768, 0.15737188876603972, 0.2027290883652172, 0.4240079004175236, 0.14919568120998844, 0.14158246322427215, 0.4728791493391373, 0.14454323337315308, 0.3059256115742025, 0.182260952057032, 0.18543600710205185, 0.4017924557323909, 0.10682766890581484, 0.3523585956103004, 0.4146057751598416, 0.2204116554020309, 0.4740581782189082, 0.27358870466602103, 0.17966099819660858, 0.17642471760929854, 0.1077922230179916, 0.3199246792559775, 0.4263956689845355, 0.21155849721392134, 0.4884453926089254, 0.42538649723692795, 0.18754975364086104, 0.3807626915478689, 0.3468921482910114, 0.2854826010670629, 0.26337793441733137, 0.29685306190012506, 0.4172520925037032, 0.1050055016997445, 0.13678852594015287, 0.1813793753592549, 0.4944924654497628, 0.449853924337305, 0.14555082019356302, 0.46632483250976003, 0.2381584635230949, 0.3262848741995776, 0.1065146865785887, 0.2907587069377454, 0.4408590474497561, 0.4802556711911905, 0.4850312571046557, 0.3112873288616633, 0.2866955946673857, 0.12092593329651785, 0.3577838166718953, 0.3899743698546148, 0.4220734810477805, 0.3110589125065171, 0.14926887192021376, 0.4700248489689383, 0.3776075078619973, 0.3575522392183279, 0.24016930434858103, 0.1937294221608845, 0.14176822522073929, 0.2716104647307698, 0.17085159349900642, 0.4380034002539339, 0.3839729837641835, 0.4843439029699218, 0.11053513887643394, 0.13611899573586778, 0.18585340798217248, 0.44361418058290936, 0.20308249342733556, 0.3958228187137991, 0.5071671568423396, 0.14747391065852333, 0.1382236546589964, 0.4268117927563943, 0.27668205122145634, 0.33568664549943816, 0.1894639212692525, 0.4961959392951544, 0.4211357689691184, 0.43087284336490095, 0.2747984457886057, 0.1765531865446029, 0.2300181839452453, 0.1697269295508811, 0.14832765002213344, 0.3822353396876356, 0.2061495368484764, 0.24246700668774054, 0.41736231949053537, 0.2685737237205864, 0.3882516655863328, 0.30086635203006457, 0.3220333041590599, 0.22139903878974188, 0.5030795474682187, 0.4117490166458503, 0.177153519562314, 0.27683910174413673, 0.4966392589120449, 0.4085508074799019, 0.15151750021497126, 0.4697705753865365, 0.4703954889152528, 0.4540267870136682, 0.3293289140476528, 0.3746154891000141, 0.14325643585429715, 0.43800604287399, 0.3327453102925623, 0.2131000025559704, 0.3724303693527692, 0.3787085578052034, 0.1682385024302267, 0.2855382254209945, 0.3847321527153459, 0.4971244743171375, 0.3775470349583837, 0.2627618153948615, 0.11313987454478107, 0.3899420978257596, 0.2633532178846466, 0.4105477405105904, 0.14311986951110495, 0.16137352712383884, 0.23343449143280398, 0.5074035000043922, 0.4434354364291733, 0.4236501701662526, 0.2936631051436345, 0.29831246986914145, 0.30990815075106803, 0.1428378893751173, 0.2324912954407639, 0.21502638636177, 0.27262466925923945, 0.3815478362634643, 0.17433594786616916, 0.38143313395517786, 0.27233690764494145, 0.15663767145439586, 0.16814096954599145, 0.11502503725565165, 0.21719324600405365, 0.2987503956009377, 0.2388394087077637, 0.3116244488533999, 0.12407959434407365, 0.2971636793993085, 0.10794259450980268, 0.43088872038340176, 0.3011309614217457, 0.433978957329071, 0.136730493851556, 0.4855622343997104, 0.2561473458135655, 0.24926107540995934, 0.266949968746156, 0.3522606149871217, 0.13524034440805233, 0.17631496641019226, 0.32022857620923983, 0.4427900081269232, 0.4102510065573561, 0.14074590552178426, 0.3563474811743952, 0.5087311367029735, 0.2823087909279689, 0.20786786742383945, 0.16806950727484815, 0.19128931075599506, 0.33338090007621224, 0.2123741560401366, 0.18779059556415809, 0.2970734883371618, 0.4339853215066264, 0.3011505711078382, 0.2592501521252514, 0.20149223133584965, 0.2898378208706097, 0.20762325879960275, 0.34374753590471063, 0.4322336939714229, 0.336767563859693, 0.2874719831629369, 0.3930334509999488, 0.24732695449629674, 0.15243398745584186, 0.1944532742079524, 0.27841192635763146, 0.2433602764168089, 0.23578567553932644, 0.15085381043961402, 0.3881271743019966, 0.36988258326961576, 0.4966776868005793, 0.2507473526412977, 0.4557501397229435, 0.2639534553414085, 0.3527678448705903, 0.4363154720212484, 0.3270600851366129, 0.2761015280355539, 0.2780779115099423, 0.273771649698209, 0.4474012448143082, 0.3761702022394943, 0.4944672030700122, 0.2965373160930322, 0.10022970009062958, 0.473500016146269, 0.3476386291669035, 0.4889065613670565, 0.2323944521946173, 0.12374157039347415, 0.3789989580975889, 0.24893077985503784, 0.25028805081463124, 0.5050116243563827, 0.33218829823630264, 0.2021911112529468, 0.2255084809082506, 0.3523173051316406, 0.2604850465522229, 0.323024936746124, 0.43683337569161496, 0.34750754419096586, 0.22034342186970424, 0.3023157995135877, 0.4438439496484393, 0.33821792642040993, 0.5061884473156186, 0.1871502808276812, 0.15778419605028549, 0.23194353520111605, 0.2999693078639199, 0.3748403265328115, 0.4419921311126147, 0.4691564671823398, 0.3726646158738982, 0.2972930153942951, 0.3918717216665695, 0.1851106645443672, 0.32536138129168346, 0.22844301649414456, 0.2914964912770483, 0.1979291902137008, 0.4218990371874953, 0.2618489094630128, 0.20595499463660225, 0.25010966847982063, 0.35284135798735705, 0.27519460748096697, 0.3059940792792363, 0.14777478489808954, 0.4833895221653747, 0.3189684662482101, 0.28035096604036125, 0.48831588497000605, 0.18223136568769044, 0.17659471874712895, 0.29145881171504745, 0.2089580264490956, 0.4537398486005957, 0.12651193651757672, 0.27649621233749644, 0.33716868994308746, 0.37200801272871004, 0.1541263817634334, 0.28029986191920897, 0.5003267247503029, 0.19011432652488872, 0.405344905784911, 0.485817870499743, 0.1602824871902116, 0.2512968187843132, 0.3746517130399333, 0.32218126057478336, 0.2224661544266885, 0.17323701679566214, 0.11281622266677607, 0.25528352939345866, 0.4823955457686683, 0.34042733794517976, 0.4848095570193335, 0.3908940993196744, 0.16006688834051755, 0.25961677604433603, 0.16241600506292095, 0.3570802579472752, 0.31689127053963106, 0.3935539114733465, 0.3131495375776261, 0.4119407728059976, 0.324442698158762, 0.32310866723243825, 0.43863764541738426, 0.27322178145052856, 0.3613034941014134, 0.3207277580679121, 0.2841920681133093, 0.13524975682642507, 0.11647012434138952, 0.3123635782596779, 0.4903943590263559, 0.23403512234339355, 0.2859110157491281, 0.5028419005338002, 0.16439142264587814, 0.23580555975599105, 0.3004637259193965, 0.116310475113392, 0.3853037386793096, 0.3885694923266638, 0.11582224246922185, 0.4114103670812992, 0.4034487096843169, 0.4743660617921701, 0.1949625450430868, 0.3612868627545433, 0.1458546982012987, 0.13378934777134355, 0.3889883316311013, 0.4857967638733721, 0.4213843199979663, 0.3806751962489554, 0.29211945882408324, 0.3329644304762962, 0.2704049773181302, 0.2862593055357852, 0.14598491220775664, 0.4086077591576687, 0.14256040712545495, 0.2190047177331819, 0.29189916200676824, 0.16942181338336815, 0.4861165200506833, 0.461748899281235, 0.41483738955395455, 0.1824132071777952, 0.13000669028446982, 0.4434927828053024, 0.10146746981445726, 0.4666979000754288, 0.142695306652992, 0.4481104501097659, 0.4434859150319259, 0.21976016276914206, 0.22969643030228545, 0.21007842105124105, 0.2461349423155504, 0.25958725427741924, 0.10870689752454284, 0.302016671403578, 0.3146798997403992, 0.22461951610343256, 0.4921602700780325, 0.10101430433996306, 0.1802283841171273, 0.4457637704174997, 0.1553291575322906, 0.4000025532956458, 0.35781272883123594, 0.4737901897854153, 0.3387116484863374, 0.5952941839776669, 0.4174741561850758, 0.42367498534227, 0.2451011874124371, 0.32949924276705955, 0.2329015155325377, 0.361940572905325, 0.4179219199022447, 0.2009096988265779, 0.3017859309565162, 0.10039740418217284, 0.4519567902055477, 0.20980970079614525, 0.16099567722881214, 0.13932810775932788, 0.16625147000738072, 0.3698726982377977, 0.4340661095445521, 0.4707566087940782, 0.3608561310484286, 0.22445670762463574, 0.4304620337383879, 0.3559757801895388, 0.17152721934877033, 0.33265008996724993, 0.21855521286876475, 0.1840144973008193, 0.3071055915110511, 0.24593074842038304, 0.30611957790416444, 0.14849575342512938, 0.45926469604733794, 0.2913564203198181, 0.2021878140216692, 0.10941817079521406, 0.3958130386208666, 0.3809657124916213, 0.4780085568837371, 0.4599769737132911, 0.4991997335995305, 0.1477261716101278, 0.12225108139349646, 0.2919919869889643, 0.11630026909526454, 0.16872538715816926, 0.4656994765443722, 0.41968454176170256, 0.5012038182322182, 0.44287979688994095, 0.3018890441606047, 0.4349667331094731, 0.3682301360229292, 0.4513783837098303, 0.3410550896899178, 0.4791938353621351, 0.3674356319720356, 0.5035836442028043, 0.3817125491823974, 0.12030243974605966, 0.25179300372459823, 0.3884316670200895, 0.4387280115559297, 0.5029099803415377, 0.15317719538803284, 0.3752207853834635, 0.2660170463781174, 0.32236822036250784, 0.14779542109128352, 0.4668481812932028, 0.4489407045362427, 0.501571756525626, 0.4322584957708574, 0.5014253460093303, 0.42393627227715214, 0.16898290295508278, 0.2651926510802751, 0.3912888964296232, 0.2073465027798229, 0.15062515086635728, 0.23736922885599102, 0.4587490095672513, 0.10228885961187427, 0.2346948082584029, 0.5018274982475535, 0.18737890625415665, 0.35378280067974777, 0.11517123569861512, 0.20177313097516053, 0.15371369361217074, 0.15597846282857716, 0.1677884895612911, 0.408929415164029, 0.2808597355116527, 0.5080332156833971, 0.3958409067284594, 0.4435085115994548, 0.3930544112174292, 0.4338455662423773, 0.4912314607419418, 0.47260352602288597, 0.23237233253986875, 0.25609541185507256, 0.2575736752008507, 0.32888125739134155, 0.17595696066476318, 0.1427021818352412, 0.3345304397461015, 0.1685182478236985, 0.2608608795545698, 0.14000358067592894, 0.443777969649986, 0.35452966779361905, 0.2615410273148293, 0.3604150942830858, 0.21348066052000106, 0.2132940720843147, 0.12735351467944245, 0.4893422959798751, 0.24137025536528645, 0.3291861775496589, 0.3990024368010996, 0.32554171563089684, 0.31044274430811525, 0.2491036231204396, 0.3601030102017185, 0.3132747367182668, 0.4299907607706253, 0.4125567083014461, 0.4610946702801312, 0.12750035004762073, 0.37353168431271466, 0.28232038390311065, 0.5887181867417832, 0.12162103690726712, 0.3904119597381045, 0.4910647133260017, 0.26190986140994343, 0.4410767762696168, 0.292412065342198, 0.18792428741171732, 0.3424779546388085, 0.17271191435376226, 0.2719452884578284, 0.4331179685261398, 0.493511825576606, 0.24351150480032865, 0.4071160140237259, 0.2819394386181174, 0.1358548502174862, 0.4221553478566614, 0.3353244012021347, 0.28592592928134475, 0.504642702389657, 0.4200908287173236, 0.4732903171477407, 0.4120959732216037, 0.4792510218494537, 0.4366663008993537, 0.2335704510982521, 0.3658622530576003, 0.3174468452774166, 0.1423926861128846, 0.5039179612986693, 0.14016567759723034, 0.4521498190008245, 0.19458947194161613, 0.4637129172359497, 0.3045788122492818, 0.16995567571750975, 0.3852040946521245, 0.33848241855558514, 0.209841096560583, 0.18992651346346454, 0.44827445552360745, 0.5092062720784579, 0.3014542397805646, 0.3402003059921577, 0.11025018819230513, 0.37772830923181133, 0.4986259668669949, 0.3382425568769146, 0.17108378078908487, 0.3400133510804172, 0.20011324104967126, 0.3754848357851874, 0.3332425758737856, 0.3848265624435209, 0.2681762227594348, 0.1332987353479584, 0.27926516888602404, 0.251758564322116, 0.2718216151890019, 0.2642250149703623, 0.39583068520889375, 0.13771058350067986, 0.29392749295605997, 0.393041511602728, 0.4344232310436607, 0.384289975670042, 0.4619954589714517, 0.24475049116954875, 0.1635937733025678, 0.3893507844486888, 0.44125286797502017, 0.18223610318899527, 0.2803489529648531, 0.3863844135690709, 0.3159527707012768, 0.4435876018351264, 0.12717247654960082, 0.19335568748746426, 0.4180371400980837, 0.2870791500670453, 0.4500870533217773, 0.3883304508046673, 0.3512299547982253, 0.1388119670340318, 0.1657036141077422, 0.16212425596266578, 0.2958511255978112, 0.1851017035201594, 0.4724007856655365, 0.4658792557272418, 0.14515090201975375, 0.3587567763782605, 0.1063903060673663, 0.26095697197900136, 0.419993595614391, 0.24772100237298356, 0.2335069854092444, 0.4807766415973439, 0.2532513369206809, 0.275734876349195, 0.28927192196708584, 0.484930110556185, 0.1478195975705304, 0.2964365490961105, 0.2767219790872275, 0.147731181487751, 0.4015330311800504, 0.2150272149882228, 0.3002899678255342, 0.1245183579013348, 0.17996496858443026, 0.4813828905241812, 0.3234291395994716, 0.18133893491595374, 0.4721231965369471, 0.13334612471098672, 0.2266994590647915, 0.4301832740344713, 0.4734432921530016, 0.2409642933145903, 0.16617223560514424, 0.3841195153862513, 0.4562260459119592, 0.4975938074453289, 0.1859389411359098, 0.4879673154219609, 0.19412999661738006, 0.2532111769458957, 0.3945688341353745, 0.21393313044886203, 0.13996975597233996, 0.1382661881783714, 0.27022796052153275, 0.3460071889133764, 0.20193738833828173, 0.4441152448199567, 0.3190944097215622, 0.392394210624264, 0.3976333729309107, 0.20973223832708196, 0.39632066014584333, 0.11253177378370616, 0.2447185405574435, 0.4889812897178731, 0.4203877540752048, 0.36894166547106544, 0.2954610365131411, 0.3556365036398024, 0.26147936272689043, 0.4523795933666924, 0.20856846904542786, 0.1702629287256765, 0.1619784413940768, 0.21775471958936146, 0.34996282642025384, 0.44911430897164173, 0.22960379423626645, 0.22468128105478016, 0.4655418968499028, 0.28746530446866736, 0.1259903006940752, 0.11562492267047644, 0.21893444115459204, 0.3936285992710232, 0.4951036023685985, 0.43167850774921257, 0.3369104666720078, 0.3405787889539999, 0.10194667146879227, 0.2177100389033917, 0.20688327934732315, 0.23731066713482055, 0.4180355746904152, 0.2325531203673849, 0.3528393565074104, 0.214598439760908, 0.12687215642295638, 0.44399320323442826, 0.3901675317923706, 0.2109595795487532, 0.3031013269151309, 0.2451638044092467, 0.34613603430541684, 0.17159777389652509, 0.2668162033564164, 0.3654513916337876, 0.4266844618745189, 0.3611086978395134, 0.4593703543822787, 0.32836826662848195, 0.3089638700841419, 0.2448420491770455, 0.4376719993920162, 0.47205736960026706, 0.3140517647532083, 0.18297329511013166, 0.4741871304673919, 0.43334274669349104, 0.2852239371576303, 0.2549021587796052, 0.4494646743870264, 0.18121639541961426, 0.2556576829635493, 0.48917479317071794, 0.3632945758025604, 0.37857374791726617, 0.5088928130622785, 0.2117314232429643, 0.4472223795327047, 0.3779956373244642, 0.3991617481596247, 0.3421112368578284, 0.2825306990724549, 0.33255084942352864, 0.2292875421554781, 0.16304182601688036, 0.4589995963049449, 0.3019705964218992, 0.12025323474930258, 0.4151969771755002, 0.4770870241778883, 0.2730748003525334, 0.4704209394925052, 0.420082342177136, 0.10545631805755852, 0.34005748597716445, 0.3626187268911701, 0.22504454094829954, 0.5065378644863131, 0.12765521691981324, 0.10164369746713182, 0.11421525785076647, 0.4123376510625092, 0.4927726093404907, 0.21125059920428074, 0.16816537820674266, 0.3985236380650996, 0.4691026390762599, 0.25180240246801444, 0.1448978207798139, 0.28574381279914235, 0.4034132482285102, 0.16475245416831674, 0.3476116567079072, 0.3751753227102733, 0.2607737493757005, 0.1329257736663579, 0.36086259527804604, 0.1017271780093994, 0.2043331235453349, 0.4500294271646308, 0.2805869598764551, 0.3638512978983031, 0.27437926622882425, 0.32838819638449623, 0.4577844299244465, 0.3420826672557739, 0.11854754246874187, 0.1643279310307853, 0.4197414725622154, 0.31639473573564697, 0.3412339891718013, 0.40139856406662777, 0.3701471663701253, 0.15488667953867585, 0.4524662454005062, 0.2835889883568202, 0.18997204899050607, 0.18659089757385414, 0.2098475333741313, 0.3371371490240874, 0.4813348809251453, 0.418452414521283, 0.2419344258881864, 0.19681154802781664, 0.4578510578742174, 0.15421325199151814, 0.3591548672090548, 0.2346149750482285, 0.4166324411903368, 0.4530413978656314, 0.4773532536981947, 0.22763223985432576, 0.4826013410437503, 0.14784047773770936, 0.369376579646874, 0.217662475992553, 0.2185122345346718, 0.3003559744607507, 0.3405466809704297, 0.5033547414365714, 0.32889125056494595, 0.24452726020740695, 0.16568606957714854, 0.2835319460127024, 0.3884303243113799, 0.1801978740144664, 0.3221595522551463, 0.4382717298022494, 0.2828943472391489, 0.31063568952618315, 0.3602908968528384, 0.17239097179212015, 0.4225342835225023, 0.4548646563549864, 0.13739205343147906, 0.3608957513652479, 0.13446077159794062, 0.12983222510393358, 0.15278274934863126, 0.31195046704391804, 0.16859652519655194, 0.40985790590057225, 0.38264448037612986, 0.256024593792736, 0.3772342976944798, 0.4806188426349794, 0.405032693424355, 0.3888349080928431, 0.20408977111376464, 0.4381134387215592, 0.13420104195032606, 0.1406056040911945, 0.233401866005038, 0.3678917672063898, 0.4607786855740405, 0.13183474792254254, 0.11203070770169077, 0.3430144201788268, 0.1773271128928321, 0.15892901832255354, 0.14789149749994518, 0.4458995481781604, 0.2426601503408023, 0.16107957991870514, 0.32136033943954234, 0.2228440862320757, 0.3554369766879084, 0.3296620066989541, 0.4857226050541706, 0.22337865999417506, 0.2457084562885659, 0.4401065915154465, 0.39072555846753787, 0.4412796082744301, 0.1670031922847403, 0.17180525665831192, 0.4724896173655517, 0.4228421659447769, 0.2613395921757309, 0.4556962407625634, 0.14446116579154694, 0.4123218565766073, 0.2276171397148561, 0.3860503556108553, 0.4265667547841149, 0.4259331316428404, 0.46962056989267403, 0.4443510562247459, 0.3445761210483188, 0.1597845225948345, 0.4218441264053756, 0.39365079953552573, 0.3712568364032137, 0.11389931202716758, 0.4239133726399743, 0.23189809098898914, 0.4134775832727229, 0.36526116717538826, 0.13020294233582747, 0.2238978920635451, 0.2470164418294517, 0.4351900692023056, 0.17499016954535024, 0.44419640421022794, 0.4198516118617656, 0.4626736354168359, 0.1250411592880914, 0.2690276595781527, 0.15280703701167292, 0.1539126176430671, 0.20319520107045827, 0.2205943272531765, 0.26202478618712755, 0.3714903846085794, 0.19557086771955415, 0.20195795142045275, 0.2571378719745461, 0.10328510755923473, 0.1828004465301269, 0.4992505594041464, 0.5002489899459595, 0.20717375942690044, 0.18180523095666115, 0.4393353437997539, 0.20034685033102884, 0.38382194263382, 0.1563000474484066, 0.28169430243201754, 0.4643435081700016, 0.17696879916221536, 0.1696785778699768, 0.10206984033194737, 0.2311389520948928, 0.4331512274838356, 0.1329510408011756, 0.19518168039181186, 0.3513543538329976, 0.460985364473715, 0.25462472507546496, 0.17825349697761372, 0.2550890784447919, 0.37759924182175003, 0.29862409955001484, 0.34246092600039457, 0.18552423269500326, 0.23452989207515035, 0.3192519006058277, 0.4994748390594156, 0.40985860959331655, 0.5062142742554484, 0.27229254268580616, 0.1970559409043404, 0.4942114788051916, 0.2599135782760062, 0.15041383780610065, 0.3706477748505325, 0.4051587712220881, 0.26533327221882674, 0.1851861068572986, 0.2035017677542328, 0.16529967055293865, 0.2004933061680277, 0.4177979220663584, 0.2316857656097321, 0.26135000635677075, 0.3268386626529097, 0.17096707005603895, 0.3543973150688385, 0.34889131800848433, 0.4133798038297214, 0.3722573587330992, 0.4647200234467582, 0.2592612249636134, 0.4920685579888346, 0.2961256356586688, 0.23900560517915825, 0.4607787906105575, 0.2748392826455792, 0.11220669546560844, 0.21937820097510866, 0.2686643606238406, 0.259644123091031, 0.12164813465297195, 0.33742314559999376, 0.3692685713995216, 0.18153057529918226, 0.3556338598071199, 0.4628697456232015, 0.5048726344989161, 0.20299028932335225, 0.22372335379564776, 0.31260704569227626, 0.3462321629122279, 0.2962144753708398, 0.1734661790515652, 0.30146308756047124, 0.1217385122612306, 0.4361278461396573, 0.5225359346042691, 0.4683264729191957, 0.3871582347025024, 0.3892460384413952, 0.4889740200277086, 0.3744047272620253, 0.2548910579320524, 0.3522969541132246, 0.4962768011917563, 0.15295851612005618, 0.11177875344215804, 0.5004823336200893, 0.2518324071909169, 0.357356026657264, 0.16161610837518706, 0.26244326776514465, 0.479640978831768, 0.3708487861662715, 0.3908700598417265, 0.4629244503577741, 0.10055346490092627, 0.4505010785951139, 0.16278743546257265, 0.3037171896253684, 0.38307260696220896, 0.3152385010913956, 0.477677945803949, 0.3849477944898493, 0.27403879128519004, 0.3213560668488011, 0.17130564862951386, 0.2098562024071731, 0.35298780694390386, 0.358805366251062, 0.3646800732425258, 0.4444631632714408, 0.4906805614463348, 0.33775805993659996, 0.11473739771124156, 0.4459768799401936, 0.2638189711244789, 0.12955108272807456, 0.14794917835517654, 0.21862227501863696, 0.37859080493597264, 0.2947021745674453, 0.35919082930301605, 0.4587758418993433, 0.4410263833847761, 0.3280816597476036, 0.4230336541901454, 0.44592712515829147, 0.2439662626552169, 0.3567463778577692, 0.2848381293488724, 0.3407477169422809, 0.3700316704116602, 0.11083570903137764, 0.3482172708282468, 0.2307329829731381, 0.2805873863261629, 0.14266663312110087, 0.35723328364173906, 0.4412707230547097, 0.2420695829129473, 0.10844554802577756, 0.2995750073757063, 0.3845212501715267, 0.4554000216624937, 0.15780796042362716, 0.4732889038609198, 0.1165224277437333, 0.40122630413151095, 0.1557213355792808, 0.2641461989663001, 0.18552872564146974, 0.4041779454570802, 0.15173583286271555, 0.32055340288129763, 0.4891414514825696, 0.13243750274037394, 0.5080243652983198, 0.4086749850828507, 0.4774665303980946, 0.2453183135752353, 0.2075192289649057, 0.12104427928104558, 0.11469470500436815, 0.4538321735742955, 0.3419686578644149, 0.1650933939037048, 0.5084162572876153, 0.22805959964501926, 0.30304174767960657, 0.3334285626409804, 0.23270516426895, 0.20343173226642752, 0.41572282753670253, 0.16878458138107047, 0.3792618042367479, 0.2113390970952813, 0.43866607284096426, 0.10478594828419747, 0.4851150237460438, 0.2937296800907609, 0.2528049946044649, 0.13618932490808744, 0.17762837414235208, 0.24742815146268404, 0.4420954986851604, 0.11804614258931448, 0.14550782547560526, 0.3129794071480215, 0.2386752395579247, 0.2135017798263396, 0.3160022327147779, 0.1707616286076266, 0.2169112606494461, 0.14326767590392805, 0.15151566179042153, 0.4199054509360609, 0.3289907399532766, 0.18290513722052204, 0.4817849203636083, 0.1066372552308175, 0.44720299129030266, 0.106028876128364, 0.10831123828831282, 0.4907923530118559, 0.4724468601185111, 0.3359519227655546, 0.37570810623566575, 0.3943167727328498, 0.3047510506861968, 0.1377674478366873, 0.4364141128170207, 0.4174095529997181, 0.15028673429771933, 0.25663595542272444, 0.3251375306647032, 0.4018877131287263, 0.3710054439713368, 0.27438077359871543, 0.22207948980772968, 0.16751862437786655, 0.28880075820451073, 0.5074930344219617, 0.10278901997553427, 0.2472559641881049, 0.4416021707725281, 0.4859015957529491, 0.3071718298815697, 0.2643654360707833, 0.1090847042387151, 0.3516374086090013, 0.2788474429099191, 0.3622308835935295, 0.15056602416071288, 0.2455914102405175, 0.18640082492001345, 0.2337956994714449, 0.4757324052110397, 0.4009788074221572, 0.5058966147026429, 0.4588649820777029, 0.499822968586688, 0.3935626710894178, 0.4518894200583853, 0.11634648376120504, 0.4720868767500678, 0.306426792091271, 0.2384544084615101, 0.25086717307614625, 0.1625433295134548, 0.113784272009973, 0.21176354930463231, 0.15824778524518948, 0.4823376542593537, 0.41226604835640707, 0.4350324256970541, 0.3857694905200397, 0.3282874626956438, 0.4073619177259269, 0.21546328791640693, 0.4811679452058013, 0.4986035594727486, 0.18174468419478912, 0.3389474334837595, 0.16551362348424814, 0.4452438599332502, 0.1681343552859611, 0.3703234278889993, 0.4527760965984416, 0.324992585235222, 0.1814450478763245, 0.11474704979547308, 0.2453284438709832, 0.2368034678956602, 0.4017508107709557, 0.2439833974562507, 0.230593668795206, 0.18512874843485075, 0.2548671138077633, 0.42917849948521336, 0.4603488772680956, 0.43027319991742985, 0.3485635572307879, 0.4494814924593524, 0.15651931099538366, 0.4767586329407335, 0.3458996809622923, 0.4525172625953149, 0.21576633579115426, 0.2962432752390375, 0.304548221251562, 0.4489009171210053, 0.4752652336662577, 0.2313634135885302, 0.3748354016308979, 0.18049384308360927, 0.25247501702084885, 0.2909256971931813, 0.12783257709817827, 0.12572799944413526, 0.3631455494402095, 0.4904781232051154, 0.2015539361151662, 0.16367478484608716, 0.12017901043303975, 0.4034420328349645, 0.331010772388976, 0.4507380726608152, 0.2937341366035655, 0.4799013849585414, 0.29620780129560303, 0.4409986467368725, 0.5017386949920399, 0.4449673121133859, 0.36031304281957893, 0.13091257492489505, 0.43174811986938455, 0.3620236454068908, 0.1703648387208207, 0.15892332062034814, 0.2538335521979823, 0.36160080207028544, 0.38841555546383255, 0.13484049456689082, 0.4236527143747837, 0.3737124595805442, 0.3803505523541213, 0.4519973206450022, 0.3108837974696081, 0.4636399102643498, 0.3497656033045608, 0.16060692578845714, 0.14591388415021864, 0.3864404832102437, 0.3811797644871039, 0.3344860756592091, 0.12035079688264293, 0.10611006422185837, 0.4288508687011108, 0.2777397645210353, 0.4376277956508712, 0.2604075351379018, 0.20682499126886847, 0.458848479954645, 0.34436322740273906, 0.4274352290629302, 0.23132349021128176, 0.16229304885778914, 0.16283311731580408, 0.42005423915947626, 0.3317354915241221, 0.28870139933671146, 0.18889233856396886, 0.2794795976395579, 0.19844891169624945, 0.22413130345817725, 0.4620845231158335, 0.1169603979239374, 0.28034862446651915, 0.4247206628914593, 0.31601721288564266, 0.1627176614467109, 0.4737317840754195, 0.2055699355267182, 0.2520496748181545, 0.2676052530360597, 0.12559300198141798, 0.38023168473809993, 0.34024970929514514, 0.17918337643892968, 0.4598939573779202, 0.2077700867974474, 0.4544068275004309, 0.2193620310434612, 0.2338578749307701, 0.4661109643018296, 0.17148758655112134, 0.3927554520248969, 0.1838291789798103, 0.12888404263713174, 0.4003402652628463, 0.491223991687125, 0.3978818948198349, 0.10878230214203463, 0.1562194508100869, 0.3068512390731916, 0.13280902346543727, 0.4046567520391522, 0.2298294788443524, 0.3277120047528248, 0.3667498062759321, 0.2309479841707384, 0.2257657229084293, 0.15014434285533387, 0.4691461591338014, 0.4024086855905845, 0.21986895561375205, 0.17868113197829527, 0.11703535513649688, 0.2543893738907921, 0.22597933415747165, 0.4226439283232005, 0.4566393727051613, 0.3224322542061129, 0.38170677198657377, 0.2331148968064516, 0.4876092713483301, 0.3487804758387252, 0.14408962291972827, 0.4177662123449717, 0.41206121313484206, 0.32162980189468243, 0.4379593163007455, 0.4487733122244919, 0.20443443911851852, 0.1196499007192476, 0.410439628023062, 0.21075196561398366, 0.4250388085264889, 0.3755220556285558, 0.4756441851711307, 0.3804023862378679, 0.2588365549116559, 0.35185271640799665, 0.31148937400709903, 0.2530608443849857, 0.1980384056102067, 0.11190204599963902, 0.2281377879115604, 0.2557213029301019, 0.4153716644925212, 0.4756136730093562, 0.2744133509584526, 0.11386960024442733, 0.2360681442732085, 0.41309338486539904, 0.2400674113418784, 0.2667017949979641, 0.20314659666121734, 0.3230123297239006, 0.2500057527781903, 0.3707870879888361, 0.17109051973760095, 0.38114182759584014, 0.1653740204578993, 0.2845172564254388, 0.13258839002874082, 0.1502218524117714, 0.3375179087376603, 0.3656876979992778, 0.4785688639891863, 0.3294336473867869, 0.474325902907517, 0.4238425410607181, 0.1205611191282118, 0.4727495935603658, 0.12839611872882678, 0.10942614820589386, 0.3939209812356908, 0.2679822876754424, 0.1396265481913832, 0.4216925179787644, 0.23973341316057606, 0.4019032508667473, 0.2270357813262679, 0.2694736791698167, 0.10710754472853816, 0.24753193428585515, 0.3990869586867041, 0.4628842659979023, 0.23227064418026586, 0.5082708536250694, 0.3041283583091185, 0.16860484899279024, 0.4440378409992548, 0.4191815733042894, 0.2245575829879176, 0.3238510566928402, 0.2566538681273703, 0.2415559182782147, 0.4269655866126214, 0.1230119701187607, 0.4397355097575704, 0.3044682652569806, 0.2911977129539426, 0.3597408850629902, 0.14987450561696247, 0.2388400008238021, 0.2550694414599793, 0.16588031267439896, 0.10745180763032486, 0.2670575114568404, 0.29163279421554633, 0.4990698108591525, 0.4439258314102679, 0.3850163556445893, 0.3123075803179489, 0.37038130485221854, 0.5080051618385891, 0.4867511210614341, 0.10976720502064104, 0.20585828508262616, 0.3862048054091101, 0.1761659805491474, 0.4727878288582341, 0.5031911956356827, 0.33692721719990903, 0.3516065492625328, 0.4458503756962875, 0.3489270756107033, 0.4079247001442212, 0.3235625063720502, 0.22575441382181435, 0.39039835540958623, 0.13832278170357187, 0.2888294950392194, 0.4775471990391517, 0.37300728038049547, 0.35094265981318506, 0.1085404898777032, 0.3718492503241193, 0.14579521178448404, 0.39788983666107147, 0.10842386060782563, 0.3903422939117699, 0.130680862147406, 0.2021834001673286, 0.15364702630638635, 0.35053342898456963, 0.18162156955948885, 0.2871167626216333, 0.4260891677180696, 0.3494313471166689, 0.19293841265709927, 0.3953657811725693, 0.23378027437040586, 0.3460593447988099, 0.4915962660925954, 0.2014170100743156, 0.2420212280790704, 0.2585663278482855, 0.1731125587723587, 0.17395235088257838, 0.3075908201721029, 0.357063833434081, 0.26858554633667103, 0.2727882697883599, 0.3793878149749805, 0.16183594017306616, 0.2608747780793353, 0.5095171665374878, 0.2598722051892324, 0.3631734064741189, 0.26001143169315233, 0.4431846141752244, 0.228355919036243, 0.31493709886146604, 0.2369182837153144, 0.19682329012685984, 0.2323694850397383, 0.29914002349946905, 0.40528123813838135, 0.4818277446211317, 0.40397063830648383, 0.3959727698984514, 0.2570693735669519, 0.18681436652189376, 0.2845638321367514, 0.5058570457096818, 0.2625823188401624, 0.1741851805828301, 0.2529658310151578, 0.4898151013449447, 0.3921057367572245, 0.12072790847440733, 0.21203468547267, 0.3712160941051748, 0.12061334707019156, 0.10365665452588346, 0.23300098721288645, 0.32975545781842563, 0.47730830797832796, 0.4796853170129413, 0.3843568124271102, 0.34602880492430704, 0.5033706979402187, 0.3796919531728423, 0.1664507184749351, 0.4799319818233466, 0.20470299194313887, 0.1549125535829992, 0.2597913533562847, 0.3475835907510317, 0.20635034988234416, 0.30773516259304545, 0.2677504200404747, 0.3339083008271192, 0.277521129962387, 0.15970071132749822, 0.468582959527134, 0.2117873606148301, 0.2281592266574374, 0.4165055355717083, 0.32206591429141473, 0.11954366503932574, 0.29160320903390546, 0.2220537509860504, 0.1449607764824662, 0.21150300496751956, 0.10536413226289046, 0.1730373610580985, 0.10744653840108234, 0.2533021518264436, 0.12301870557183665, 0.1524092517376771, 0.336083657038954, 0.359315802694647, 0.2752563798998518, 0.12346527738721255, 0.1808866940344568, 0.19502143293634605, 0.4426447242506085, 0.1336693024498381, 0.40508915112890004, 0.4855564519909146, 0.19651982475533075, 0.18980483437711768, 0.14981350076984426, 0.2904349551670753, 0.3571811000344496, 0.31378491953471505, 0.3658627391133896, 0.4014623547882305, 0.4816406411177253, 0.3842665366963588, 0.28164484858523536, 0.31772673001141466, 0.17011899404028086, 0.3671988694248335, 0.445696453483845, 0.2048157385316852, 0.4619330690484829, 0.1890324971754636, 0.3478759526284805, 0.4494762824042285, 0.13200294694146333, 0.5057605584774064, 0.12355946951702275, 0.28557982983496155, 0.15357094108589087, 0.2323088973093079, 0.22759025478468495, 0.5007503877585523, 0.2453847498856209, 0.3683986872822855, 0.15115598531181335, 0.27606835171481603, 0.35337214780282, 0.3841548447754012, 0.23364554426064646, 0.2103924749197511, 0.4518396311792833, 0.13669023051705567, 0.3930523138138182, 0.19327558391350516, 0.4799939164246528, 0.19588027552156986, 0.43221145139472017, 0.3145723482607933, 0.2023579056350952, 0.4954005916490784, 0.1964783579171639, 0.19375018372068173, 0.3697564773638219, 0.2990671798585882, 0.4475009274355636, 0.4127199533796134, 0.3827327036966868, 0.1838173285816904, 0.1913347330973053, 0.2015153747028852, 0.20541233934115016, 0.4293482511231934, 0.37834580014693786, 0.2393775925217347, 0.3531507641166166, 0.3971869568202873, 0.307782344111111, 0.12370308645930185, 0.4982695127647261, 0.2135256127157932, 0.5028335130227076, 0.5651535828900442, 0.4451716339705646, 0.3454515706160474, 0.29089917603863297, 0.32014350446818096, 0.3437894412129059, 0.20213626730229614, 0.3506859472590359, 0.32045172255916243, 0.19876966122638567, 0.15236520023093006, 0.2510800711680829, 0.25601801320329043, 0.3145640726394494, 0.3609073860576005, 0.4783198715430598, 0.25432838091979154, 0.15611776913266634, 0.4771759953518888, 0.3793031615732615, 0.2492599457293119, 0.4418918378116175, 0.3903268027036784, 0.4144934927994172, 0.35855297470514713, 0.3429563194124937, 0.21995078184562974, 0.10782601834433478, 0.4628683546604282, 0.4536389241076053, 0.234791824189208, 0.43057015778524255, 0.3413566141805234, 0.2932019905263731, 0.16931901458991072, 0.3327567825400661, 0.4824326578555019, 0.2963713682665185, 0.2454087733242919, 0.3080276413938665, 0.4092970653169079, 0.2670208822336901, 0.1868670087454597, 0.2956281120278413, 0.2107977888929063, 0.3067172723682341, 0.1813821690648137, 0.16117894406335198, 0.20207820025314469, 0.4561939981296666, 0.4383261113074655, 0.2251956462414413, 0.1504415889799573, 0.3662905078442679, 0.21219094164934305, 0.2664521058925389, 0.18546412205283944, 0.4855439531018961, 0.233541357769856, 0.31657414116974397, 0.2190941731870588, 0.4046534550818308, 0.19796726838646292, 0.2172457802316804, 0.17281051602354908, 0.3260736602539249, 0.3668921955289208, 0.32987435263861065, 0.2973569461689108, 0.15163055370573872, 0.25134570871102113, 0.4501776995057439, 0.2688162410245378, 0.17054542017674612, 0.2972106315128898, 0.4218847135193354, 0.4910478068050314, 0.3348644960976903, 0.4415389805272819, 0.4042903436559938, 0.1695900454913471, 0.500388833607608, 0.27583721970709485, 0.3636760209633872, 0.4507768604736724, 0.3400463959428564, 0.4117900073438389, 0.2936508088516697, 0.1450489090925134, 0.49442324929003095, 0.505636750026623, 0.2129887167532528, 0.3891995728327399, 0.29203797613435106, 0.1329583392977869, 0.45952860537161894, 0.33390183304413257, 0.38901030999722863, 0.20286282005560646, 0.4313828121363624, 0.4344754884381231, 0.42636529793703015, 0.472037504990405, 0.3303866522603641, 0.2287770069866683, 0.498939796262897, 0.14542515324105887, 0.12938719380765767, 0.3678373463376816, 0.3910518496776264, 0.33854091683897514, 0.10536031378486196, 0.2321075049714612, 0.16216223032608745, 0.4007897195423227, 0.29619103654322754, 0.23052543687674115, 0.2810250736021204, 0.28070825140481004, 0.2398089888076271, 0.12309150038991652, 0.4447795899293992, 0.2391075479382683, 0.32059348593490344, 0.16407539442627495, 0.2660702740246775, 0.2108583765054878, 0.21170393311612398, 0.348192354671966, 0.255310801825375, 0.3340676046374508, 0.1836595025640257, 0.4038405919956916, 0.184753160082242, 0.2165646710311654, 0.26601143705330443, 0.27416634475189794, 0.2710658257362055, 0.1845283271589946, 0.2661605016081792, 0.1612048347837749, 0.18529620911131645, 0.10470903731358054, 0.14504076610193678, 0.164132328866875, 0.481190451175139, 0.4747149346632362, 0.4871229234317786, 0.2531284912968082, 0.4104324002794673, 0.11724900058065744, 0.16196955746196326, 0.3000048710929802, 0.2258328437194327, 0.1776909490723086, 0.12858355983618616, 0.1445090063289418, 0.3030079613850017, 0.34909177915835576, 0.1100088070374526, 0.21848209692068027, 0.14890463831545905, 0.4386073007950888, 0.2877741311141424, 0.29253370887416463, 0.2615848817003942, 0.395374309181508, 0.16615510225820387, 0.4000112072675152, 0.2577714221575972, 0.4650647381199614, 0.1568698660399209, 0.33725874340032674, 0.20848277351277697, 0.4504588024537021, 0.2684378039828181, 0.2912297459312686, 0.4184241545171289, 0.17795936876136906, 0.4997020033182923, 0.4148332642854763, 0.2223232034214475, 0.34561137714072804, 0.17300480825656586, 0.1612050603767063, 0.5041529751055064, 0.1466916320131587, 0.2949303319666413, 0.19867996111037373, 0.34654296341392604, 0.3908989857788601, 0.21722614595262815, 0.28985253386200394, 0.2370856416379868, 0.4548697196603181, 0.3156803353962845, 0.13444406889656166, 0.1908332197774484, 0.437836976039304, 0.493512515256306, 0.21529918707678253, 0.2906803327872739, 0.4273757097765406, 0.15412198106180508, 0.22383102130405855, 0.11986503925781855, 0.2769144876295466, 0.15556492690948082, 0.3942086025760676, 0.3907435764261066, 0.4145780278237642, 0.1402032274845108, 0.12078540036276715, 0.2662671871034395, 0.2372536320495916, 0.4968447738099074, 0.4519487538676459, 0.12874423617055564, 0.30393318130079056, 0.11536300872415314, 0.17955301828253456, 0.4700557371686457, 0.20412478665442674, 0.21962731442487, 0.4822129621812542, 0.11237537762898782, 0.4996927817516542, 0.4397920578822616, 0.3852611354328336, 0.3056295895196417, 0.5054795434179062, 0.3731218900093497, 0.15592891055507802, 0.28357007952211044, 0.3008951343925964, 0.26124932617856506, 0.25927317039000103, 0.20564389268107006, 0.2566376664496953, 0.4710350323976354, 0.35199465351862536, 0.1535942179497247, 0.5058060478256401, 0.2294136342493392, 0.4126365641224791, 0.13927754045562202, 0.3467896120366111, 0.5097239334789035, 0.3531839773398848, 0.3400054959553861, 0.3824387757510519, 0.34905218330744825, 0.4524374732928801, 0.32666046506092505, 0.1771665841073172, 0.22365863125516905, 0.16830585640347695, 0.34116444034937266, 0.261311897376224, 0.22335780534077385, 0.3931614873478586, 0.2477833883776709, 0.11297452655728335, 0.3423583118546054, 0.4517695960076618, 0.3825001230583488, 0.12594783957864386, 0.2402666665189556, 0.2604407152678976, 0.4604599583583328, 0.4361312746560887, 0.5049982883407683, 0.21825688257571055, 0.31405412519029513, 0.3508899049572122, 0.3458407868926028, 0.3757615608897496, 0.4277027493283453, 0.2906947947833939, 0.23468220763136996, 0.3121518213752317, 0.359557080946463, 0.22936592102254774, 0.3719115392523397, 0.4582729983171311, 0.3681017664350701, 0.4457271641800336, 0.3226174822570838, 0.32579432631205457, 0.4108091972110284, 0.3583896412655088, 0.3034774198481387, 0.11653584493811472, 0.18970845490974114, 0.13199326104767514, 0.2723166284861007, 0.2024128319855235, 0.2719393640507216, 0.1955104970776679, 0.21029363021596809, 0.4635849568635588, 0.44371300228129695, 0.41960684362753176, 0.1877909181968993, 0.3441401049691911, 0.1957530462328567, 0.3610615895809782, 0.4662054997420988, 0.4177651632086674, 0.3061185363900032, 0.40928221365325257, 0.1384656033136652, 0.202749208424937, 0.14737345241585156, 0.3242646319509128, 0.4201474004960095, 0.23237929559473194, 0.2743746222902289, 0.4966227816130714, 0.22999249075395145, 0.3479171660626553, 0.21769119966010889, 0.19816912927669325, 0.4074220943026222, 0.4946838257511416, 0.4840960791724729, 0.2477917532446891, 0.2726900869464112, 0.4275490490013143, 0.18765531207693129, 0.4891179038537578, 0.3714762932684845, 0.2439778927157883, 0.4511207275572832, 0.4990372753407616, 0.15863183288896807, 0.20812817679967227, 0.2849878549890054, 0.35551461837690623, 0.4157049447879672, 0.327872712445942, 0.3663145353707388, 0.3242438143308577, 0.32973586603527205, 0.3789960679709454, 0.4952583380936541, 0.3773061339870226, 0.4927029836274487, 0.2437286832111561, 0.3009151552867637, 0.3123846253658302, 0.42188890738449947, 0.3275284144944081, 0.3222362851042612, 0.2988863089424913, 0.2902692325038534, 0.2336750323163098, 0.24979755277288265, 0.4534923477463553, 0.4595310623767254, 0.15448386834442904, 0.2655762523180314, 0.2615281079460504, 0.4452959201431527, 0.32235069458697513, 0.38820870867742, 0.14489748358800394, 0.471286832175124, 0.2805916600202806, 0.1033214297867572, 0.4528859657355705, 0.4031637769381877, 0.1038588262969938, 0.21766947560341995, 0.44447699751802383, 0.20264265968019105, 0.2925741524614653, 0.4224299467715924, 0.13544031845179005, 0.2023390170409076, 0.4063425501059251, 0.4513187267985397, 0.30557967746865744, 0.14262574381386867, 0.1285993599853283, 0.4798868367463811, 0.1772466342685718, 0.2279082294508621, 0.36456634557139794, 0.17443372707025598, 0.3021793701067389, 0.10123707697659742, 0.3627806901751367, 0.20234374435585284, 0.2915603071819154, 0.3259571205748201, 0.14826700273461352, 0.4738384045740838, 0.4681862702161917, 0.31543595143867864, 0.4322186632878512, 0.1977295316892212, 0.20854094611877974, 0.343758199119698, 0.4415299320842931, 0.3940689073673868, 0.12843648654941325, 0.1165220385869891, 0.2114264858065543, 0.13752390014937652, 0.4473780334001817, 0.4684541413131813, 0.4061091279206531, 0.5012780069323823, 0.2028025872250622, 0.297155007375447, 0.2382557754046151, 0.308121422163742, 0.4706669680576411, 0.3478159448375453, 0.4362349926785101, 0.1432729865824698, 0.43240858744524413, 0.4377725062731155, 0.16214138459868166, 0.4945183068232133, 0.2494449404151773, 0.48934181831196205, 0.3469300347877224, 0.22410939542188252, 0.4254996070148275, 0.4744007892180413, 0.12840334427417965, 0.4993310885421832, 0.15761568878741605, 0.29661830083935903]\n"
     ]
    }
   ],
   "source": [
    "predicted_label=list(df.proba)\n",
    "print(predicted_label)"
   ]
  },
  {
   "cell_type": "code",
   "execution_count": 105,
   "metadata": {},
   "outputs": [],
   "source": [
    "for i in range(len(predicted_label)):\n",
    "    if(predicted_label[i]<0.5):\n",
    "        predicted_label[i]=0\n",
    "    else:\n",
    "        predicted_label[i]=1"
   ]
  },
  {
   "cell_type": "code",
   "execution_count": 108,
   "metadata": {},
   "outputs": [],
   "source": [
    "true_positive,false_positive,true_negative,false_negative=0,0,0,0"
   ]
  },
  {
   "cell_type": "code",
   "execution_count": 109,
   "metadata": {},
   "outputs": [],
   "source": [
    "for i in range(len(label)):\n",
    "    if(label[i]==0 and predicted_label[i]==0):\n",
    "        true_negative+=1\n",
    "    elif(label[i]==0 and predicted_label[i]==1):\n",
    "        false_positive+=1\n",
    "    elif(label[i]==1 and predicted_label[i]==0):\n",
    "        false_negative+=1\n",
    "    else:\n",
    "        true_positive+=1"
   ]
  },
  {
   "cell_type": "code",
   "execution_count": 110,
   "metadata": {},
   "outputs": [
    {
     "name": "stdout",
     "output_type": "stream",
     "text": [
      "True Positive: 55\n",
      "True Negative: 9761\n",
      "False Positive: 239\n",
      "False Negative: 45\n"
     ]
    }
   ],
   "source": [
    "print(\"True Positive: \"+str(true_positive))\n",
    "print(\"True Negative: \"+str(true_negative))\n",
    "print(\"False Positive: \"+str(false_positive))\n",
    "print(\"False Negative: \"+str(false_negative))"
   ]
  },
  {
   "cell_type": "code",
   "execution_count": 111,
   "metadata": {},
   "outputs": [],
   "source": [
    "precision=true_positive/(true_positive+false_positive)\n",
    "recall=true_positive/(true_positive+false_negative)"
   ]
  },
  {
   "cell_type": "code",
   "execution_count": 112,
   "metadata": {},
   "outputs": [
    {
     "name": "stdout",
     "output_type": "stream",
     "text": [
      "Precision: 0.1870748299319728\n",
      "Recall: 0.55\n"
     ]
    }
   ],
   "source": [
    "print(\"Precision: \"+str(precision))\n",
    "print(\"Recall: \"+str(recall))"
   ]
  },
  {
   "cell_type": "code",
   "execution_count": 113,
   "metadata": {},
   "outputs": [
    {
     "name": "stdout",
     "output_type": "stream",
     "text": [
      "F1 Score: 0.2791878172588833\n"
     ]
    }
   ],
   "source": [
    "F1_score=2*precision*recall/(precision+recall)\n",
    "print(\"F1 Score: \"+str(F1_score))"
   ]
  },
  {
   "cell_type": "code",
   "execution_count": 147,
   "metadata": {},
   "outputs": [],
   "source": [
    "count=0\n",
    "for i in range(len(predicted_label)):\n",
    "    if(predicted_label[i]==label[i]):\n",
    "        count=count+1\n",
    "        "
   ]
  },
  {
   "cell_type": "code",
   "execution_count": 148,
   "metadata": {},
   "outputs": [
    {
     "name": "stdout",
     "output_type": "stream",
     "text": [
      "Accuracy Score: 0.9613861386138614\n"
     ]
    }
   ],
   "source": [
    "print(\"Accuracy Score: \"+str(count/len(predicted_label)))"
   ]
  },
  {
   "cell_type": "code",
   "execution_count": 114,
   "metadata": {},
   "outputs": [],
   "source": [
    "proba=df['proba']\n",
    "label=df['y']"
   ]
  },
  {
   "cell_type": "code",
   "execution_count": 117,
   "metadata": {},
   "outputs": [],
   "source": [
    "\n",
    "new=[[0 for i in range(2)]for i in range(len(label))]"
   ]
  },
  {
   "cell_type": "code",
   "execution_count": 118,
   "metadata": {},
   "outputs": [],
   "source": [
    "for i in range(len(label)):\n",
    "    new[i][0]=proba[i]\n",
    "    new[i][1]=label[i]"
   ]
  },
  {
   "cell_type": "code",
   "execution_count": 119,
   "metadata": {},
   "outputs": [],
   "source": [
    "for i in range(len(label)):\n",
    "    for j in range(0, len(label)-i-1):  \n",
    "            if (new[j][0] > new[j + 1][0]):  \n",
    "                temp = new[j]  \n",
    "                new[j]= new[j + 1]  \n",
    "                new[j + 1]= temp  "
   ]
  },
  {
   "cell_type": "code",
   "execution_count": 121,
   "metadata": {},
   "outputs": [],
   "source": [
    "for i in range(len(label)):\n",
    "    proba[i]=new[i][0]\n",
    "    label[i]=new[i][1]"
   ]
  },
  {
   "cell_type": "code",
   "execution_count": 124,
   "metadata": {},
   "outputs": [],
   "source": [
    "tpr=list()\n",
    "fpr=list()"
   ]
  },
  {
   "cell_type": "code",
   "execution_count": 36,
   "metadata": {},
   "outputs": [],
   "source": [
    "tqdm=np.array(tqdm)\n"
   ]
  },
  {
   "cell_type": "code",
   "execution_count": 43,
   "metadata": {},
   "outputs": [],
   "source": [
    "from tqdm import tqdm"
   ]
  },
  {
   "cell_type": "code",
   "execution_count": 44,
   "metadata": {},
   "outputs": [
    {
     "name": "stderr",
     "output_type": "stream",
     "text": [
      "100%|████████████████████████████████████████████████████████████████████████████| 10100/10100 [02:58<00:00, 56.57it/s]\n"
     ]
    }
   ],
   "source": [
    "for i in tqdm(proba):\n",
    "    tou=i\n",
    "    new_label=np.array(df.proba)\n",
    "    for j in range(len(new_label)):\n",
    "        if(new_label[j]<tou):\n",
    "            new_label[j]=0\n",
    "        else:\n",
    "            new_label[j]=1\n",
    "    true_positive,true_negative,false_positive,false_negative=0,0,0,0\n",
    "    for k in range(len(new_label)):\n",
    "        if(label[k]==1 and new_label[k]==1):\n",
    "            true_positive+=1\n",
    "        elif(label[k]==1 and new_label[k]==0):\n",
    "            false_negative+=1\n",
    "        elif(label[k]==0 and new_label[k]==1):\n",
    "            false_positive+=1\n",
    "        else:\n",
    "            true_negative+=1\n",
    "    tpr.append(true_positive/(true_positive+false_negative))\n",
    "    fpr.append(false_positive/(false_positive+true_negative))"
   ]
  },
  {
   "cell_type": "code",
   "execution_count": 138,
   "metadata": {},
   "outputs": [
    {
     "data": {
      "image/png": "[encoded data removed]",
      "text/plain": [
       "<Figure size 432x288 with 1 Axes>"
      ]
     },
     "metadata": {},
     "output_type": "display_data"
    }
   ],
   "source": [
    "plt.plot(sorted(fpr),sorted(tpr))\n",
    "plt.plot(x,y)\n",
    "plt.xlabel(\"False Positive Rate\")\n",
    "plt.ylabel(\"True Positive Rate\")\n",
    "plt.show()"
   ]
  },
  {
   "cell_type": "code",
   "execution_count": 146,
   "metadata": {},
   "outputs": [
    {
     "data": {
      "text/plain": [
       "0.9377570000000001"
      ]
     },
     "execution_count": 146,
     "metadata": {},
     "output_type": "execute_result"
    }
   ],
   "source": [
    "np.trapz(sorted(tpr),sorted(fpr))"
   ]
  },
  {
   "cell_type": "markdown",
   "metadata": {},
   "source": [
    "# 3rd Question"
   ]
  },
  {
   "cell_type": "code",
   "execution_count": 190,
   "metadata": {},
   "outputs": [],
   "source": [
    "import pandas as pd\n",
    "import numpy as np"
   ]
  },
  {
   "cell_type": "code",
   "execution_count": 191,
   "metadata": {},
   "outputs": [],
   "source": [
    "df=pd.read_csv(\"5_c.csv\")"
   ]
  },
  {
   "cell_type": "code",
   "execution_count": 192,
   "metadata": {},
   "outputs": [
    {
     "name": "stdout",
     "output_type": "stream",
     "text": [
      "   y      prob\n",
      "0  0  0.458521\n",
      "1  0  0.505037\n",
      "2  0  0.418652\n",
      "3  0  0.412057\n",
      "4  0  0.375579\n"
     ]
    }
   ],
   "source": [
    "print(df.head())"
   ]
  },
  {
   "cell_type": "code",
   "execution_count": 193,
   "metadata": {},
   "outputs": [],
   "source": [
    "label=list(df.y)\n",
    "predicted_label=list(df.prob)\n"
   ]
  },
  {
   "cell_type": "code",
   "execution_count": 194,
   "metadata": {},
   "outputs": [],
   "source": [
    "\n",
    "new=[[0 for i in range(2)]for i in range(len(label))]"
   ]
  },
  {
   "cell_type": "code",
   "execution_count": 195,
   "metadata": {},
   "outputs": [],
   "source": [
    "for i in range(len(label)):\n",
    "    new[i][1]=label[i]\n",
    "    new[i][0]=predicted_label[i]"
   ]
  },
  {
   "cell_type": "code",
   "execution_count": 197,
   "metadata": {},
   "outputs": [],
   "source": [
    "for i in range(len(label)):\n",
    "    for j in range(0, len(label)-i-1):  \n",
    "            if (new[j][0] > new[j + 1][0]):  \n",
    "                temp = new[j]  \n",
    "                new[j]= new[j + 1]  \n",
    "                new[j + 1]= temp  "
   ]
  },
  {
   "cell_type": "code",
   "execution_count": 213,
   "metadata": {},
   "outputs": [],
   "source": [
    "for i in range(len(label)):\n",
    "    proba[i]=new[i][0]\n",
    "    label[i]=new[i][1]"
   ]
  },
  {
   "cell_type": "code",
   "execution_count": 215,
   "metadata": {},
   "outputs": [],
   "source": [
    "predicted_label=proba.copy()"
   ]
  },
  {
   "cell_type": "code",
   "execution_count": 217,
   "metadata": {},
   "outputs": [],
   "source": [
    "sum1=list()"
   ]
  },
  {
   "cell_type": "code",
   "execution_count": 218,
   "metadata": {},
   "outputs": [],
   "source": [
    "from tqdm import tqdm"
   ]
  },
  {
   "cell_type": "code",
   "execution_count": 220,
   "metadata": {},
   "outputs": [
    {
     "name": "stderr",
     "output_type": "stream",
     "text": [
      "100%|█████████████████████████████████████████████████████████████████████████████| 2852/2852 [00:09<00:00, 308.25it/s]\n"
     ]
    }
   ],
   "source": [
    "for i in tqdm(predicted_label):\n",
    "    proba=list(predicted_label)\n",
    "    for j in range(len(label)):\n",
    "        if(proba[j]<i):\n",
    "            proba[j]=0\n",
    "        else:\n",
    "            proba[j]=1\n",
    "    true_positive,false_negative,true_negative,false_positive=0,0,0,0\n",
    "    for k in range(len(label)):\n",
    "        if(label[k]==0 and proba[k]==0):\n",
    "            true_negative+=1\n",
    "        elif(label[k]==0 and proba[k]==1):\n",
    "            false_positive+=1\n",
    "        elif(label[k]==1 and proba[k]==0):\n",
    "            false_negative+=1\n",
    "        else:\n",
    "            true_positive+=1\n",
    "    sum1.append(500*false_negative+100*false_positive)\n",
    "            \n",
    "            "
   ]
  },
  {
   "cell_type": "code",
   "execution_count": 221,
   "metadata": {},
   "outputs": [],
   "source": [
    "index=sum1.index(min(sum1))"
   ]
  },
  {
   "cell_type": "code",
   "execution_count": 222,
   "metadata": {},
   "outputs": [
    {
     "name": "stdout",
     "output_type": "stream",
     "text": [
      "Best Thresold Value: 0.2300390278970873\n"
     ]
    }
   ],
   "source": [
    "print(\"Best Thresold Value: \"+str(new[index][0]))"
   ]
  },
  {
   "cell_type": "markdown",
   "metadata": {},
   "source": [
    "# Question no:4"
   ]
  },
  {
   "cell_type": "code",
   "execution_count": 4,
   "metadata": {},
   "outputs": [],
   "source": [
    "df=pd.read_csv(\"5_d.csv\")"
   ]
  },
  {
   "cell_type": "code",
   "execution_count": 5,
   "metadata": {},
   "outputs": [
    {
     "data": {
      "text/html": [
       "<div>\n",
       "<style scoped>\n",
       "    .dataframe tbody tr th:only-of-type {\n",
       "        vertical-align: middle;\n",
       "    }\n",
       "\n",
       "    .dataframe tbody tr th {\n",
       "        vertical-align: top;\n",
       "    }\n",
       "\n",
       "    .dataframe thead th {\n",
       "        text-align: right;\n",
       "    }\n",
       "</style>\n",
       "<table border=\"1\" class=\"dataframe\">\n",
       "  <thead>\n",
       "    <tr style=\"text-align: right;\">\n",
       "      <th></th>\n",
       "      <th>y</th>\n",
       "      <th>pred</th>\n",
       "    </tr>\n",
       "  </thead>\n",
       "  <tbody>\n",
       "    <tr>\n",
       "      <th>0</th>\n",
       "      <td>101.0</td>\n",
       "      <td>100.0</td>\n",
       "    </tr>\n",
       "    <tr>\n",
       "      <th>1</th>\n",
       "      <td>120.0</td>\n",
       "      <td>100.0</td>\n",
       "    </tr>\n",
       "    <tr>\n",
       "      <th>2</th>\n",
       "      <td>131.0</td>\n",
       "      <td>113.0</td>\n",
       "    </tr>\n",
       "    <tr>\n",
       "      <th>3</th>\n",
       "      <td>164.0</td>\n",
       "      <td>125.0</td>\n",
       "    </tr>\n",
       "    <tr>\n",
       "      <th>4</th>\n",
       "      <td>154.0</td>\n",
       "      <td>152.0</td>\n",
       "    </tr>\n",
       "  </tbody>\n",
       "</table>\n",
       "</div>"
      ],
      "text/plain": [
       "       y   pred\n",
       "0  101.0  100.0\n",
       "1  120.0  100.0\n",
       "2  131.0  113.0\n",
       "3  164.0  125.0\n",
       "4  154.0  152.0"
      ]
     },
     "execution_count": 5,
     "metadata": {},
     "output_type": "execute_result"
    }
   ],
   "source": [
    "df.head()"
   ]
  },
  {
   "cell_type": "code",
   "execution_count": 6,
   "metadata": {},
   "outputs": [],
   "source": [
    "y=df['y']"
   ]
  },
  {
   "cell_type": "code",
   "execution_count": 20,
   "metadata": {},
   "outputs": [],
   "source": [
    "avg=0"
   ]
  },
  {
   "cell_type": "code",
   "execution_count": 21,
   "metadata": {},
   "outputs": [],
   "source": [
    "for i in range(len(df)):\n",
    "    avg=avg+(y[i]-pred[i])*(y[i]-pred[i])"
   ]
  },
  {
   "cell_type": "code",
   "execution_count": 22,
   "metadata": {},
   "outputs": [
    {
     "name": "stdout",
     "output_type": "stream",
     "text": [
      "27850448.0\n"
     ]
    }
   ],
   "source": [
    "print(avg)\n",
    "avg=avg/len(df)"
   ]
  },
  {
   "cell_type": "code",
   "execution_count": 23,
   "metadata": {},
   "outputs": [
    {
     "name": "stdout",
     "output_type": "stream",
     "text": [
      "Mean Square Error: 177.16569974554707\n"
     ]
    }
   ],
   "source": [
    "print(\"Mean Square Error: \"+str(avg))"
   ]
  },
  {
   "cell_type": "code",
   "execution_count": 27,
   "metadata": {},
   "outputs": [],
   "source": [
    "avg_act=sum(y)/len(y)"
   ]
  },
  {
   "cell_type": "code",
   "execution_count": 28,
   "metadata": {},
   "outputs": [
    {
     "name": "stdout",
     "output_type": "stream",
     "text": [
      "66.56208651399491\n"
     ]
    }
   ],
   "source": [
    "print(avg_act)"
   ]
  },
  {
   "cell_type": "code",
   "execution_count": 42,
   "metadata": {},
   "outputs": [],
   "source": [
    "mape=0"
   ]
  },
  {
   "cell_type": "code",
   "execution_count": 43,
   "metadata": {},
   "outputs": [],
   "source": [
    "for i in range(len(df)):\n",
    "    mape=mape+abs(y[i]-pred[i])/avg_act"
   ]
  },
  {
   "cell_type": "code",
   "execution_count": 44,
   "metadata": {},
   "outputs": [],
   "source": [
    "mape=mape/len(y)\n"
   ]
  },
  {
   "cell_type": "code",
   "execution_count": 45,
   "metadata": {},
   "outputs": [
    {
     "name": "stdout",
     "output_type": "stream",
     "text": [
      "Mape: 0.12912029940096315\n"
     ]
    }
   ],
   "source": [
    "print(\"Mape: \"+str(mape))"
   ]
  },
  {
   "cell_type": "code",
   "execution_count": 47,
   "metadata": {},
   "outputs": [],
   "source": [
    "res=0\n",
    "tot=0"
   ]
  },
  {
   "cell_type": "code",
   "execution_count": 48,
   "metadata": {},
   "outputs": [],
   "source": [
    "for i in range(len(y)):\n",
    "    res=res+(y[i]-pred[i])*(y[i]-pred[i])\n",
    "    \n",
    "    "
   ]
  },
  {
   "cell_type": "code",
   "execution_count": 49,
   "metadata": {},
   "outputs": [],
   "source": [
    "for i in range(len(y)):\n",
    "    tot=tot+(y[i]-avg_act)*(y[i]-avg_act)"
   ]
  },
  {
   "cell_type": "code",
   "execution_count": 50,
   "metadata": {},
   "outputs": [
    {
     "name": "stdout",
     "output_type": "stream",
     "text": [
      "27850448.0\n"
     ]
    }
   ],
   "source": [
    "print(res)"
   ]
  },
  {
   "cell_type": "code",
   "execution_count": 51,
   "metadata": {},
   "outputs": [
    {
     "name": "stdout",
     "output_type": "stream",
     "text": [
      "638161080.035662\n"
     ]
    }
   ],
   "source": [
    "print(tot)"
   ]
  },
  {
   "cell_type": "code",
   "execution_count": 53,
   "metadata": {},
   "outputs": [
    {
     "name": "stdout",
     "output_type": "stream",
     "text": [
      "R^2: 0.9563582786990964\n"
     ]
    }
   ],
   "source": [
    "print(\"R^2: \"+str(1-res/tot))"
   ]
  },
  {
   "cell_type": "code",
   "execution_count": null,
   "metadata": {},
   "outputs": [],
   "source": []
  }
 ],
 "metadata": {
  "kernelspec": {
   "display_name": "Python 3",
   "language": "python",
   "name": "python3"
  },
  "language_info": {
   "codemirror_mode": {
    "name": "ipython",
    "version": 3
   },
   "file_extension": ".py",
   "mimetype": "text/x-python",
   "name": "python",
   "nbconvert_exporter": "python",
   "pygments_lexer": "ipython3",
   "version": "3.6.5"
  }
 },
 "nbformat": 4,
 "nbformat_minor": 2
}
