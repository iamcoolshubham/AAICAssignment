{
 "cells": [
  {
   "cell_type": "markdown",
   "metadata": {},
   "source": [
    "# Optional Assignment\n"
   ]
  },
  {
   "cell_type": "markdown",
   "metadata": {},
   "source": [
    "question 1"
   ]
  },
  {
   "cell_type": "code",
   "execution_count": 22,
   "metadata": {},
   "outputs": [
    {
     "name": "stdout",
     "output_type": "stream",
     "text": [
      "Enter the number45\n",
      "45\n",
      "90\n",
      "135\n",
      "180\n",
      "225\n",
      "270\n",
      "315\n",
      "360\n",
      "405\n",
      "450\n"
     ]
    }
   ],
   "source": [
    "def mul(num):\n",
    "    for i in range(1,11):\n",
    "        print(num*i)\n",
    "num=int(input(\"Enter the number\"))\n",
    "mul(num)"
   ]
  },
  {
   "cell_type": "markdown",
   "metadata": {},
   "source": [
    "question 2"
   ]
  },
  {
   "cell_type": "code",
   "execution_count": 23,
   "metadata": {},
   "outputs": [
    {
     "name": "stdout",
     "output_type": "stream",
     "text": [
      "3 5\n",
      "5 7\n",
      "11 13\n",
      "17 19\n",
      "29 31\n",
      "41 43\n",
      "59 61\n",
      "71 73\n",
      "101 103\n",
      "107 109\n",
      "137 139\n",
      "149 151\n",
      "179 181\n",
      "191 193\n",
      "197 199\n",
      "227 229\n",
      "239 241\n",
      "269 271\n",
      "281 283\n",
      "311 313\n",
      "347 349\n",
      "419 421\n",
      "431 433\n",
      "461 463\n",
      "521 523\n",
      "569 571\n",
      "599 601\n",
      "617 619\n",
      "641 643\n",
      "659 661\n",
      "809 811\n",
      "821 823\n",
      "827 829\n",
      "857 859\n",
      "881 883\n"
     ]
    }
   ],
   "source": [
    "def primes(a,b):\n",
    "    count=0\n",
    "    count1=0\n",
    "    for k in range(2,a+1):\n",
    "        if(a%k==0):\n",
    "            count=count+1\n",
    "    for k in range(2,b+1):\n",
    "        if(b%k==0):\n",
    "            count1=count1+1\n",
    "    if((count) ==1):\n",
    "        if(count1 ==1):\n",
    "            print(a,b)\n",
    "for i in range(3,1000):\n",
    "    primes(i,i+2)"
   ]
  },
  {
   "cell_type": "markdown",
   "metadata": {},
   "source": [
    "question 3"
   ]
  },
  {
   "cell_type": "code",
   "execution_count": 24,
   "metadata": {},
   "outputs": [
    {
     "name": "stdout",
     "output_type": "stream",
     "text": [
      "Enter a number56\n",
      "2\n",
      "2\n",
      "2\n",
      "7\n"
     ]
    }
   ],
   "source": [
    "count=0\n",
    "l=[]\n",
    "x=int(input('Enter a number'))\n",
    "i=2\n",
    "while(x>1):\n",
    "    if(x%i==0):\n",
    "        l.append(i)\n",
    "        x=x/i\n",
    "    else:\n",
    "        i=i+1\n",
    "def prime(y):\n",
    "    count=0\n",
    "    for j in range(2,y):\n",
    "        if(y%j==0):\n",
    "            count=count+1\n",
    "    if count==0:\n",
    "        print(y)\n",
    "        \n",
    "for i in range(len(l)):\n",
    "    prime(l[i])\n",
    "    \n"
   ]
  },
  {
   "cell_type": "markdown",
   "metadata": {},
   "source": [
    "Question 4"
   ]
  },
  {
   "cell_type": "code",
   "execution_count": 25,
   "metadata": {},
   "outputs": [
    {
     "name": "stdout",
     "output_type": "stream",
     "text": [
      "Enter the value of n8\n",
      "Enter the value of r2\n",
      "permutation = 56.0\n",
      "combination = 28.0\n"
     ]
    }
   ],
   "source": [
    "n=int(input('Enter the value of n'))\n",
    "r=int(input('Enter the value of r'))\n",
    "x=1\n",
    "for i in range(1,n+1):\n",
    "    x=x*i\n",
    "for i in range(1,n-r+1):\n",
    "    x=x/i\n",
    "print('permutation = {0}'.format(x))\n",
    "for i in range(1,r+1):\n",
    "    x=x/i\n",
    "print('combination = {0}'.format(x))"
   ]
  },
  {
   "cell_type": "markdown",
   "metadata": {},
   "source": [
    "Question 5"
   ]
  },
  {
   "cell_type": "code",
   "execution_count": 26,
   "metadata": {},
   "outputs": [
    {
     "name": "stdout",
     "output_type": "stream",
     "text": [
      "Enter the number in decimal form45\n",
      "101101\n"
     ]
    }
   ],
   "source": [
    "x=int(input('Enter the number in decimal form'))\n",
    "l=[]\n",
    "y=0\n",
    "while(x>0):\n",
    "    d=x%2\n",
    "    \n",
    "    l.append(d)\n",
    "    x=int(x/2)\n",
    "l=l[::-1]\n",
    "for i in range(len(l)):\n",
    "    y=y*10+l[i]\n",
    "print(y)\n",
    "    "
   ]
  },
  {
   "cell_type": "markdown",
   "metadata": {},
   "source": [
    "Question 6"
   ]
  },
  {
   "cell_type": "code",
   "execution_count": 27,
   "metadata": {},
   "outputs": [
    {
     "name": "stdout",
     "output_type": "stream",
     "text": [
      "Enter an integer500\n",
      "sum of cube of individual number is 125\n",
      "Enter the no till which you want to print armstrong no500\n",
      "1 is armstrong no\n",
      "153 is armstrong no\n",
      "370 is armstrong no\n",
      "371 is armstrong no\n",
      "407 is armstrong no\n"
     ]
    }
   ],
   "source": [
    "def isarmstrong(x):\n",
    "    y=0\n",
    "    y=x\n",
    "    sum=0\n",
    "    while(x>0):\n",
    "        d=x%10\n",
    "        sum=sum+d*d*d\n",
    "        x=int(x/10)\n",
    "    if sum==y:\n",
    "        print('{} is armstrong no'.format(y))\n",
    "def printarmstrong():\n",
    "    x=int(input('Enter the no till which you want to print armstrong no'))\n",
    "    for i in range(1,x+1):\n",
    "        isarmstrong(i)\n",
    "        \n",
    "        \n",
    "        \n",
    "    \n",
    "def cubesum():\n",
    "    x=int(input('Enter an integer'))\n",
    "    y=0\n",
    "    y=x\n",
    "    sum=0\n",
    "    while(x>0):\n",
    "        d=x%10\n",
    "        sum=sum+d*d*d\n",
    "        x=int(x/10)\n",
    "    print('sum of cube of individual number is {0}'.format(sum))\n",
    "    printarmstrong()\n",
    "cubesum()\n",
    "\n",
    "    "
   ]
  },
  {
   "cell_type": "markdown",
   "metadata": {},
   "source": [
    "Question 7"
   ]
  },
  {
   "cell_type": "code",
   "execution_count": 28,
   "metadata": {},
   "outputs": [
    {
     "name": "stdout",
     "output_type": "stream",
     "text": [
      "Enter a number125\n",
      "The product of the digits of the no  125 is 10\n"
     ]
    }
   ],
   "source": [
    "x=int(input('Enter a number'))\n",
    "def prodDigit(x): \n",
    "    y=x\n",
    "    prod=1\n",
    "    while(y>0):\n",
    "        d=int(y%10);\n",
    "        prod=prod*d\n",
    "        y=int(y/10)\n",
    "    return prod\n",
    "z=prodDigit(x)\n",
    "print('The product of the digits of the no  {0} is'.format(x),format(z))"
   ]
  },
  {
   "cell_type": "code",
   "execution_count": null,
   "metadata": {},
   "outputs": [],
   "source": [
    "Question 8"
   ]
  },
  {
   "cell_type": "code",
   "execution_count": 29,
   "metadata": {},
   "outputs": [
    {
     "name": "stdout",
     "output_type": "stream",
     "text": [
      "Enter the value of n86\n",
      "MDR VALUE IS : 6\n",
      "MPersistence value is : 3\n"
     ]
    }
   ],
   "source": [
    "n=int(input(\"Enter the value of n\"))\n",
    "def prodDigit(x):\n",
    "    p=1\n",
    "    while(x>0):\n",
    "        d=x%10\n",
    "        p=p*d\n",
    "        x=int(x/10)\n",
    "    return p\n",
    "def MDR(n):\n",
    "    y=n\n",
    "    count=0\n",
    "    while(y>9):\n",
    "        y=prodDigit(y)\n",
    "        count=count+1\n",
    "    print(\"MDR VALUE IS : {0}\".format(y))\n",
    "    return count\n",
    "def MPersistence():\n",
    "    z=MDR(n)\n",
    "    print(\"MPersistence value is : {0}\".format(z))\n",
    "MPersistence()"
   ]
  },
  {
   "cell_type": "markdown",
   "metadata": {},
   "source": [
    "Question 9"
   ]
  },
  {
   "cell_type": "code",
   "execution_count": 30,
   "metadata": {},
   "outputs": [
    {
     "name": "stdout",
     "output_type": "stream",
     "text": [
      "Enter a number15\n",
      "9\n"
     ]
    }
   ],
   "source": [
    "n=int(input(\"Enter a number\"))\n",
    "def sumPdivisors(n):\n",
    "    sum1=0\n",
    "    for i in range(1,n):\n",
    "        if(n%i==0):\n",
    "             sum1= sum1+i\n",
    "    print(sum1)\n",
    "sumPdivisors(n)            "
   ]
  },
  {
   "cell_type": "markdown",
   "metadata": {},
   "source": [
    "Question 10"
   ]
  },
  {
   "cell_type": "code",
   "execution_count": 31,
   "metadata": {},
   "outputs": [
    {
     "name": "stdout",
     "output_type": "stream",
     "text": [
      "Enter the range of the number1000\n",
      "6\n",
      "28\n",
      "496\n"
     ]
    }
   ],
   "source": [
    "n=int(input('Enter the range of the number'))\n",
    "def perfect(x):\n",
    "    sum=0\n",
    "    for i in range(1,x):\n",
    "        if(x%i==0):\n",
    "            sum=sum+i\n",
    "    if(sum==x):\n",
    "        print(x)\n",
    "for j in range(6,n+1):\n",
    "    perfect(j)\n",
    "            \n",
    "        "
   ]
  },
  {
   "cell_type": "markdown",
   "metadata": {},
   "source": [
    "Question 11"
   ]
  },
  {
   "cell_type": "code",
   "execution_count": 32,
   "metadata": {},
   "outputs": [
    {
     "name": "stdout",
     "output_type": "stream",
     "text": [
      "Enter the range of number500\n",
      "220 284\n"
     ]
    }
   ],
   "source": [
    "n=int(input('Enter the range of number'))\n",
    "def deter(m,n):\n",
    "    sum2=0\n",
    "    for a in range(1,m):\n",
    "        if(m%a==0):\n",
    "            sum2=sum2+a\n",
    "    sum1=0\n",
    "    for a in range(1,n):\n",
    "        if(n%a==0):\n",
    "            sum1=sum1+a\n",
    "    if(sum1==m and sum2==n):\n",
    "        print(str(m) + \" \"+ str(n))\n",
    "        #print(sum1)\n",
    "        #print(sum2)\n",
    "    \n",
    "for i in range(1,n+1):\n",
    "    for j in range(1,n+1):\n",
    "        if (i!=j and i<j):\n",
    "            deter(i,j)"
   ]
  },
  {
   "cell_type": "markdown",
   "metadata": {},
   "source": [
    "Question 12"
   ]
  },
  {
   "cell_type": "code",
   "execution_count": 33,
   "metadata": {},
   "outputs": [
    {
     "name": "stdout",
     "output_type": "stream",
     "text": [
      "[7, 5, 13, 87, 963, 125, 87]\n"
     ]
    }
   ],
   "source": [
    "x=[8,6,7,12,5,13,87,963,125,84,87,154]\n",
    "y=filter(lambda z:z%2!=0,x)\n",
    "print(list(y))"
   ]
  },
  {
   "cell_type": "markdown",
   "metadata": {},
   "source": [
    "Question 13"
   ]
  },
  {
   "cell_type": "code",
   "execution_count": 34,
   "metadata": {},
   "outputs": [
    {
     "name": "stdout",
     "output_type": "stream",
     "text": [
      "[64, 512, 343, 1, 8, 27]\n"
     ]
    }
   ],
   "source": [
    "def cube(n):\n",
    "    return n*n*n\n",
    "num=[4,8,7,1,2,3]\n",
    "l=map(cube,num)\n",
    "print(list(l))"
   ]
  },
  {
   "cell_type": "markdown",
   "metadata": {},
   "source": [
    "Question 14"
   ]
  },
  {
   "cell_type": "code",
   "execution_count": 35,
   "metadata": {},
   "outputs": [
    {
     "name": "stdout",
     "output_type": "stream",
     "text": [
      "[64, 512, 8]\n"
     ]
    }
   ],
   "source": [
    "m=filter(lambda x: x%2==0,map(cube,num))\n",
    "print(list(m))"
   ]
  },
  {
   "cell_type": "code",
   "execution_count": null,
   "metadata": {},
   "outputs": [],
   "source": []
  }
 ],
 "metadata": {
  "kernelspec": {
   "display_name": "Python 3",
   "language": "python",
   "name": "python3"
  },
  "language_info": {
   "codemirror_mode": {
    "name": "ipython",
    "version": 3
   },
   "file_extension": ".py",
   "mimetype": "text/x-python",
   "name": "python",
   "nbconvert_exporter": "python",
   "pygments_lexer": "ipython3",
   "version": "3.6.5"
  }
 },
 "nbformat": 4,
 "nbformat_minor": 2
}
